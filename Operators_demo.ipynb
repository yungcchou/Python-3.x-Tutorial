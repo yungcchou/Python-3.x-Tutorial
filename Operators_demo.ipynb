{
 "cells": [
  {
   "cell_type": "code",
   "execution_count": 3,
   "metadata": {},
   "outputs": [
    {
     "name": "stdout",
     "output_type": "stream",
     "text": [
      "2 + 3 = 5\n",
      "2 - 3 = -1\n",
      "2 * 3 = 6\n",
      "2 / 3 = 0.6666666666666666\n",
      "2 // 3 = 0\n",
      "2 % 3 = 2\n",
      "2 ** 3 = 8\n",
      "2 > 3 = False\n",
      "2 < 3 = True\n",
      "2 == 3 = False\n",
      "2 != 3 = True\n",
      "2 >= 3 = False\n",
      "2 <= 3 = True\n",
      "2 and 3 = 3\n",
      "2 or 3 = 2\n",
      "not 2 = False\n",
      "not 3 = False\n",
      "2 & 3 = 2\n",
      "2 | 3 = 3\n",
      "2 ^ 3 = 1\n",
      "2 << 1 = 4\n",
      "2 >> 1 = 1\n",
      "2 is 3 = False\n",
      "2 is not 3 = True\n"
     ]
    }
   ],
   "source": [
    "x = 2\n",
    "y = 3 \n",
    "print( f'{x} + {y} = {x + y}' )\n",
    "print( f'{x} - {y} = {x - y}' )\n",
    "print( f'{x} * {y} = {x * y}' )\n",
    "print( f'{x} / {y} = {x / y}' )\n",
    "print( f'{x} // {y} = {x // y}' )\n",
    "print( f'{x} % {y} = {x % y}' )\n",
    "print( f'{x} ** {y} = {x ** y}' )\n",
    "print( f'{x} > {y} = {x > y}' )\n",
    "print( f'{x} < {y} = {x < y}' )\n",
    "print( f'{x} == {y} = {x == y}' )\n",
    "print( f'{x} != {y} = {x != y}' )\n",
    "print( f'{x} >= {y} = {x >= y}' )\n",
    "print( f'{x} <= {y} = {x <= y}' )\n",
    "print( f'{x} and {y} = {x and y}' )\n",
    "print( f'{x} or {y} = {x or y}' )\n",
    "print( f'not {x} = {not x}' )\n",
    "print( f'not {y} = {not y}' )\n",
    "print( f'{x} & {y} = {x & y}' )\n",
    "print( f'{x} | {y} = {x | y}' )\n",
    "print( f'{x} ^ {y} = {x ^ y}' )\n",
    "print( f'{x} << 1 = {x << 1}' )\n",
    "print( f'{x} >> 1 = {x >> 1}' )\n",
    "print( f'{x} is {y} = {x is y}' )\n",
    "print( f'{x} is not {y} = {x is not y}' )"
   ]
  }
 ],
 "metadata": {
  "kernelspec": {
   "display_name": "113_Python",
   "language": "python",
   "name": "python3"
  },
  "language_info": {
   "codemirror_mode": {
    "name": "ipython",
    "version": 3
   },
   "file_extension": ".py",
   "mimetype": "text/x-python",
   "name": "python",
   "nbconvert_exporter": "python",
   "pygments_lexer": "ipython3",
   "version": "3.11.9"
  }
 },
 "nbformat": 4,
 "nbformat_minor": 2
}
