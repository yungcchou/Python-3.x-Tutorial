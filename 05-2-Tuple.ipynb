{
 "cells": [
  {
   "cell_type": "markdown",
   "metadata": {},
   "source": [
    "# Tuple 元組\n",
    "- 在 Python 中，**Tuple（元組）** 是一種不可變的序列類型，意思是元組一旦建立後，就無法更改其元素，無法新增、刪除或修改。元組與列表（list）相似，但主要用於儲存不可改變的數據。\n",
    "\n",
    "### Tuple 的主要特點：\n",
    "1. **不可變（Immutable）**：元組一旦建立，內容就無法更改。這種不可變性有助於程式的穩定性，適合用來存放不會變動的資料。\n",
    "2. **有序（Ordered）**：元組中的元素是有序的，順序不會改變。\n",
    "3. **使用小括號定義**：元組使用小括號 `()` 定義，並用逗號分隔元素，例如：`my_tuple = (1, 2, 3)`。\n",
    "4. **支持多種數據類型**：元組可以包含不同類型的數據，例如 `mixed_tuple = (1, \"apple\", 3.14)`。\n",
    "\n",
    "### 為什麼使用元組？\n",
    "- **數據完整性**：由於元組不可變，因此可以保證數據在程式運行過程中不會被意外更改。\n",
    "- **記憶體效率**：元組通常比列表更省記憶體，在某些情況下執行速度會更快。\n",
    "- **字典的 key**：元組可以用作字典的鍵（因為它們是不可變的），而列表不能。\n",
    "\n",
    "- Python 中的元組(`tuple`)適合用於儲存`固定不變的資料`，比如設定 **檔案**、**座標點**、或其他不應更改的資訊。"
   ]
  },
  {
   "cell_type": "code",
   "execution_count": 4,
   "metadata": {},
   "outputs": [
    {
     "name": "stdout",
     "output_type": "stream",
     "text": [
      "<class 'tuple'>\n"
     ]
    }
   ],
   "source": [
    "tup1 = ()\n",
    "print( type(tup1) )"
   ]
  },
  {
   "cell_type": "markdown",
   "metadata": {},
   "source": [
    "#### single item tuple"
   ]
  },
  {
   "cell_type": "code",
   "execution_count": 2,
   "metadata": {},
   "outputs": [
    {
     "name": "stdout",
     "output_type": "stream",
     "text": [
      "tup2: ('TOYOTA',)\n"
     ]
    }
   ],
   "source": [
    "tup2 = ( 'TOYOTA', )\n",
    "print( f\"tup2: {tup2}\")"
   ]
  },
  {
   "cell_type": "markdown",
   "metadata": {},
   "source": [
    "使用 `('TOYOTA')`建立 tuple 物件時只給一個字串且在字串後沒有加 `,` 符號，則 tuple 不會被建立，只會是一個 `str` (字串物件)"
   ]
  },
  {
   "cell_type": "code",
   "execution_count": 1,
   "metadata": {},
   "outputs": [
    {
     "name": "stdout",
     "output_type": "stream",
     "text": [
      "type of tup2: <class 'str'>\n",
      "tup2: TOYOTA\n"
     ]
    }
   ],
   "source": [
    "tup2 = ( 'TOYOTA' )\n",
    "print( f\"type of tup2: {type( tup2 )}\")\n",
    "print( f\"tup2: {tup2}\")"
   ]
  },
  {
   "cell_type": "markdown",
   "metadata": {},
   "source": [
    "使用 Tuple 類別的建構元 `tuple()` 建立 `tuple` 物件時，輸入如果是一個字串，則字串的每一個字母都會變成是新建 `tuple` 裡的元素"
   ]
  },
  {
   "cell_type": "code",
   "execution_count": 3,
   "metadata": {},
   "outputs": [
    {
     "name": "stdout",
     "output_type": "stream",
     "text": [
      "('N', 'I', 'S', 'S', 'A', 'N') <class 'tuple'>\n"
     ]
    }
   ],
   "source": [
    "tup3 = tuple( 'NISSAN', )\n",
    "print( tup3, type(tup3) )"
   ]
  },
  {
   "cell_type": "markdown",
   "metadata": {},
   "source": [
    "解決使用 `tuple()` 建構元建立一個只有一個字串物件的 `tuple`，作法是在 `tuple()` 裡再用 `()` 符號將要建立的字串資料傳給 `tuple()` 建構元去建立物件"
   ]
  },
  {
   "cell_type": "code",
   "execution_count": 5,
   "metadata": {},
   "outputs": [
    {
     "name": "stdout",
     "output_type": "stream",
     "text": [
      "tup3: ('N', 'I', 'S', 'S', 'A', 'N'), type(tup3): <class 'tuple'>\n",
      "tup4: ('SUZUKI',), type(tup4): <class 'tuple'>\n"
     ]
    }
   ],
   "source": [
    "tup3 = tuple( ('NISSAN' ) )\n",
    "print( f\"tup3: {tup3}, type(tup3): {type(tup3)}\" )\n",
    "\n",
    "tup4 = tuple( ('SUZUKI', ) )\n",
    "print( f\"tup4: {tup4}, type(tup4): {type(tup4)}\" )"
   ]
  },
  {
   "cell_type": "markdown",
   "metadata": {},
   "source": [
    "#### item order in a tuple"
   ]
  },
  {
   "cell_type": "code",
   "execution_count": 12,
   "metadata": {},
   "outputs": [
    {
     "name": "stdout",
     "output_type": "stream",
     "text": [
      "TOYOTA\t\tAUDI\n",
      "TOYOTA\t\tBENZ\n"
     ]
    }
   ],
   "source": [
    "tup4 = ( 'TOYOTA', 'NISSAN', 'AUDI', 'BENZ' )\n",
    "print( tup4[0], tup4[ -2 ], sep='\\t\\t')\n",
    "print( tup4[0], tup4[ len( tup4 ) - 1 ], sep='\\t\\t')"
   ]
  },
  {
   "cell_type": "code",
   "execution_count": 13,
   "metadata": {},
   "outputs": [
    {
     "name": "stdout",
     "output_type": "stream",
     "text": [
      "TOYOTA\t\tNISSAN\t\tAUDI\t\tBENZ\t\t\n",
      "Done\n"
     ]
    }
   ],
   "source": [
    "tup4 = ( 'TOYOTA', 'NISSAN', 'AUDI', 'BENZ' )\n",
    "for item in tup4:\n",
    "    print( item, end='\\t\\t')\n",
    "print( '\\nDone' )"
   ]
  },
  {
   "cell_type": "markdown",
   "metadata": {},
   "source": [
    "#### 使用 `enumerate()` 回傳 `tuple` 物件裡`元素`與`索引`\n",
    "\n",
    "在 Python 中，`enumerate()` 函數的作用是為一個可迭代對象（如列表、元組或字串）增加一個計數器，並返回一個 `enumerate` 對象，這個對象可以被轉換為包含索引和值的元組列表，或者直接用於迴圈中。當您在 `for` 迴圈中同時需要元素的索引和內容時，這個函數特別有用。\n",
    "\n",
    "### 語法\n",
    "```python\n",
    "enumerate(iterable, start=0)\n",
    "```\n",
    "\n",
    "- **iterable**：任何可迭代對象（例如列表、元組或字串）。\n",
    "- **start**：計數開始的索引（默認為 `0`）。\n",
    "\n",
    "### 主要功能\n",
    "- 為每個可迭代對象的元素添加索引。\n",
    "- 通常在需要同時取得索引和元素的迴圈中使用。\n",
    "- 返回的 `enumerate` 對象可以直接在 `for` 迴圈中使用，也可以轉換成列表來查看。\n",
    "\n",
    "### 使用範例\n",
    "1. **基本使用範例**：\n",
    "   ```python\n",
    "   fruits = ['apple', 'banana', 'cherry']\n",
    "   for index, fruit in enumerate(fruits):\n",
    "       print(index, fruit)\n",
    "   ```\n",
    "   **輸出**：\n",
    "   ```\n",
    "   0 apple\n",
    "   1 banana\n",
    "   2 cherry\n",
    "   ```\n",
    "\n",
    "2. **自訂開始索引**：\n",
    "   ```python\n",
    "   fruits = ['apple', 'banana', 'cherry']\n",
    "   for index, fruit in enumerate(fruits, start=1):\n",
    "       print(index, fruit)\n",
    "   ```\n",
    "   **輸出**：\n",
    "   ```\n",
    "   1 apple\n",
    "   2 banana\n",
    "   3 cherry\n",
    "   ```\n",
    "\n",
    "3. **轉換為列表**：\n",
    "   ```python\n",
    "   fruits = ['apple', 'banana', 'cherry']\n",
    "   print(list(enumerate(fruits)))\n",
    "   ```\n",
    "   **輸出**：\n",
    "   ```\n",
    "   [(0, 'apple'), (1, 'banana'), (2, 'cherry')]\n",
    "   ```\n",
    "\n",
    "### 使用場景\n",
    "- 當遍歷可迭代對象時，如果需要索引位置時非常有用。\n",
    "- 有助於除錯或統計元素。\n",
    "- 可以根據索引修改特定位置的元素。"
   ]
  },
  {
   "cell_type": "code",
   "execution_count": 8,
   "metadata": {},
   "outputs": [
    {
     "name": "stdout",
     "output_type": "stream",
     "text": [
      "0 TOYOTA\n",
      "1 NISSAN\n",
      "2 AUDI\n",
      "3 BENZ\n"
     ]
    }
   ],
   "source": [
    "tup4 = ( 'TOYOTA', 'NISSAN', 'AUDI', 'BENZ' )\n",
    "for idx, item in enumerate( tup4 ):\n",
    "    print( idx, item )"
   ]
  },
  {
   "cell_type": "code",
   "execution_count": 9,
   "metadata": {},
   "outputs": [
    {
     "name": "stdout",
     "output_type": "stream",
     "text": [
      "1 TOYOTA\n",
      "2 NISSAN\n",
      "3 AUDI\n",
      "4 BENZ\n"
     ]
    }
   ],
   "source": [
    "tup4 = ( 'TOYOTA', 'NISSAN', 'AUDI', 'BENZ' )\n",
    "for idx, item in enumerate( tup4, start=1 ):\n",
    "    print( idx, item )"
   ]
  },
  {
   "cell_type": "markdown",
   "metadata": {},
   "source": [
    "#### item in a tuple is unchangeable"
   ]
  },
  {
   "cell_type": "code",
   "execution_count": 10,
   "metadata": {},
   "outputs": [
    {
     "name": "stdout",
     "output_type": "stream",
     "text": [
      "0 TOYOTA\n",
      "1 NISSAN\n",
      "2 AUDI\n",
      "3 BENZ\n"
     ]
    },
    {
     "ename": "TypeError",
     "evalue": "'tuple' object does not support item assignment",
     "output_type": "error",
     "traceback": [
      "\u001b[0;31m---------------------------------------------------------------------------\u001b[0m",
      "\u001b[0;31mTypeError\u001b[0m                                 Traceback (most recent call last)",
      "Cell \u001b[0;32mIn[10], line 4\u001b[0m\n\u001b[1;32m      2\u001b[0m \u001b[38;5;28;01mfor\u001b[39;00m idx, item \u001b[38;5;129;01min\u001b[39;00m \u001b[38;5;28menumerate\u001b[39m( tup5 ):\n\u001b[1;32m      3\u001b[0m     \u001b[38;5;28mprint\u001b[39m( idx, item )\n\u001b[0;32m----> 4\u001b[0m \u001b[43mtup5\u001b[49m\u001b[43m[\u001b[49m\u001b[43m \u001b[49m\u001b[38;5;241;43m0\u001b[39;49m\u001b[43m \u001b[49m\u001b[43m]\u001b[49m \u001b[38;5;241m=\u001b[39m \u001b[38;5;124m'\u001b[39m\u001b[38;5;124mBMW\u001b[39m\u001b[38;5;124m'\u001b[39m\n\u001b[1;32m      5\u001b[0m \u001b[38;5;28;01mfor\u001b[39;00m idx, item \u001b[38;5;129;01min\u001b[39;00m \u001b[38;5;28menumerate\u001b[39m( tup5 ):\n\u001b[1;32m      6\u001b[0m     \u001b[38;5;28mprint\u001b[39m( idx, item )\n",
      "\u001b[0;31mTypeError\u001b[0m: 'tuple' object does not support item assignment"
     ]
    }
   ],
   "source": [
    "tup5 = ( 'TOYOTA', 'NISSAN', 'AUDI', 'BENZ' )\n",
    "for idx, item in enumerate( tup5 ):\n",
    "    print( idx, item )\n",
    "tup5[ 0 ] = 'BMW'\n",
    "for idx, item in enumerate( tup5 ):\n",
    "    print( idx, item )"
   ]
  },
  {
   "cell_type": "markdown",
   "metadata": {},
   "source": [
    "#### item order in tuple is Unchangeable "
   ]
  },
  {
   "cell_type": "code",
   "execution_count": 11,
   "metadata": {},
   "outputs": [
    {
     "name": "stdout",
     "output_type": "stream",
     "text": [
      "0 TOYOTA\n",
      "1 NISSAN\n",
      "2 AUDI\n",
      "3 BENZ\n",
      "-*--*--*--*--*--*--*--*--*--*-\n"
     ]
    },
    {
     "ename": "TypeError",
     "evalue": "'tuple' object does not support item assignment",
     "output_type": "error",
     "traceback": [
      "\u001b[0;31m---------------------------------------------------------------------------\u001b[0m",
      "\u001b[0;31mTypeError\u001b[0m                                 Traceback (most recent call last)",
      "Cell \u001b[0;32mIn[11], line 5\u001b[0m\n\u001b[1;32m      3\u001b[0m     \u001b[38;5;28mprint\u001b[39m( idx, item )\n\u001b[1;32m      4\u001b[0m \u001b[38;5;28mprint\u001b[39m( \u001b[38;5;124m'\u001b[39m\u001b[38;5;124m-*-\u001b[39m\u001b[38;5;124m'\u001b[39m \u001b[38;5;241m*\u001b[39m \u001b[38;5;241m10\u001b[39m )\n\u001b[0;32m----> 5\u001b[0m \u001b[43mtup5\u001b[49m\u001b[43m[\u001b[49m\u001b[43m \u001b[49m\u001b[38;5;241;43m0\u001b[39;49m\u001b[43m \u001b[49m\u001b[43m]\u001b[49m, tup5[ \u001b[38;5;241m2\u001b[39m ] \u001b[38;5;241m=\u001b[39m tup5[ \u001b[38;5;241m2\u001b[39m ], tup5[ \u001b[38;5;241m0\u001b[39m ]\n\u001b[1;32m      6\u001b[0m \u001b[38;5;28;01mfor\u001b[39;00m idx, item \u001b[38;5;129;01min\u001b[39;00m \u001b[38;5;28menumerate\u001b[39m( tup5 ):\n\u001b[1;32m      7\u001b[0m     \u001b[38;5;28mprint\u001b[39m( idx, item )\n",
      "\u001b[0;31mTypeError\u001b[0m: 'tuple' object does not support item assignment"
     ]
    }
   ],
   "source": [
    "tup5 = ( 'TOYOTA', 'NISSAN', 'AUDI', 'BENZ' )\n",
    "for idx, item in enumerate( tup5 ):\n",
    "    print( idx, item )\n",
    "print( '-*-' * 10 )\n",
    "tup5[ 0 ], tup5[ 2 ] = tup5[ 2 ], tup5[ 0 ]\n",
    "for idx, item in enumerate( tup5 ):\n",
    "    print( idx, item )"
   ]
  },
  {
   "cell_type": "markdown",
   "metadata": {},
   "source": [
    "#### item duplicate is allowed"
   ]
  },
  {
   "cell_type": "code",
   "execution_count": 17,
   "metadata": {},
   "outputs": [
    {
     "name": "stdout",
     "output_type": "stream",
     "text": [
      "0 Taiwan\n",
      "1 Taichung\n",
      "2 Taipei\n",
      "3 Japan\n",
      "4 KR\n",
      "5 Taichung\n",
      "6 Taiwan\n"
     ]
    }
   ],
   "source": [
    "tup6 = ( 'Taiwan', 'Taichung', 'Taipei', 'Japan', 'KR', 'Taichung', 'Taiwan')\n",
    "for idx, item in enumerate( tup6 ):\n",
    "    print( idx, item )"
   ]
  },
  {
   "cell_type": "markdown",
   "metadata": {},
   "source": [
    "#### Update item value in a tuple\n",
    "- 無法在元組中更新項目值。\n",
    "- 必須將元組轉換為列表，然後在列表中更新值，並將修改後的列表轉回元組。"
   ]
  },
  {
   "cell_type": "markdown",
   "metadata": {},
   "source": [
    "##### Add new item into a tuple"
   ]
  },
  {
   "cell_type": "code",
   "execution_count": 22,
   "metadata": {},
   "outputs": [
    {
     "name": "stdout",
     "output_type": "stream",
     "text": [
      "0 Apple\n",
      "1 ASUS\n",
      "2 HP\n",
      "3 DELL\n",
      "4 ACER\n",
      "---------------\n",
      "0 Apple\n",
      "1 ASUS\n",
      "2 HP\n",
      "3 DELL\n",
      "4 ACER\n",
      "5 SONY\n"
     ]
    }
   ],
   "source": [
    "tup7 = ( 'Apple', 'ASUS', 'HP', 'DELL', 'ACER' )\n",
    "for idx, item in enumerate( tup7 ):\n",
    "    print( idx, item )\n",
    "print( '---' * 5 )\n",
    "tmpList = list( tup7 )\n",
    "tmpList.append( 'SONY' )\n",
    "tup7 = tuple( tmpList )\n",
    "for idx, item in enumerate( tup7 ):\n",
    "    print( idx, item )"
   ]
  },
  {
   "cell_type": "markdown",
   "metadata": {},
   "source": [
    "##### Add a tuple to an existed tuple"
   ]
  },
  {
   "cell_type": "code",
   "execution_count": 24,
   "metadata": {},
   "outputs": [
    {
     "name": "stdout",
     "output_type": "stream",
     "text": [
      "0 Apple\n",
      "1 ASUS\n",
      "2 HP\n",
      "3 DELL\n",
      "4 ACER\n",
      "---------------\n",
      "0 Apple\n",
      "1 ASUS\n",
      "2 HP\n",
      "3 DELL\n",
      "4 ACER\n",
      "5 ('SONY', 'Gigabyte', 'MIS')\n",
      "=^==^==^==^==^=\n",
      "0 SONY\n",
      "1 Gigabyte\n",
      "2 MIS\n"
     ]
    }
   ],
   "source": [
    "tup7 = ( 'Apple', 'ASUS', 'HP', 'DELL', 'ACER' )\n",
    "for idx, item in enumerate( tup7 ):\n",
    "    print( idx, item )\n",
    "print( '---' * 5 )\n",
    "\n",
    "tmpList = list( tup7 )\n",
    "tmpList.append( ('SONY', 'Gigabyte', 'MIS' ) )\n",
    "tup7 = tuple( tmpList )\n",
    "for idx, item in enumerate( tup7 ):\n",
    "    print( idx, item )\n",
    "print( '=^=' * 5 )\n",
    "\n",
    "for idx, item in enumerate( tup7[-1] ):\n",
    "    print( idx, item )\n",
    "\n",
    "del tup7"
   ]
  },
  {
   "cell_type": "markdown",
   "metadata": {},
   "source": [
    "##### Remove item from a tuple"
   ]
  },
  {
   "cell_type": "code",
   "execution_count": 25,
   "metadata": {},
   "outputs": [
    {
     "name": "stdout",
     "output_type": "stream",
     "text": [
      "0 TW\n",
      "1 US\n",
      "2 KR\n",
      "3 CN\n",
      "4 US\n",
      "5 RU\n",
      "6 TW\n",
      "7 KR\n",
      "---------------\n",
      "0 US\n",
      "1 KR\n",
      "2 CN\n",
      "3 US\n",
      "4 RU\n",
      "5 TW\n",
      "6 KR\n",
      "---------------\n"
     ]
    }
   ],
   "source": [
    "tup8 = tuple( ('TW', 'US', 'KR', 'CN', 'US', 'RU', 'TW', 'KR'))\n",
    "for idx, item in enumerate( tup8 ):\n",
    "    print( idx, item )\n",
    "print( '---' * 5 )\n",
    "tmpList = list( tup8 )\n",
    "tmpList.remove( 'TW' )\n",
    "tup8 = tuple( tmpList )\n",
    "for idx, item in enumerate( tup8 ):\n",
    "    print( idx, item )\n",
    "print( '---' * 5 )"
   ]
  },
  {
   "cell_type": "markdown",
   "metadata": {},
   "source": [
    "##### Unpack tuples"
   ]
  },
  {
   "cell_type": "code",
   "execution_count": 6,
   "metadata": {},
   "outputs": [
    {
     "name": "stdout",
     "output_type": "stream",
     "text": [
      "TW\n",
      "US\n",
      "KR\n",
      "CN\n"
     ]
    }
   ],
   "source": [
    "tup8 = tuple( ('TW', 'US', 'KR', 'CN'))\n",
    "( tw1, us1, kr1, cn1 ) = tup8\n",
    "print( tw1, us1, kr1, cn1, sep='\\n')"
   ]
  },
  {
   "cell_type": "markdown",
   "metadata": {},
   "source": [
    "##### Tuple methods"
   ]
  },
  {
   "cell_type": "code",
   "execution_count": 4,
   "metadata": {},
   "outputs": [
    {
     "data": {
      "text/plain": [
       "2"
      ]
     },
     "execution_count": 4,
     "metadata": {},
     "output_type": "execute_result"
    }
   ],
   "source": [
    "tup9 = ( 'FCU', 'NCHU', 'NTU' )\n",
    "tup9.index( 'NTU' )"
   ]
  },
  {
   "cell_type": "code",
   "execution_count": 30,
   "metadata": {},
   "outputs": [
    {
     "name": "stdout",
     "output_type": "stream",
     "text": [
      "4 2\n"
     ]
    }
   ],
   "source": [
    "tup9 = ( 'NTU', 'FCU', 'NCHU', 'NTU' )\n",
    "print( len(tup9), tup9.count( 'NTU' ) )"
   ]
  },
  {
   "cell_type": "markdown",
   "metadata": {},
   "source": [
    "##### Join Tuples and Multiply Tuples"
   ]
  },
  {
   "cell_type": "code",
   "execution_count": 8,
   "metadata": {},
   "outputs": [
    {
     "name": "stdout",
     "output_type": "stream",
     "text": [
      "0 JP\n",
      "1 TW\n",
      "2 KR\n",
      "3 VN\n",
      "4 US\n",
      "5 UK\n",
      "---------------\n",
      "0 JP\n",
      "1 TW\n",
      "2 KR\n",
      "3 VN\n",
      "4 JP\n",
      "5 TW\n",
      "6 KR\n",
      "7 VN\n"
     ]
    }
   ],
   "source": [
    "tup10 = ( 'JP', 'TW', 'KR', 'VN' )\n",
    "tup11 = tuple( ('US', 'UK'))\n",
    "tup12 = tup10 + tup11\n",
    "for idx, item in enumerate( tup12 ):\n",
    "    print( idx, item )\n",
    "print( '---' * 5 )\n",
    "\n",
    "# -------  multiply tuples   ------------\n",
    "tup13 = tup10 * 2\n",
    "for idx, item in enumerate( tup13 ):\n",
    "    print( idx, item )"
   ]
  }
 ],
 "metadata": {
  "kernelspec": {
   "display_name": "Python 3",
   "language": "python",
   "name": "python3"
  },
  "language_info": {
   "codemirror_mode": {
    "name": "ipython",
    "version": 3
   },
   "file_extension": ".py",
   "mimetype": "text/x-python",
   "name": "python",
   "nbconvert_exporter": "python",
   "pygments_lexer": "ipython3",
   "version": "3.11.9"
  },
  "orig_nbformat": 4
 },
 "nbformat": 4,
 "nbformat_minor": 2
}
