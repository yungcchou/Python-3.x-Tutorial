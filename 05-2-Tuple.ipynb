{
 "cells": [
  {
   "cell_type": "markdown",
   "metadata": {},
   "source": [
    "# Tuple 元組"
   ]
  },
  {
   "cell_type": "code",
   "execution_count": 4,
   "metadata": {},
   "outputs": [
    {
     "name": "stdout",
     "output_type": "stream",
     "text": [
      "<class 'tuple'>\n"
     ]
    }
   ],
   "source": [
    "tup1 = ()\n",
    "print( type(tup1) )"
   ]
  },
  {
   "cell_type": "markdown",
   "metadata": {},
   "source": [
    "#### single item tuple"
   ]
  },
  {
   "cell_type": "code",
   "execution_count": 5,
   "metadata": {},
   "outputs": [
    {
     "data": {
      "text/plain": [
       "('TOYOTA',)"
      ]
     },
     "execution_count": 5,
     "metadata": {},
     "output_type": "execute_result"
    }
   ],
   "source": [
    "tup2 = ( 'TOYOTA', )\n",
    "tup2"
   ]
  },
  {
   "cell_type": "code",
   "execution_count": 2,
   "metadata": {},
   "outputs": [
    {
     "data": {
      "text/plain": [
       "str"
      ]
     },
     "execution_count": 2,
     "metadata": {},
     "output_type": "execute_result"
    }
   ],
   "source": [
    "tup2 = ( 'TOYOTA' )\n",
    "type( tup2 )"
   ]
  },
  {
   "cell_type": "code",
   "execution_count": 6,
   "metadata": {},
   "outputs": [
    {
     "name": "stdout",
     "output_type": "stream",
     "text": [
      "TOYOTA <class 'str'>\n"
     ]
    }
   ],
   "source": [
    "tup3 = ( 'TOYOTA' )\n",
    "print( tup3, type(tup3) )"
   ]
  },
  {
   "cell_type": "code",
   "execution_count": 7,
   "metadata": {},
   "outputs": [
    {
     "name": "stdout",
     "output_type": "stream",
     "text": [
      "('N', 'I', 'S', 'S', 'A', 'N') <class 'tuple'>\n"
     ]
    }
   ],
   "source": [
    "tup3 = tuple( 'NISSAN' )\n",
    "print( tup3, type(tup3) )"
   ]
  },
  {
   "cell_type": "code",
   "execution_count": 10,
   "metadata": {},
   "outputs": [
    {
     "name": "stdout",
     "output_type": "stream",
     "text": [
      "('NISSAN',) <class 'tuple'>\n"
     ]
    }
   ],
   "source": [
    "tup3 = tuple( ('NISSAN', ) )\n",
    "print( tup3, type(tup3) )"
   ]
  },
  {
   "cell_type": "markdown",
   "metadata": {},
   "source": [
    "#### item order in a tuple"
   ]
  },
  {
   "cell_type": "code",
   "execution_count": 12,
   "metadata": {},
   "outputs": [
    {
     "name": "stdout",
     "output_type": "stream",
     "text": [
      "TOYOTA\t\tAUDI\n",
      "TOYOTA\t\tBENZ\n"
     ]
    }
   ],
   "source": [
    "tup4 = ( 'TOYOTA', 'NISSAN', 'AUDI', 'BENZ' )\n",
    "print( tup4[0], tup4[ -2 ], sep='\\t\\t')\n",
    "print( tup4[0], tup4[ len( tup4 ) - 1 ], sep='\\t\\t')"
   ]
  },
  {
   "cell_type": "code",
   "execution_count": 13,
   "metadata": {},
   "outputs": [
    {
     "name": "stdout",
     "output_type": "stream",
     "text": [
      "TOYOTA\t\tNISSAN\t\tAUDI\t\tBENZ\t\t\n",
      "Done\n"
     ]
    }
   ],
   "source": [
    "tup4 = ( 'TOYOTA', 'NISSAN', 'AUDI', 'BENZ' )\n",
    "for item in tup4:\n",
    "    print( item, end='\\t\\t')\n",
    "print( '\\nDone' )"
   ]
  },
  {
   "cell_type": "code",
   "execution_count": 14,
   "metadata": {},
   "outputs": [
    {
     "name": "stdout",
     "output_type": "stream",
     "text": [
      "0 TOYOTA\n",
      "1 NISSAN\n",
      "2 AUDI\n",
      "3 BENZ\n"
     ]
    }
   ],
   "source": [
    "tup4 = ( 'TOYOTA', 'NISSAN', 'AUDI', 'BENZ' )\n",
    "for idx, item in enumerate( tup4 ):\n",
    "    print( idx, item )"
   ]
  },
  {
   "cell_type": "markdown",
   "metadata": {},
   "source": [
    "#### item in a tuple is unchangeable"
   ]
  },
  {
   "cell_type": "code",
   "execution_count": 3,
   "metadata": {},
   "outputs": [
    {
     "name": "stdout",
     "output_type": "stream",
     "text": [
      "0 TOYOTA\n",
      "1 NISSAN\n",
      "2 AUDI\n",
      "3 BENZ\n"
     ]
    },
    {
     "ename": "TypeError",
     "evalue": "'tuple' object does not support item assignment",
     "output_type": "error",
     "traceback": [
      "\u001b[0;31m---------------------------------------------------------------------------\u001b[0m",
      "\u001b[0;31mTypeError\u001b[0m                                 Traceback (most recent call last)",
      "Cell \u001b[0;32mIn[3], line 4\u001b[0m\n\u001b[1;32m      2\u001b[0m \u001b[38;5;28;01mfor\u001b[39;00m idx, item \u001b[38;5;129;01min\u001b[39;00m \u001b[38;5;28menumerate\u001b[39m( tup5 ):\n\u001b[1;32m      3\u001b[0m     \u001b[38;5;28mprint\u001b[39m( idx, item )\n\u001b[0;32m----> 4\u001b[0m \u001b[43mtup5\u001b[49m\u001b[43m[\u001b[49m\u001b[43m \u001b[49m\u001b[38;5;241;43m0\u001b[39;49m\u001b[43m \u001b[49m\u001b[43m]\u001b[49m \u001b[38;5;241m=\u001b[39m \u001b[38;5;124m'\u001b[39m\u001b[38;5;124mBMW\u001b[39m\u001b[38;5;124m'\u001b[39m\n\u001b[1;32m      5\u001b[0m \u001b[38;5;28;01mfor\u001b[39;00m idx, item \u001b[38;5;129;01min\u001b[39;00m \u001b[38;5;28menumerate\u001b[39m( tup5 ):\n\u001b[1;32m      6\u001b[0m     \u001b[38;5;28mprint\u001b[39m( idx, item )\n",
      "\u001b[0;31mTypeError\u001b[0m: 'tuple' object does not support item assignment"
     ]
    }
   ],
   "source": [
    "tup5 = ( 'TOYOTA', 'NISSAN', 'AUDI', 'BENZ' )\n",
    "for idx, item in enumerate( tup5 ):\n",
    "    print( idx, item )\n",
    "tup5[ 0 ] = 'BMW'\n",
    "for idx, item in enumerate( tup5 ):\n",
    "    print( idx, item )"
   ]
  },
  {
   "cell_type": "markdown",
   "metadata": {},
   "source": [
    "#### item order in tuple is Unchangeable "
   ]
  },
  {
   "cell_type": "code",
   "execution_count": 16,
   "metadata": {},
   "outputs": [
    {
     "name": "stdout",
     "output_type": "stream",
     "text": [
      "0 TOYOTA\n",
      "1 NISSAN\n",
      "2 AUDI\n",
      "3 BENZ\n",
      "-*--*--*--*--*--*--*--*--*--*-\n"
     ]
    },
    {
     "ename": "TypeError",
     "evalue": "'tuple' object does not support item assignment",
     "output_type": "error",
     "traceback": [
      "\u001b[0;31m---------------------------------------------------------------------------\u001b[0m",
      "\u001b[0;31mTypeError\u001b[0m                                 Traceback (most recent call last)",
      "\u001b[1;32m/Users/yungchen/ownCloud/09_Teach/111-1學期/2_Python/demo-code/Collections-Tuple-Demo.ipynb Cell 15\u001b[0m in \u001b[0;36m<cell line: 6>\u001b[0;34m()\u001b[0m\n\u001b[1;32m      <a href='vscode-notebook-cell:/Users/yungchen/ownCloud/09_Teach/111-1%E5%AD%B8%E6%9C%9F/2_Python/demo-code/Collections-Tuple-Demo.ipynb#X20sZmlsZQ%3D%3D?line=3'>4</a>\u001b[0m \u001b[39mprint\u001b[39m( \u001b[39m'\u001b[39m\u001b[39m-*-\u001b[39m\u001b[39m'\u001b[39m \u001b[39m*\u001b[39m \u001b[39m10\u001b[39m )\n\u001b[1;32m      <a href='vscode-notebook-cell:/Users/yungchen/ownCloud/09_Teach/111-1%E5%AD%B8%E6%9C%9F/2_Python/demo-code/Collections-Tuple-Demo.ipynb#X20sZmlsZQ%3D%3D?line=4'>5</a>\u001b[0m tmp \u001b[39m=\u001b[39m tup5[ \u001b[39m-\u001b[39m\u001b[39m1\u001b[39m ]\n\u001b[0;32m----> <a href='vscode-notebook-cell:/Users/yungchen/ownCloud/09_Teach/111-1%E5%AD%B8%E6%9C%9F/2_Python/demo-code/Collections-Tuple-Demo.ipynb#X20sZmlsZQ%3D%3D?line=5'>6</a>\u001b[0m tup5[\u001b[39m-\u001b[39;49m\u001b[39m1\u001b[39;49m] \u001b[39m=\u001b[39m tup5[ \u001b[39m0\u001b[39m ]\n\u001b[1;32m      <a href='vscode-notebook-cell:/Users/yungchen/ownCloud/09_Teach/111-1%E5%AD%B8%E6%9C%9F/2_Python/demo-code/Collections-Tuple-Demo.ipynb#X20sZmlsZQ%3D%3D?line=6'>7</a>\u001b[0m tup5[ \u001b[39m0\u001b[39m ] \u001b[39m=\u001b[39m tmp\n\u001b[1;32m      <a href='vscode-notebook-cell:/Users/yungchen/ownCloud/09_Teach/111-1%E5%AD%B8%E6%9C%9F/2_Python/demo-code/Collections-Tuple-Demo.ipynb#X20sZmlsZQ%3D%3D?line=7'>8</a>\u001b[0m \u001b[39mfor\u001b[39;00m idx, item \u001b[39min\u001b[39;00m \u001b[39menumerate\u001b[39m( tup5 ):\n",
      "\u001b[0;31mTypeError\u001b[0m: 'tuple' object does not support item assignment"
     ]
    }
   ],
   "source": [
    "tup5 = ( 'TOYOTA', 'NISSAN', 'AUDI', 'BENZ' )\n",
    "for idx, item in enumerate( tup5 ):\n",
    "    print( idx, item )\n",
    "print( '-*-' * 10 )\n",
    "tmp = tup5[ -1 ]\n",
    "tup5[-1] = tup5[ 0 ]\n",
    "tup5[ 0 ] = tmp\n",
    "for idx, item in enumerate( tup5 ):\n",
    "    print( idx, item )"
   ]
  },
  {
   "cell_type": "markdown",
   "metadata": {},
   "source": [
    "#### item duplicate is allowed"
   ]
  },
  {
   "cell_type": "code",
   "execution_count": 17,
   "metadata": {},
   "outputs": [
    {
     "name": "stdout",
     "output_type": "stream",
     "text": [
      "0 Taiwan\n",
      "1 Taichung\n",
      "2 Taipei\n",
      "3 Japan\n",
      "4 KR\n",
      "5 Taichung\n",
      "6 Taiwan\n"
     ]
    }
   ],
   "source": [
    "tup6 = ( 'Taiwan', 'Taichung', 'Taipei', 'Japan', 'KR', 'Taichung', 'Taiwan')\n",
    "for idx, item in enumerate( tup6 ):\n",
    "    print( idx, item )"
   ]
  },
  {
   "cell_type": "code",
   "execution_count": 1,
   "metadata": {},
   "outputs": [
    {
     "name": "stdout",
     "output_type": "stream",
     "text": [
      "^_^\n"
     ]
    }
   ],
   "source": [
    "tup6 = ( 'Taiwan', 'Taichung', 'Taipei', 'Japan', 'KR', 'Taichung', 'Taiwan')\n",
    "if 'Taiwan' in tup6:\n",
    "    print( '^_^' )\n",
    "else:\n",
    "    print( '>_<' )"
   ]
  },
  {
   "cell_type": "markdown",
   "metadata": {},
   "source": [
    "#### Update item value in a tuple\n",
    "- it can't update item value in tuple directory\n",
    "- the tuple must transform as a list then update the value in the list and to convert back the modified list to tuple"
   ]
  },
  {
   "cell_type": "markdown",
   "metadata": {},
   "source": [
    "##### Add new item into a tuple"
   ]
  },
  {
   "cell_type": "code",
   "execution_count": 22,
   "metadata": {},
   "outputs": [
    {
     "name": "stdout",
     "output_type": "stream",
     "text": [
      "0 Apple\n",
      "1 ASUS\n",
      "2 HP\n",
      "3 DELL\n",
      "4 ACER\n",
      "---------------\n",
      "0 Apple\n",
      "1 ASUS\n",
      "2 HP\n",
      "3 DELL\n",
      "4 ACER\n",
      "5 SONY\n"
     ]
    }
   ],
   "source": [
    "tup7 = ( 'Apple', 'ASUS', 'HP', 'DELL', 'ACER' )\n",
    "for idx, item in enumerate( tup7 ):\n",
    "    print( idx, item )\n",
    "print( '---' * 5 )\n",
    "tmpList = list( tup7 )\n",
    "tmpList.append( 'SONY' )\n",
    "tup7 = tuple( tmpList )\n",
    "for idx, item in enumerate( tup7 ):\n",
    "    print( idx, item )"
   ]
  },
  {
   "cell_type": "markdown",
   "metadata": {},
   "source": [
    "##### Add a tuple to an existed tuple"
   ]
  },
  {
   "cell_type": "code",
   "execution_count": 24,
   "metadata": {},
   "outputs": [
    {
     "name": "stdout",
     "output_type": "stream",
     "text": [
      "0 Apple\n",
      "1 ASUS\n",
      "2 HP\n",
      "3 DELL\n",
      "4 ACER\n",
      "---------------\n",
      "0 Apple\n",
      "1 ASUS\n",
      "2 HP\n",
      "3 DELL\n",
      "4 ACER\n",
      "5 ('SONY', 'Gigabyte', 'MIS')\n",
      "=^==^==^==^==^=\n",
      "0 SONY\n",
      "1 Gigabyte\n",
      "2 MIS\n"
     ]
    }
   ],
   "source": [
    "tup7 = ( 'Apple', 'ASUS', 'HP', 'DELL', 'ACER' )\n",
    "for idx, item in enumerate( tup7 ):\n",
    "    print( idx, item )\n",
    "print( '---' * 5 )\n",
    "\n",
    "tmpList = list( tup7 )\n",
    "tmpList.append( ('SONY', 'Gigabyte', 'MIS' ) )\n",
    "tup7 = tuple( tmpList )\n",
    "for idx, item in enumerate( tup7 ):\n",
    "    print( idx, item )\n",
    "print( '=^=' * 5 )\n",
    "\n",
    "for idx, item in enumerate( tup7[-1] ):\n",
    "    print( idx, item )\n",
    "\n",
    "del tup7"
   ]
  },
  {
   "cell_type": "markdown",
   "metadata": {},
   "source": [
    "##### Remove item from a tuple"
   ]
  },
  {
   "cell_type": "code",
   "execution_count": 25,
   "metadata": {},
   "outputs": [
    {
     "name": "stdout",
     "output_type": "stream",
     "text": [
      "0 TW\n",
      "1 US\n",
      "2 KR\n",
      "3 CN\n",
      "4 US\n",
      "5 RU\n",
      "6 TW\n",
      "7 KR\n",
      "---------------\n",
      "0 US\n",
      "1 KR\n",
      "2 CN\n",
      "3 US\n",
      "4 RU\n",
      "5 TW\n",
      "6 KR\n",
      "---------------\n"
     ]
    }
   ],
   "source": [
    "tup8 = tuple( ('TW', 'US', 'KR', 'CN', 'US', 'RU', 'TW', 'KR'))\n",
    "for idx, item in enumerate( tup8 ):\n",
    "    print( idx, item )\n",
    "print( '---' * 5 )\n",
    "tmpList = list( tup8 )\n",
    "tmpList.remove( 'TW' )\n",
    "tup8 = tuple( tmpList )\n",
    "for idx, item in enumerate( tup8 ):\n",
    "    print( idx, item )\n",
    "print( '---' * 5 )"
   ]
  },
  {
   "cell_type": "markdown",
   "metadata": {},
   "source": [
    "##### Unpack tuples"
   ]
  },
  {
   "cell_type": "code",
   "execution_count": 6,
   "metadata": {},
   "outputs": [
    {
     "name": "stdout",
     "output_type": "stream",
     "text": [
      "TW\n",
      "US\n",
      "KR\n",
      "CN\n"
     ]
    }
   ],
   "source": [
    "tup8 = tuple( ('TW', 'US', 'KR', 'CN'))\n",
    "( tw1, us1, kr1, cn1 ) = tup8\n",
    "print( tw1, us1, kr1, cn1, sep='\\n')"
   ]
  },
  {
   "cell_type": "markdown",
   "metadata": {},
   "source": [
    "##### Tuple methods"
   ]
  },
  {
   "cell_type": "code",
   "execution_count": 4,
   "metadata": {},
   "outputs": [
    {
     "data": {
      "text/plain": [
       "2"
      ]
     },
     "execution_count": 4,
     "metadata": {},
     "output_type": "execute_result"
    }
   ],
   "source": [
    "tup9 = ( 'FCU', 'NCHU', 'NTU' )\n",
    "tup9.index( 'NTU' )"
   ]
  },
  {
   "cell_type": "code",
   "execution_count": 30,
   "metadata": {},
   "outputs": [
    {
     "name": "stdout",
     "output_type": "stream",
     "text": [
      "4 2\n"
     ]
    }
   ],
   "source": [
    "tup9 = ( 'NTU', 'FCU', 'NCHU', 'NTU' )\n",
    "print( len(tup9), tup9.count( 'NTU' ) )"
   ]
  },
  {
   "cell_type": "markdown",
   "metadata": {},
   "source": [
    "##### Join Tuples and Multiply Tuples"
   ]
  },
  {
   "cell_type": "code",
   "execution_count": 8,
   "metadata": {},
   "outputs": [
    {
     "name": "stdout",
     "output_type": "stream",
     "text": [
      "0 JP\n",
      "1 TW\n",
      "2 KR\n",
      "3 VN\n",
      "4 US\n",
      "5 UK\n",
      "---------------\n",
      "0 JP\n",
      "1 TW\n",
      "2 KR\n",
      "3 VN\n",
      "4 JP\n",
      "5 TW\n",
      "6 KR\n",
      "7 VN\n"
     ]
    }
   ],
   "source": [
    "tup10 = ( 'JP', 'TW', 'KR', 'VN' )\n",
    "tup11 = tuple( ('US', 'UK'))\n",
    "tup12 = tup10 + tup11\n",
    "for idx, item in enumerate( tup12 ):\n",
    "    print( idx, item )\n",
    "print( '---' * 5 )\n",
    "\n",
    "# -------  multiply tuples   ------------\n",
    "tup13 = tup10 * 2\n",
    "for idx, item in enumerate( tup13 ):\n",
    "    print( idx, item )"
   ]
  }
 ],
 "metadata": {
  "kernelspec": {
   "display_name": "Python 3.10.5 64-bit",
   "language": "python",
   "name": "python3"
  },
  "language_info": {
   "codemirror_mode": {
    "name": "ipython",
    "version": 3
   },
   "file_extension": ".py",
   "mimetype": "text/x-python",
   "name": "python",
   "nbconvert_exporter": "python",
   "pygments_lexer": "ipython3",
   "version": "3.11.4"
  },
  "orig_nbformat": 4,
  "vscode": {
   "interpreter": {
    "hash": "aee8b7b246df8f9039afb4144a1f6fd8d2ca17a180786b69acc140d282b71a49"
   }
  }
 },
 "nbformat": 4,
 "nbformat_minor": 2
}
