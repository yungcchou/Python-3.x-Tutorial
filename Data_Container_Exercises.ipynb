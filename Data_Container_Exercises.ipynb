{
 "cells": [
  {
   "cell_type": "markdown",
   "metadata": {},
   "source": [
    "# Data Container Exercises"
   ]
  },
  {
   "cell_type": "markdown",
   "metadata": {},
   "source": [
    "## List (清單)"
   ]
  },
  {
   "cell_type": "markdown",
   "metadata": {},
   "source": [
    "### Exercise\n",
    "有下列 3 個 list \n",
    "```\n",
    "lst1 = [ 1, 2, 3]\n",
    "lst2 = [ 'a', 'b', 'c']\n",
    "lst3 = [ '魯夫', '娜美', '索隆']\n",
    "```\n",
    "請將這 3 個 list 使用 `zip()` 及 `extend()` 指令，整合成下列結果\n",
    "```\n",
    " [1, 'a', '魯夫', 2, 'b', '娜美', 3, 'c', '索隆']\n",
    " ```"
   ]
  },
  {
   "cell_type": "code",
   "execution_count": 1,
   "metadata": {},
   "outputs": [
    {
     "name": "stdout",
     "output_type": "stream",
     "text": [
      "newLst content:\n",
      " [1, 'a', '魯夫', 2, 'b', '娜美', 3, 'c', '索隆']\n"
     ]
    }
   ],
   "source": [
    "lst1 = [ 1, 2, 3]\n",
    "lst2 = [ 'a', 'b', 'c']\n",
    "lst3 = [ '魯夫', '娜美', '索隆']\n",
    "zipLst = zip( lst1, lst2, lst3 )\n",
    "tempLst = list( zipLst )\n",
    "newLst = []\n",
    "for i in range( len( tempLst)):\n",
    "    newLst.extend( tempLst[i] )\n",
    "print( f\"newLst content:\\n\", newLst)"
   ]
  },
  {
   "cell_type": "markdown",
   "metadata": {},
   "source": [
    "## Tuple"
   ]
  },
  {
   "cell_type": "markdown",
   "metadata": {},
   "source": [
    "### 練習題 1：儲存和計算學生的分數平均值\n",
    "假設有一組學生的分數，儲存在一個 Tuple 中。請計算這些分數的平均值，並輸出平均值。\n",
    "\n",
    "```\n",
    "85, 90, 78, 92, 88\n",
    "```\n",
    "\n",
    "範例輸出:\n",
    "\n",
    "`平均分數: 86.6`"
   ]
  },
  {
   "cell_type": "code",
   "execution_count": 4,
   "metadata": {},
   "outputs": [
    {
     "name": "stdout",
     "output_type": "stream",
     "text": [
      "平均分數: 86.6\n"
     ]
    }
   ],
   "source": [
    "data = tuple((85, 90, 78, 92, 88))\n",
    "print( f\"平均分數: {sum(data)/len(data)}\")"
   ]
  },
  {
   "cell_type": "markdown",
   "metadata": {},
   "source": [
    "### 練習題 2：儲存並顯示產品的名稱和價格\n",
    "請以下方表格資料建立一個包含多個產品的 Tuple，每個產品是一個名稱、價格與數量的元組 (name, price, quantity)。逐一顯示每個產品的名稱、價格與數量，最後顯示總金額。\n",
    "\n",
    "| 產品名 | 價格 | 數量 |\n",
    "|---- | --- | --- |\n",
    "| Laptop | 1000 | 4 |\n",
    "| Smartphone | 600 | 12 |\n",
    "| Tablet | 300 | 5 |\n",
    "\n",
    "範例輸出:\n",
    "\n",
    "```\n",
    "產品資訊：\n",
    "----------\n",
    "產品名稱          價格   數量\n",
    "Laptop          1000     4\n",
    "Smartphone       600    12\n",
    "Tablet           300     5\n",
    "總價格：$12700\n",
    "```"
   ]
  },
  {
   "cell_type": "code",
   "execution_count": 27,
   "metadata": {},
   "outputs": [
    {
     "name": "stdout",
     "output_type": "stream",
     "text": [
      "產品資訊：\n",
      "----------\n",
      "產品名稱          價格   數量\n",
      "Laptop          1000     4\n",
      "Smartphone       600    12\n",
      "Tablet           300     5\n",
      "總價格：$12700\n"
     ]
    }
   ],
   "source": [
    "# 產品資料的 Tuple\n",
    "products = ((\"Laptop\", 1000, 4), (\"Smartphone\", 600, 12), (\"Tablet\", 300, 5))\n",
    "\n",
    "total = 0\n",
    "# 顯示每個產品的名稱和價格\n",
    "print(\"產品資訊：\")\n",
    "print(\"----------\")\n",
    "print( f\"{'產品名稱':14s}{'價格':5s}數量\")\n",
    "for product in products:\n",
    "    name, price, quantity = product\n",
    "    print(f\"{name:16s}{price:4d}{quantity:6d}\")\n",
    "    total = total + price * quantity\n",
    "print(f\"總價格：${total}\")\n"
   ]
  },
  {
   "cell_type": "markdown",
   "metadata": {},
   "source": [
    "### 練習題 3：分析城市的氣溫數據\n",
    "給定一組城市的氣溫資料 (如下表)，每個城市的資料是一個元組，包含城市名稱和氣溫。請找出氣溫最高的城市並輸出其名稱和氣溫\n",
    "\n",
    "| 城市名 | 溫度 |\n",
    "|---- | --- | \n",
    "| 台北 | 30 |\n",
    "| 東京 | 27 |\n",
    "| 紐約 | 22 |\n",
    "| 倫敦 | 18 |\n",
    "\n",
    "範例輸出:\n",
    "\n",
    "```\n",
    "氣溫最高的城市：台北, 氣溫：30度\n",
    "```"
   ]
  },
  {
   "cell_type": "code",
   "execution_count": 33,
   "metadata": {},
   "outputs": [
    {
     "name": "stdout",
     "output_type": "stream",
     "text": [
      "氣溫最高的城市：台北, 氣溫：30度\n"
     ]
    }
   ],
   "source": [
    "# 城市和氣溫的 Tuple\n",
    "city_temperatures = ((\"台北\", 30), (\"東京\", 27), (\"紐約\", 22), (\"倫敦\", 18))\n",
    "\n",
    "max_temp = list(city_temperatures[0])\n",
    "for city, temp in city_temperatures:\n",
    "    if temp > max_temp[1]:\n",
    "        max_temp[0] = city\n",
    "        max_temp[1] = temp\n",
    "\n",
    "# 輸出結果\n",
    "print(f\"氣溫最高的城市：{max_temp[0]}, 氣溫：{max_temp[1]}度\")\n"
   ]
  },
  {
   "cell_type": "markdown",
   "metadata": {},
   "source": [
    "### 練習題 4：儲存員工的聯絡資訊並查找\n",
    "將下列資料表內容建立一個員工聯絡資訊的 Tuple，每位員工資料包含姓名和聯絡電話。使用程式查找特定姓名的員工，如果找到則輸出其電話，否則輸出「未找到」。\n",
    "\n",
    "| 姓名 | 電話 |\n",
    "|---- | --- | \n",
    "| John Doe | 123-456-7890 |\n",
    "| Jane Smith | 234-567-8901 |\n",
    "| Alice Brown | 345-678-9012 |\n",
    "| Jackson Brown | 423-123-4429 |\n",
    "\n",
    "範例輸出:\n",
    "\n"
   ]
  },
  {
   "cell_type": "code",
   "execution_count": null,
   "metadata": {},
   "outputs": [],
   "source": [
    "# 員工聯絡資訊的 Tuple\n",
    "employees = ((\"John Doe\", \"123-456-7890\"), \n",
    "            (\"Jane Smith\", \"234-567-8901\"), \n",
    "            (\"Alice Brown\", \"345-678-9012\"),\n",
    "            (\"Jackson Brown\", \"423-123-4429\"))\n",
    "\n",
    "# 查找的目標姓名\n",
    "target_name = input(\"name: \")\n",
    "\n",
    "# 查找並輸出結果\n",
    "for name, phone in employees:\n",
    "    if name == target_name:\n",
    "        print(f\"{name} 的聯絡電話是：{phone}\")\n",
    "        break\n",
    "else:\n",
    "    print(f\"未找到 {target_name} 的聯絡資訊\")\n"
   ]
  }
 ],
 "metadata": {
  "kernelspec": {
   "display_name": "Python 3",
   "language": "python",
   "name": "python3"
  },
  "language_info": {
   "codemirror_mode": {
    "name": "ipython",
    "version": 3
   },
   "file_extension": ".py",
   "mimetype": "text/x-python",
   "name": "python",
   "nbconvert_exporter": "python",
   "pygments_lexer": "ipython3",
   "version": "3.11.9"
  }
 },
 "nbformat": 4,
 "nbformat_minor": 2
}
