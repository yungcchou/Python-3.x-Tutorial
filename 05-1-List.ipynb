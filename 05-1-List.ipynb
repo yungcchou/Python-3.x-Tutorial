{
 "cells": [
  {
   "cell_type": "markdown",
   "metadata": {},
   "source": [
    "# List\n",
    "- Lists are used to store multiple items in a single variable.\n",
    "- Lists are built-in data types in Python used to store collections of data\n",
    "- Lists are created using square brackets [ ]\n",
    "- List items are ordered, changeable, and allow duplicate values.\n",
    "- List items are indexed, the first item has index [0], the second item has index [1] etc."
   ]
  },
  {
   "cell_type": "code",
   "execution_count": 1,
   "metadata": {},
   "outputs": [
    {
     "name": "stdout",
     "output_type": "stream",
     "text": [
      "[] <class 'list'>\n"
     ]
    }
   ],
   "source": [
    "# ( )  <-- 小括號 tuple\n",
    "# [ ]  <-- 中括號 list, set\n",
    "# { }  <-- 大括號 dictionary\n",
    "\n",
    "# list object create\n",
    "lst = []\n",
    "print( lst, type(lst) )"
   ]
  },
  {
   "cell_type": "markdown",
   "metadata": {},
   "source": [
    "#### 使用 list() 類別建立空的 list"
   ]
  },
  {
   "cell_type": "code",
   "execution_count": 2,
   "metadata": {},
   "outputs": [
    {
     "name": "stdout",
     "output_type": "stream",
     "text": [
      "[] <class 'list'>\n"
     ]
    }
   ],
   "source": [
    "lst = list( )\n",
    "print( lst, type(lst) )"
   ]
  },
  {
   "cell_type": "markdown",
   "metadata": {},
   "source": [
    "#### 使用既有資料建立 list 物件"
   ]
  },
  {
   "cell_type": "code",
   "execution_count": 4,
   "metadata": {},
   "outputs": [
    {
     "name": "stdout",
     "output_type": "stream",
     "text": [
      "['apple', 'asus', 'acer', 'Gigabyte', 21, 41.31] <class 'list'>\n"
     ]
    }
   ],
   "source": [
    "# creat list with data\n",
    "lst1 = [ 'apple', 'asus', 'acer', 'Gigabyte', 21, 41.31 ]\n",
    "print( lst1, type(lst1) )"
   ]
  },
  {
   "cell_type": "markdown",
   "metadata": {},
   "source": [
    "#### 使用單一字串建立 list 時注意事項"
   ]
  },
  {
   "cell_type": "code",
   "execution_count": 3,
   "metadata": {},
   "outputs": [
    {
     "name": "stdout",
     "output_type": "stream",
     "text": [
      "['a', 'p', 'p', 'l', 'e']\n"
     ]
    }
   ],
   "source": [
    "# creat list using list constructor\n",
    "lst01 = list( 'apple' ) # 錯誤作法\n",
    "print( lst01 )"
   ]
  },
  {
   "cell_type": "code",
   "execution_count": 6,
   "metadata": {},
   "outputs": [
    {
     "data": {
      "text/plain": [
       "['apple']"
      ]
     },
     "execution_count": 6,
     "metadata": {},
     "output_type": "execute_result"
    }
   ],
   "source": [
    "data = list( ['apple']) # 正確作法\n",
    "data"
   ]
  },
  {
   "cell_type": "markdown",
   "metadata": {},
   "source": [
    "#### 使用 list 類別的建構元 `list()` 建立 list 物件"
   ]
  },
  {
   "cell_type": "code",
   "execution_count": 7,
   "metadata": {},
   "outputs": [
    {
     "name": "stdout",
     "output_type": "stream",
     "text": [
      "['apple', 'asus', 38, 49.3]\n",
      "['apple', 'asus', 38, 49.3]\n"
     ]
    }
   ],
   "source": [
    "# creat list using list constructor\n",
    "lst02 = list([ 'apple', 'asus', 38, 49.3 ] ) # 建立時給的是 [ ] 方式的資料\n",
    "lst03 = [ 'apple', 'asus', 38, 49.3 ] \n",
    "print( lst02 )\n",
    "print( lst03 )"
   ]
  },
  {
   "cell_type": "markdown",
   "metadata": {},
   "source": [
    "#### 建立 list 物件時使用 tuple 的資料\n",
    "#### 這種作法也可以想成是將 `tuple` 資料轉換成 list 物件"
   ]
  },
  {
   "cell_type": "code",
   "execution_count": 8,
   "metadata": {},
   "outputs": [
    {
     "name": "stdout",
     "output_type": "stream",
     "text": [
      "['apple', 'asus', 'acer', 'Gigabyte']\n"
     ]
    }
   ],
   "source": [
    "# creat list using list constructor\n",
    "lst01 = list( ('apple', 'asus', 'acer', 'Gigabyte' ) ) # 建立時給的是 tuple 方式的資料\n",
    "print( lst01 )"
   ]
  },
  {
   "cell_type": "markdown",
   "metadata": {},
   "source": [
    "#### list 裡可以同時放不同資料型態的資料"
   ]
  },
  {
   "cell_type": "code",
   "execution_count": 9,
   "metadata": {},
   "outputs": [
    {
     "name": "stdout",
     "output_type": "stream",
     "text": [
      "['apple', 35, 'NTD', 10]\n"
     ]
    }
   ],
   "source": [
    "# creat list with different type of data\n",
    "lst2 = [ 'apple', 35, 'NTD', 10 ]\n",
    "print( lst2 )"
   ]
  },
  {
   "cell_type": "markdown",
   "metadata": {},
   "source": [
    "#### list 裡的資料重覆也允許的"
   ]
  },
  {
   "cell_type": "code",
   "execution_count": 10,
   "metadata": {},
   "outputs": [
    {
     "name": "stdout",
     "output_type": "stream",
     "text": [
      "['Jack', 'David', 'Jack', 'Jannie', 'Jack']\n"
     ]
    }
   ],
   "source": [
    "# duplicate items in a list\n",
    "lst3 = [ 'Jack', 'David', 'Jack', 'Jannie', 'Jack' ] #  Jack 出現3次\n",
    "print( lst3 )"
   ]
  },
  {
   "cell_type": "markdown",
   "metadata": {},
   "source": [
    "#### 使用 `len()` 函式可以取得 list 物件裡的元素個數"
   ]
  },
  {
   "cell_type": "code",
   "execution_count": 1,
   "metadata": {},
   "outputs": [
    {
     "name": "stdout",
     "output_type": "stream",
     "text": [
      "5\n"
     ]
    }
   ],
   "source": [
    "# List length\n",
    "lst3 = [ 'Jack', 'David', 'Jack', 'Jannie', 'Jack' ]\n",
    "print( len (lst3) ) # 使用 len() 取得 list 長度"
   ]
  },
  {
   "cell_type": "markdown",
   "metadata": {},
   "source": [
    "#### 使用者輸入多個資料後可以使用 `split()` 指令進行切割後建成 list 物件"
   ]
  },
  {
   "cell_type": "code",
   "execution_count": 13,
   "metadata": {},
   "outputs": [
    {
     "name": "stdout",
     "output_type": "stream",
     "text": [
      "The length of lst4 is 4\n",
      "Jack\tdavid\tjannie\tkevin\t\n"
     ]
    }
   ],
   "source": [
    "# input multiple data and save data into a list\n",
    "# test data:  Jack david jannie kevin \n",
    "lst4 = list( input().split() )  # 使用 split() 將輸入的字串分割成多個字串並存入 list\n",
    "\n",
    "print( f'The length of lst4 is {len(lst4)}')\n",
    "for item in lst4:\n",
    "    print( item, end='\\t')\n",
    "print()"
   ]
  },
  {
   "cell_type": "markdown",
   "metadata": {},
   "source": [
    "##### Exercise \n",
    "input data  23,47,58,99,13,100,88,77,65\n",
    "output max, min, mean, sum \n",
    "ps. Only for loop can be used don't using sum(), max(), min() functions."
   ]
  },
  {
   "cell_type": "code",
   "execution_count": 6,
   "metadata": {},
   "outputs": [
    {
     "name": "stdout",
     "output_type": "stream",
     "text": [
      "max = 100, min = 13, total = 570, avg = 63.333333333333336\n"
     ]
    }
   ],
   "source": [
    "# 23;47;58;99;13;100;88;77;65\n",
    "data = list( map( int, input().split( ';' )))\n",
    "\n",
    "max_val = data[0]\n",
    "min_val = data[0]\n",
    "total = 0\n",
    "for x in data:\n",
    "    if x > max_val:\n",
    "        max_val = x\n",
    "    if x < min_val:\n",
    "        min_val = x\n",
    "    total += x\n",
    "print( f\"max = {max_val}, min = {min_val}, total = {total}, avg = {total/len(data)}\" )"
   ]
  },
  {
   "cell_type": "markdown",
   "metadata": {},
   "source": [
    "#### Access List items (存取 list 裡的物件)\n",
    "\n",
    "在 Python 中，`list` 是一種序列型的資料容器，允許使用索引來存取其中的元素。Python 提供了一個非常方便的功能，就是可以使用負數作為索引來存取序列的元素。\n",
    "\n",
    "##### 為什麼 `list` 可以使用負數作為索引？\n",
    "這是 Python 序列結構的設計之一，當你使用負數索引時，Python 會將其解讀為從序列的尾端開始計數。也就是說，`-1` 表示最後一個元素，`-2` 表示倒數第二個元素，依此類推。\n",
    "\n",
    "##### 使用負數索引的優點：\n",
    "1. **<span style=\"color: blue\">方便</span>**：負數索引允許我們輕鬆地存取列表的最後幾個元素，而不需要知道列表的長度。例如，`my_list[-1]` 比 `my_list[len(my_list) - 1]` 更簡單明瞭。\n",
    "\n",
    "2. **<span style=\"color: blue\">靈活性</span>**：當你在處理未知長度或可變長度的序列時，使用負數索引可以讓你的程式更加靈活。例如，`my_list[-1]` 無論列表長度如何，都能正確返回最後一個元素。\n",
    "\n",
    "3. **<span style=\"color: blue\">高效</span>**：使用負數索引比計算序列長度（如 `len(my_list) - 1`）更加簡單明瞭，且提高了程式的可讀性。\n",
    "\n",
    "總結來說，Python 的負數索引功能讓程式員能夠輕鬆存取序列的尾部元素，進而提升程式的<span style=\"color: brown\">可讀性</span>和<span style=\"color: brown\">靈活性</span>。"
   ]
  },
  {
   "cell_type": "code",
   "execution_count": 14,
   "metadata": {},
   "outputs": [
    {
     "name": "stdout",
     "output_type": "stream",
     "text": [
      "Jack\t%%\tJannie\n",
      "Jack\t David\n"
     ]
    }
   ],
   "source": [
    "# Print the first item of the list\n",
    "# Negative indexing means start from the end\n",
    "lst5 = [ 'Jack', 'David', 'Jack', 'Jannie' ]\n",
    "print( lst5[0], lst5[ -1 ], sep='\\t%%\\t')\n",
    "print(f\"{lst5[-2]}\\t {lst5[-3]}\")"
   ]
  },
  {
   "cell_type": "markdown",
   "metadata": {},
   "source": [
    "##### 使用 `len()` 取得 list 長度再減 1 取得 list 裡最後一個元素"
   ]
  },
  {
   "cell_type": "code",
   "execution_count": 2,
   "metadata": {},
   "outputs": [
    {
     "name": "stdout",
     "output_type": "stream",
     "text": [
      "Jannie\n"
     ]
    }
   ],
   "source": [
    "lst5 = [ 'Jack', 'David', 'Jack', 'Jannie' ]\n",
    "print(lst5[len(lst5)-1])"
   ]
  },
  {
   "cell_type": "markdown",
   "metadata": {},
   "source": [
    "##### 使用 <span style=\"color: red\">負數</span>索引值 `-1` 取得 list裡最後一個元素"
   ]
  },
  {
   "cell_type": "code",
   "execution_count": 16,
   "metadata": {},
   "outputs": [
    {
     "name": "stdout",
     "output_type": "stream",
     "text": [
      "Jannie\n"
     ]
    }
   ],
   "source": [
    "lst5 = [ 'Jack', 'David', 'Jack', 'Jannie' ]\n",
    "print( lst5[ -1 ])"
   ]
  },
  {
   "cell_type": "markdown",
   "metadata": {},
   "source": [
    "##### 取得 list 裡的資料區段"
   ]
  },
  {
   "cell_type": "code",
   "execution_count": 3,
   "metadata": {},
   "outputs": [
    {
     "name": "stdout",
     "output_type": "stream",
     "text": [
      "['asus', 'acer']\n"
     ]
    }
   ],
   "source": [
    "# Range of indexes\n",
    "lst6 = list( ( 'apple', 'asus', 'acer', 'Gigabyte' ) )\n",
    "print( lst6[ 1 : -1 ] ) # 1:-1 代表取得 index 1 到倒數第 2個資料"
   ]
  },
  {
   "cell_type": "code",
   "execution_count": 18,
   "metadata": {},
   "outputs": [
    {
     "name": "stdout",
     "output_type": "stream",
     "text": [
      "['asus', 'acer', 'Gigabyte']\n"
     ]
    }
   ],
   "source": [
    "# Range of indexes\n",
    "lst6 = list( ( 'apple', 'asus', 'acer', 'Gigabyte' ) )\n",
    "print( lst6[1: ] ) # 1: 代表取得 index 1 到最後一個資料"
   ]
  },
  {
   "cell_type": "code",
   "execution_count": 19,
   "metadata": {},
   "outputs": [
    {
     "name": "stdout",
     "output_type": "stream",
     "text": [
      "['apple', 'asus']\n"
     ]
    }
   ],
   "source": [
    "# Range of indexes\n",
    "lst6 = list( ( 'apple', 'asus', 'acer', 'Gigabyte' ) )\n",
    "print( lst6[ :2] ) # :2 代表取得 index 0 到 index 1 的資料"
   ]
  },
  {
   "cell_type": "code",
   "execution_count": 4,
   "metadata": {},
   "outputs": [
    {
     "name": "stdout",
     "output_type": "stream",
     "text": [
      "['apple', 'acer']\n"
     ]
    }
   ],
   "source": [
    "# Range of indexes\n",
    "lst6 = list( ( 'apple', 'asus', 'acer', 'Gigabyte' ) )\n",
    "print( lst6[0: : 2] )  # 0: :2 代表取得 index 0 到最後一個資料，間隔為 2"
   ]
  },
  {
   "cell_type": "markdown",
   "metadata": {},
   "source": [
    "請以 `range()` 產生一個包含 1, 2, ... 50 的整數放到一個 List 裡, 再用 `[  :  :  ]` 方式去建構成一個 只有 奇數 的新 List"
   ]
  },
  {
   "cell_type": "code",
   "execution_count": 8,
   "metadata": {},
   "outputs": [
    {
     "name": "stdout",
     "output_type": "stream",
     "text": [
      "lst001:\n",
      " [1, 2, 3, 4, 5, 6, 7, 8, 9, 10, 11, 12, 13, 14, 15, 16, 17, 18, 19, 20, 21, 22, 23, 24, 25, 26, 27, 28, 29, 30, 31, 32, 33, 34, 35, 36, 37, 38, 39, 40, 41, 42, 43, 44, 45, 46, 47, 48, 49, 50]\n",
      "lst002:\n",
      " [1, 3, 5, 7, 9, 11, 13, 15, 17, 19, 21, 23, 25, 27, 29, 31, 33, 35, 37, 39, 41, 43, 45, 47, 49]\n"
     ]
    }
   ],
   "source": [
    "lst001 = list(range( 1, 51))\n",
    "print( \"lst001:\\n\", lst001 )\n",
    "lst002 = lst001[0 : : 2]\n",
    "print( \"lst002:\\n\", lst002 )"
   ]
  },
  {
   "cell_type": "code",
   "execution_count": 10,
   "metadata": {},
   "outputs": [
    {
     "name": "stdout",
     "output_type": "stream",
     "text": [
      "[10, 9, 8, 7, 6, 5, 4, 3, 2, 1]\n"
     ]
    }
   ],
   "source": [
    "test = list( range(1, 11))\n",
    "print( test[-1: : -1] )"
   ]
  },
  {
   "cell_type": "markdown",
   "metadata": {},
   "source": [
    "##### 使用 `sum()` 函式計算 list 裡所有元素的總合，前提是 list 裡所有元素都是可以計算的數字"
   ]
  },
  {
   "cell_type": "code",
   "execution_count": 9,
   "metadata": {},
   "outputs": [
    {
     "name": "stdout",
     "output_type": "stream",
     "text": [
      "625\n"
     ]
    }
   ],
   "source": [
    "print( sum( lst002 ) )"
   ]
  },
  {
   "cell_type": "markdown",
   "metadata": {},
   "source": [
    "##### 從 list 物件中反向取出資料"
   ]
  },
  {
   "cell_type": "code",
   "execution_count": 27,
   "metadata": {},
   "outputs": [
    {
     "name": "stdout",
     "output_type": "stream",
     "text": [
      "['Gigabyte', 'acer', 'asus']\n"
     ]
    }
   ],
   "source": [
    "# Range of indexes\n",
    "lst6 = list( ( 'apple', 'asus', 'acer', 'Gigabyte' ) )\n",
    "print( lst6[-1:0:-1] ) # -1:0:-1 代表取得 index -1 到 index 1 的資料，間隔為 -1"
   ]
  },
  {
   "cell_type": "code",
   "execution_count": 11,
   "metadata": {},
   "outputs": [
    {
     "name": "stdout",
     "output_type": "stream",
     "text": [
      "['Gigabyte', 'acer', 'asus', 'apple']\n"
     ]
    }
   ],
   "source": [
    "# Range of indexes\n",
    "lst6 = list( ( 'apple', 'asus', 'acer', 'Gigabyte' ) )\n",
    "print( lst6[-1: :-1] )"
   ]
  },
  {
   "cell_type": "markdown",
   "metadata": {},
   "source": [
    "### Check if item exists\n",
    "查找使用者輸入的資料是否存在 list 中，如果存在可以用 list 的 `index()` 函式找出該資料在 list 中的索引值\n",
    "\n",
    "ps. 注意，當 list 裡有多個與使用者輸入相同的資料時，`index()` 函式只會回傳最先找到相同資料的索引值"
   ]
  },
  {
   "cell_type": "code",
   "execution_count": 12,
   "metadata": {},
   "outputs": [
    {
     "name": "stdout",
     "output_type": "stream",
     "text": [
      "\"FCU\" index is 2\n"
     ]
    }
   ],
   "source": [
    "lst7 = list( ( 'NTU', 'NCHU', 'FCU', 'NCKU', 'FCU', 'FCU') )\n",
    "txt = input()\n",
    "if txt in lst7:\n",
    "    print( f'\"{txt}\" index is { lst7.index(txt) }' )\n",
    "else:\n",
    "    print( f'\"{txt}\" is not exists in the list')"
   ]
  },
  {
   "cell_type": "markdown",
   "metadata": {},
   "source": [
    "## Change List Items\n",
    "To change the value of a specific item, refer to the index number"
   ]
  },
  {
   "cell_type": "code",
   "execution_count": 31,
   "metadata": {},
   "outputs": [
    {
     "name": "stdout",
     "output_type": "stream",
     "text": [
      "['NTU', 'NCHU', 'FCU', 'NCKU']\n",
      "------  separate line  ------\n",
      "['FCU', 'NCHU', 'NTU', 'NCKU']\n"
     ]
    }
   ],
   "source": [
    "# Change the first and third items:\n",
    "lst8 = list( ( 'NTU', 'NCHU', 'FCU', 'NCKU' ) )\n",
    "print( lst8 )\n",
    "print( '--' * 3, ' separate line ', '--' * 3)\n",
    "lst8[ 0 ] = 'FCU'\n",
    "lst8[ 2 ] = 'NTU'\n",
    "print( lst8 )"
   ]
  },
  {
   "cell_type": "markdown",
   "metadata": {},
   "source": [
    "使用另外一個 list 去更改某一個 list 裡面部份資料"
   ]
  },
  {
   "cell_type": "code",
   "execution_count": 32,
   "metadata": {},
   "outputs": [
    {
     "name": "stdout",
     "output_type": "stream",
     "text": [
      "['NTU', 'NCHU', 'FCU', 'NCKU']\n",
      "------  separate line  ------ \n",
      "\n",
      "['FCU', 'NCHU', 'NTU', 'NCKU']\n"
     ]
    }
   ],
   "source": [
    "# change a range of item values\n",
    "lst9 = list( ( 'NTU', 'NCHU', 'FCU', 'NCKU' ) )\n",
    "print( lst9 )\n",
    "print( '--' * 3, ' separate line ', '--' * 3, '\\n')\n",
    "lst9[ 0 : 3 ] = ['FCU', 'NCHU', 'NTU' ] \n",
    "\n",
    "print( lst9 )"
   ]
  },
  {
   "cell_type": "markdown",
   "metadata": {},
   "source": [
    "##### 情況: list 裡被選定的資料範圍比要來拿更新的新 list 資料少"
   ]
  },
  {
   "cell_type": "code",
   "execution_count": 14,
   "metadata": {},
   "outputs": [
    {
     "name": "stdout",
     "output_type": "stream",
     "text": [
      "['NTU', 'NCHU', 'FCU', 'NCKU']\n",
      "------  separate line  ------ \n",
      "\n",
      "['FCU', 'NCHU', 'MIT', 'FCU', 'NCKU']\n"
     ]
    }
   ],
   "source": [
    "# Change the first and second values by replacing it with three new values\n",
    "lst9 = list( ( 'NTU', 'NCHU', 'FCU', 'NCKU' ) )\n",
    "print( lst9 )\n",
    "print( '--' * 3, ' separate line ', '--' * 3, '\\n')\n",
    "lst9[ 0 : 2 ] = ['FCU', 'NCHU', 'MIT' ] # lst9 只拿出 0, 1 兩個位置的資料，然後換成 ['FCU', 'NCHU', 'MIT' ]\n",
    "print( lst9 )"
   ]
  },
  {
   "cell_type": "markdown",
   "metadata": {},
   "source": [
    "##### 情況: list 裡被選定的資料範圍比要來拿更新的新 list 資料多"
   ]
  },
  {
   "cell_type": "code",
   "execution_count": 15,
   "metadata": {},
   "outputs": [
    {
     "name": "stdout",
     "output_type": "stream",
     "text": [
      "['NTU', 'NCHU', 'FCU', 'NCKU']\n",
      "------  separate line  ------ \n",
      "\n",
      "['FCU', 'NCHU', 'NCKU']\n"
     ]
    }
   ],
   "source": [
    "# Change the first to third values by replacing it with two new values\n",
    "lst9 = list( ( 'NTU', 'NCHU', 'FCU', 'NCKU' ) )\n",
    "print( lst9 )\n",
    "print( '--' * 3, ' separate line ', '--' * 3, '\\n')\n",
    "lst9[ 0 : 3 ] = ['FCU', 'NCHU' ] # lst9 拿出 0, 1, 2 三個位置的資料，然後換成 ['FCU', 'NCHU' ]\n",
    "print( lst9 )"
   ]
  },
  {
   "cell_type": "markdown",
   "metadata": {},
   "source": [
    "### 插入資料 (Insert items)\n",
    "- To insert a new list item, without replacing any of the existing values, we can use the insert() method.\n",
    "- The insert() method inserts an item at the specified index"
   ]
  },
  {
   "cell_type": "code",
   "execution_count": 16,
   "metadata": {},
   "outputs": [
    {
     "name": "stdout",
     "output_type": "stream",
     "text": [
      "['NTU', 'NCHU', 'FCU', 'NCKU'] \n",
      " - - - - - - - - - - - - \n",
      "['NTU', 'MIT', 'NCHU', 'FCU', 'NCKU']\n"
     ]
    }
   ],
   "source": [
    "lst10 = [ 'NTU', 'NCHU', 'FCU', 'NCKU' ]\n",
    "print( lst10, '\\n', '- - ' * 6)\n",
    "lst10.insert( 1, 'MIT' ) # 在 index 1 的位置插入 'MIT'\n",
    "print( lst10 )"
   ]
  },
  {
   "cell_type": "markdown",
   "metadata": {},
   "source": [
    "### 練習題\n",
    "請用  `while` 迴圈及 list 的 `insert()` 函式讓使用者連續輸入數字 (整數/浮點數)，直到 -999 結束，每輸入一個數字就列出當下 list 裡的資料且 list 裡的資料是由小到大排序好的"
   ]
  },
  {
   "cell_type": "code",
   "execution_count": 18,
   "metadata": {},
   "outputs": [
    {
     "name": "stdout",
     "output_type": "stream",
     "text": [
      "[43.0]\n",
      "[12.0, 43.0]\n",
      "[12.0, 43.0, 83.0]\n",
      "[12.0, 43.0, 83.0, 101.0]\n",
      "[-9.0, 12.0, 43.0, 83.0, 101.0]\n",
      "[-9.0, 2.0, 12.0, 43.0, 83.0, 101.0]\n",
      "[-9.0, 1.0, 2.0, 12.0, 43.0, 83.0, 101.0]\n",
      "[-9.0, 1.0, 2.0, 3.0, 12.0, 43.0, 83.0, 101.0]\n"
     ]
    }
   ],
   "source": [
    "data = [ ]\n",
    "while True:\n",
    "    value = input('Enter a value: ')\n",
    "    if value == '-999':\n",
    "        break\n",
    "    value = float( value )\n",
    "    i = 0\n",
    "    while i < len(data) and data[i] < value:\n",
    "        i += 1\n",
    "    if i == len(data):\n",
    "        data.append(value)\n",
    "    else:\n",
    "        data.insert(i, value)\n",
    "    print( data )"
   ]
  },
  {
   "cell_type": "markdown",
   "metadata": {},
   "source": [
    "#### list 資料排序\n",
    "\n",
    "##### 方法 1: 使用 list 的 `sort()` 函式\n",
    "\n",
    "##### 方法 2: 使用 Python 提供的 `sorted()` 函式"
   ]
  },
  {
   "cell_type": "code",
   "execution_count": 27,
   "metadata": {},
   "outputs": [
    {
     "name": "stdout",
     "output_type": "stream",
     "text": [
      "before sort data1: [8.0, 7.5, 3.1, -8, 199]\n",
      "after sort data1: [-8, 3.1, 7.5, 8.0, 199]\n",
      "- - - - - - - - - - - - - - - - - - - - \n",
      "before sort data2: [8.0, 7.5, 3.1, -8, 199]\n",
      "after sort data2: [-8, 3.1, 7.5, 8.0, 199]\n",
      "- - - - - - - - - - - - - - - - - - - - \n",
      "before sort data3: [8.0, 7.5, 3.1, -8, 199]\n",
      "after sort data3: [8.0, 7.5, 3.1, -8, 199]\n"
     ]
    }
   ],
   "source": [
    "data1 = [8.0, 7.5, 3.1, -8, 199]\n",
    "data2 = data1.copy() # 複製 data1 到 data2\n",
    "data3 = data1.copy() # 複製 data1 到 data3\n",
    "print( f\"before sort data1: {data1}\") # 顯示排序前的 data1\n",
    "data1.sort() # 將 data1 由小到大排序\n",
    "print( f\"after sort data1: {data1}\") # 顯示排序後的 data1\n",
    "print( \"- - \" * 10)\n",
    "print( f\"before sort data2: {data2}\") # 顯示排序前的 data2\n",
    "print( f\"after sort data2: {sorted( data2 )}\") # 顯示排序後的 data2\n",
    "print( \"- - \" * 10)\n",
    "print( f\"before sort data3: {data3}\") # 顯示排序前的 data3\n",
    "data3.sort( reverse=True ) # 將 data3 由大到小排序\n",
    "print( f\"after sort data3: { data2 }\") # 顯示排序後的 data2"
   ]
  },
  {
   "cell_type": "markdown",
   "metadata": {},
   "source": [
    "### 在 list 最後方附加新的資料 (Append list item)\n",
    "使用 list 的 `append()` 函式將新的資料附加到 list 的最後方"
   ]
  },
  {
   "cell_type": "code",
   "execution_count": 49,
   "metadata": {},
   "outputs": [
    {
     "name": "stdout",
     "output_type": "stream",
     "text": [
      "['NTU', 'NCHU', 'FCU', 'NCKU'] \n",
      " - - - - - - - - - - - - \n",
      "['NTU', 'NCHU', 'FCU', 'NCKU', 'MIT']\n"
     ]
    }
   ],
   "source": [
    "lst11 = [ 'NTU', 'NCHU', 'FCU', 'NCKU' ]\n",
    "print( lst11, '\\n', '- - ' * 6)\n",
    "lst11.append( 'MIT' )\n",
    "print( lst11 )"
   ]
  },
  {
   "cell_type": "markdown",
   "metadata": {},
   "source": [
    "### 擴展 list 的資料 (Extend list)\n",
    "如果有一個新的 list 要附加到原本的 list 上去不是用 `append()` 函式，使用 `append()' 會變成是將新的 list 變成是原 list 裡的新元素"
   ]
  },
  {
   "cell_type": "code",
   "execution_count": 33,
   "metadata": {},
   "outputs": [
    {
     "name": "stdout",
     "output_type": "stream",
     "text": [
      "lst12: \n",
      "['NTU', 'NCHU', 'FCU', 'NCKU']\n",
      "- - - - - - - - - - - - - - - - - - - - \n",
      "['NTU', 'NCHU', 'FCU', 'NCKU', [45, 67]]\n"
     ]
    }
   ],
   "source": [
    "lst12 = [ 'NTU', 'NCHU', 'FCU', 'NCKU' ]\n",
    "lst13 = [ 45, 67 ]\n",
    "print( f\"lst12: \\n{ lst12 }\")\n",
    "print( \"- - \" * 10)\n",
    "lst12.append( lst13 ) # 將 lst13 作為一個元素加入 lst12\n",
    "print( lst12 )"
   ]
  },
  {
   "cell_type": "code",
   "execution_count": 34,
   "metadata": {},
   "outputs": [
    {
     "name": "stdout",
     "output_type": "stream",
     "text": [
      "lst12: \n",
      "['NTU', 'NCHU', 'FCU', 'NCKU']\n",
      "- - - - - - - - - - - - - - - - - - - - \n",
      "['NTU', 'NCHU', 'FCU', 'NCKU', 23, 18]\n"
     ]
    }
   ],
   "source": [
    "lst12 = [ 'NTU', 'NCHU', 'FCU', 'NCKU' ]\n",
    "lst13 = [ 23, 18 ]\n",
    "print( f\"lst12: \\n{ lst12 }\")\n",
    "print( \"- - \" * 10)\n",
    "lst12.extend( lst13 ) # 將 lst13 的元素加入 lst12\n",
    "print( lst12 )"
   ]
  },
  {
   "cell_type": "markdown",
   "metadata": {},
   "source": [
    "### 使用 `extned()` 加入任何可迭代的資料 (Add any iterable)"
   ]
  },
  {
   "cell_type": "code",
   "execution_count": 35,
   "metadata": {},
   "outputs": [
    {
     "name": "stdout",
     "output_type": "stream",
     "text": [
      "['NTU', 'NCHU', 'FCU', 'NCKU'] \n",
      " - - - - - - - - - - - - \n",
      "['NTU', 'NCHU', 'FCU', 'NCKU', 'MIT', 23] \n",
      " - - - - - - - - - - - - \n",
      "['NTU', 'NCHU', 'FCU', 'NCKU', 'MIT', 23, 'name', 'age'] \n",
      " - - - - - - - - - - - - \n",
      "['NTU', 'NCHU', 'FCU', 'NCKU', 'MIT', 23, 'name', 'age', 'name', 'age'] \n",
      " - - - - - - - - - - - - \n",
      "['NTU', 'NCHU', 'FCU', 'NCKU', 'MIT', 23, 'name', 'age', 'name', 'age', 'Jack', 25] \n",
      "\n"
     ]
    }
   ],
   "source": [
    "lst14 = [ 'NTU', 'NCHU', 'FCU', 'NCKU' ] # lst14 是一個 list\n",
    "tup1 =  ( 'MIT', 23 ) # tup1 是一個 tuple\n",
    "dict1 = { 'name': 'Jack', 'age': 25 } # dict1 是一個 dictionary\n",
    "print( lst14, '\\n', '- - ' * 6)\n",
    "lst14.extend( tup1 ) # 將 tup1 的元素加入 lst14\n",
    "print( lst14, '\\n', '- - ' * 6)\n",
    "lst14.extend( dict1 ) # 將 dict1 的 key 加入 lst14\n",
    "print( lst14, '\\n', '- - ' * 6)\n",
    "lst14.extend( dict1.keys() ) # 將 dict1 的 key 加入 lst14\n",
    "print( lst14, '\\n', '- - ' * 6)\n",
    "lst14.extend( dict1.values() ) # 將 dict1 的 value 加入 lst14\n",
    "print( lst14, '\\n')"
   ]
  },
  {
   "cell_type": "markdown",
   "metadata": {},
   "source": [
    "### 將 list 裡的元素刪除 (Remove list items)\n",
    "使用 list 的 `remove()` 函式刪除在 list 中的指定的元素\n"
   ]
  },
  {
   "cell_type": "code",
   "execution_count": 13,
   "metadata": {},
   "outputs": [
    {
     "name": "stdout",
     "output_type": "stream",
     "text": [
      "['NTU', 'NCHU', 'FCU', 'NCKU', 'NCHU', 'NCHU', 'NCHU'] \n",
      " - - - - - - - - - - - - \n",
      "['NTU', 'FCU', 'NCKU', 'NCHU', 'NCHU', 'NCHU'] \n",
      " - - - - - - - - - - - - \n"
     ]
    }
   ],
   "source": [
    "lst15 = [ 'NTU', 'NCHU', 'FCU', 'NCKU', 'NCHU', 'NCHU', 'NCHU' ]\n",
    "print( lst15, '\\n', '- - ' * 6)\n",
    "lst15.remove( 'NCHU' ) # 移除第一個 'NCHU'\n",
    "print( lst15, '\\n', '- - ' * 6)"
   ]
  },
  {
   "cell_type": "markdown",
   "metadata": {},
   "source": [
    "### 使用 list 的 `pop()` 函式針依 list 的索引值刪除指定的資料 (Remove Specified index)"
   ]
  },
  {
   "cell_type": "code",
   "execution_count": 39,
   "metadata": {},
   "outputs": [
    {
     "name": "stdout",
     "output_type": "stream",
     "text": [
      "['NTU', 'NCHU', 'MIT', 'FCU', 'NCKU'] \n",
      " - - - - - - - - - - - - \n",
      "['NTU', 'NCHU', 'MIT', 'FCU'] \n",
      " - - - - - - - - - - - - \n"
     ]
    }
   ],
   "source": [
    "lst16 = [ 'NTU', 'NCHU', 'MIT', 'FCU', 'NCKU' ]\n",
    "print( lst16, '\\n', '- - ' * 6)\n",
    "lst16.pop(  ) # 未給索引值時移除 list 最後一個元素\n",
    "print( lst16, '\\n', '- - ' * 6)"
   ]
  },
  {
   "cell_type": "code",
   "execution_count": 61,
   "metadata": {},
   "outputs": [
    {
     "name": "stdout",
     "output_type": "stream",
     "text": [
      "['NTU', 'NCHU', 'MIT', 'FCU', 'NCKU'] \n",
      " - - - - - - - - - - - - \n",
      "['NTU', 'NCHU', 'FCU', 'NCKU'] \n",
      " - - - - - - - - - - - - \n"
     ]
    }
   ],
   "source": [
    "lst16 = [ 'NTU', 'NCHU', 'MIT', 'FCU', 'NCKU' ]\n",
    "print( lst16, '\\n', '- - ' * 6)\n",
    "lst16.pop( 2 ) # 移除索引值為 2 的元素\n",
    "print( lst16, '\\n', '- - ' * 6)"
   ]
  },
  {
   "cell_type": "markdown",
   "metadata": {},
   "source": [
    "#### 使用 `del` 指令刪除指定的 list 元素"
   ]
  },
  {
   "cell_type": "code",
   "execution_count": 40,
   "metadata": {},
   "outputs": [
    {
     "name": "stdout",
     "output_type": "stream",
     "text": [
      "['NTU', 'NCHU', 'MIT', 'FCU', 'NCKU'] \n",
      " - - - - - - - - - - - - \n",
      "['NTU', 'NCHU', 'FCU', 'NCKU'] \n",
      " - - - - - - - - - - - - \n"
     ]
    }
   ],
   "source": [
    "# Using   del   to remove an item from the list\n",
    "lst16 = [ 'NTU', 'NCHU', 'MIT', 'FCU', 'NCKU' ]\n",
    "print( lst16, '\\n', '- - ' * 6)\n",
    "del lst16[ 2 ] # 移除索引值為 2 的元素 \n",
    "print( lst16, '\\n', '- - ' * 6)"
   ]
  },
  {
   "cell_type": "markdown",
   "metadata": {},
   "source": [
    "#### 使用 `del` 指令刪除整個 list"
   ]
  },
  {
   "cell_type": "code",
   "execution_count": 13,
   "metadata": {},
   "outputs": [
    {
     "name": "stdout",
     "output_type": "stream",
     "text": [
      "['NTU', 'NCHU', 'MIT', 'FCU', 'NCKU'] \n",
      " - - - - - - - - - - - - \n"
     ]
    },
    {
     "ename": "NameError",
     "evalue": "name 'lst16' is not defined",
     "output_type": "error",
     "traceback": [
      "\u001b[1;31m---------------------------------------------------------------------------\u001b[0m",
      "\u001b[1;31mNameError\u001b[0m                                 Traceback (most recent call last)",
      "Cell \u001b[1;32mIn[13], line 5\u001b[0m\n\u001b[0;32m      3\u001b[0m \u001b[38;5;28mprint\u001b[39m( lst16, \u001b[38;5;124m'\u001b[39m\u001b[38;5;130;01m\\n\u001b[39;00m\u001b[38;5;124m'\u001b[39m, \u001b[38;5;124m'\u001b[39m\u001b[38;5;124m- - \u001b[39m\u001b[38;5;124m'\u001b[39m \u001b[38;5;241m*\u001b[39m \u001b[38;5;241m6\u001b[39m)\n\u001b[0;32m      4\u001b[0m \u001b[38;5;28;01mdel\u001b[39;00m lst16\n\u001b[1;32m----> 5\u001b[0m \u001b[38;5;28mprint\u001b[39m( \u001b[43mlst16\u001b[49m, \u001b[38;5;124m'\u001b[39m\u001b[38;5;130;01m\\n\u001b[39;00m\u001b[38;5;124m'\u001b[39m, \u001b[38;5;124m'\u001b[39m\u001b[38;5;124m- - \u001b[39m\u001b[38;5;124m'\u001b[39m \u001b[38;5;241m*\u001b[39m \u001b[38;5;241m6\u001b[39m)\n",
      "\u001b[1;31mNameError\u001b[0m: name 'lst16' is not defined"
     ]
    }
   ],
   "source": [
    "# Using   del   to completely delete the list\n",
    "lst16 = [ 'NTU', 'NCHU', 'MIT', 'FCU', 'NCKU' ]\n",
    "print( lst16, '\\n', '- - ' * 6)\n",
    "del lst16\n",
    "print( lst16, '\\n', '- - ' * 6)"
   ]
  },
  {
   "cell_type": "markdown",
   "metadata": {},
   "source": [
    "### 清除 list 裡的資料 (Clear the list)\n",
    "使用 `clear()` 函式清除 list 中的所有資料，但 list 物件仍然保留只是沒有資料"
   ]
  },
  {
   "cell_type": "code",
   "execution_count": 14,
   "metadata": {},
   "outputs": [
    {
     "name": "stdout",
     "output_type": "stream",
     "text": [
      "before clean lst16: \n",
      "['NTU', 'NCHU', 'MIT', 'FCU', 'NCKU']\n",
      "- - - - - - - - - - - - - - - - - - - - \n",
      "after clean lst16: \n",
      "[]\n"
     ]
    }
   ],
   "source": [
    "lst16 = [ 'NTU', 'NCHU', 'MIT', 'FCU', 'NCKU' ]\n",
    "print( f\"before clean lst16: \\n{ lst16 }\")\n",
    "print( \"- - \" * 10)\n",
    "lst16.clear( ) # 清除 lst16 的所有元素\n",
    "print( f\"after clean lst16: \\n{ lst16 }\" )"
   ]
  },
  {
   "cell_type": "markdown",
   "metadata": {},
   "source": [
    "### Looping using list comprehension\n",
    "\n",
    "- Comprehension翻譯成中文即「理解」或「推導」\n",
    "- Comprehension 指的是使用簡潔的語法來生成新的資料結構（如列表、字典或集合），這種方法允許在單行程式碼中完成資料的迭代與處理，從而達到「簡潔易讀」的效果\n",
    "- 更具象的方式來說，Comprehension 這裡的意思是「推導出一個新結果的過程」，從原始資料中通過某種邏輯（比如條件篩選、映射轉換等）推導出一個新的資料結構"
   ]
  },
  {
   "cell_type": "code",
   "execution_count": 56,
   "metadata": {},
   "outputs": [
    {
     "name": "stdout",
     "output_type": "stream",
     "text": [
      "NTU, NCHU, MIT, FCU, NCKU, \n"
     ]
    }
   ],
   "source": [
    "lst17 = [ 'NTU', 'NCHU', 'MIT', 'FCU', 'NCKU' ]\n",
    "for item in lst17: # 逐一取出 lst17 的元素\n",
    "    print( item, end=\", \" ) # 印出 lst17 裡的元素資料並以逗號分隔\n",
    "print()"
   ]
  },
  {
   "cell_type": "code",
   "execution_count": 15,
   "metadata": {},
   "outputs": [
    {
     "name": "stdout",
     "output_type": "stream",
     "text": [
      "['NTU', 'NCHU', 'MIT', 'FCU', 'NCKU']\n"
     ]
    }
   ],
   "source": [
    "lst17 = [ 'NTU', 'NCHU', 'MIT', 'FCU', 'NCKU' ]\n",
    "print( [ x  for x in lst17 ] ) # 使用 list comprehension 顯示 lst17 的所有元素"
   ]
  },
  {
   "cell_type": "markdown",
   "metadata": {},
   "source": [
    "##### 練習\n",
    "\n",
    "將某個 lst17 = [ 'NTU', 'NCHU', 'MIT', 'FCU', 'NCKU' ] 找出含 C 的元素並將該元素加入到 另外一個 list"
   ]
  },
  {
   "cell_type": "code",
   "execution_count": 58,
   "metadata": {},
   "outputs": [
    {
     "name": "stdout",
     "output_type": "stream",
     "text": [
      "['NCHU', 'FCU', 'NCKU']\n"
     ]
    }
   ],
   "source": [
    "# original \n",
    "lst17 = [ 'NTU', 'NCHU', 'MIT', 'FCU', 'NCKU' ]\n",
    "lst18 = []\n",
    "\n",
    "for item in lst17: # 逐一取出 lst17 的元素\n",
    "    if 'C' in item: # 判斷 item 是否包含 'C'\n",
    "        lst18.append( item ) # 將包含 'C' 的 item 加入 lst18\n",
    "\n",
    "print( lst18 )"
   ]
  },
  {
   "cell_type": "markdown",
   "metadata": {},
   "source": [
    "#### 使用 list comprehension 達到 上述要求"
   ]
  },
  {
   "cell_type": "code",
   "execution_count": 14,
   "metadata": {},
   "outputs": [
    {
     "name": "stdout",
     "output_type": "stream",
     "text": [
      "['NCHU', 'FCU', 'NCKU']\n"
     ]
    }
   ],
   "source": [
    "# using List comprehension\n",
    "lst17 = [ 'NTU', 'NCHU', 'MIT', 'FCU', 'NCKU' ]\n",
    "lst18 = [ item for item in lst17 if 'C' in item ]\n",
    "\n",
    "print( lst18 )"
   ]
  },
  {
   "cell_type": "code",
   "execution_count": 78,
   "metadata": {},
   "outputs": [
    {
     "name": "stdout",
     "output_type": "stream",
     "text": [
      "[1, 2, 3, 4, 5, 6, 7, 8]\n"
     ]
    }
   ],
   "source": [
    "# using List comprehension to generate a list contain value from 1 to 8 \n",
    "lst19 = [ x for x in range(1, 9) ]\n",
    "print( lst19 )"
   ]
  },
  {
   "cell_type": "markdown",
   "metadata": {},
   "source": [
    "### Expression\n",
    "The expression is the current item in the iteration, but it is also the outcome, which you can manipulate before it ends up like a list item in the new list:"
   ]
  },
  {
   "cell_type": "code",
   "execution_count": 79,
   "metadata": {},
   "outputs": [
    {
     "name": "stdout",
     "output_type": "stream",
     "text": [
      "['ntu', 'nchu', 'mit', 'fcu', 'ncku']\n"
     ]
    }
   ],
   "source": [
    "lst20 = [ 'NTU', 'NCHU', 'MIT', 'FCU', 'NCKU' ]\n",
    "lst21 = [ item.lower() for item in lst20 ]\n",
    "print( lst21 )"
   ]
  },
  {
   "cell_type": "code",
   "execution_count": 83,
   "metadata": {},
   "outputs": [
    {
     "name": "stdout",
     "output_type": "stream",
     "text": [
      "['mit', 'fcu']\n"
     ]
    }
   ],
   "source": [
    "# choose item NOT contains 'N' character and make the item as lower case\n",
    "lst20 = [ 'NTU', 'NCHU', 'MIT', 'FCU', 'NCKU' ]\n",
    "lst21 = [ item.lower() for item in lst20 if 'N' not in item]\n",
    "print( lst21 )"
   ]
  },
  {
   "cell_type": "code",
   "execution_count": 81,
   "metadata": {},
   "outputs": [
    {
     "name": "stdout",
     "output_type": "stream",
     "text": [
      "['NTU', 'NCHU', 'mit', 'fcu', 'NCKU']\n"
     ]
    }
   ],
   "source": [
    "# if the item didn't contain N character then make item as lower case\n",
    "lst20 = [ 'NTU', 'NCHU', 'MIT', 'FCU', 'NCKU' ]\n",
    "lst21 = [ item.lower()if 'N' not in item else item for item in lst20 ]\n",
    "print( lst21 )"
   ]
  },
  {
   "cell_type": "markdown",
   "metadata": {},
   "source": [
    "## Customize Sort Function\n",
    "- You can also customize your own function by using the keyword argument key = function.\n",
    "- The function will return a number that will be used to sort the list (the lowest number first)"
   ]
  },
  {
   "cell_type": "code",
   "execution_count": 92,
   "metadata": {},
   "outputs": [
    {
     "name": "stdout",
     "output_type": "stream",
     "text": [
      "['orange', 'Mango', 'kiwi', 'Pineapple', 'banana', 'water melon', 'Apple'] \n",
      " - - - - - - - - - - - - \n",
      "['Apple', 'Mango', 'Pineapple', 'banana', 'kiwi', 'orange', 'water melon'] \n",
      " - - - - - - - - - - - - \n",
      "['Apple', 'banana', 'kiwi', 'Mango', 'orange', 'Pineapple', 'water melon']\n"
     ]
    }
   ],
   "source": [
    "def fun1( v1 ):\n",
    "    return v1.upper()\n",
    "\n",
    "lst24 = [\"orange\", \"Mango\", \"kiwi\", \"Pineapple\", \"banana\", 'water melon', 'Apple']\n",
    "print( lst24, '\\n', '- - ' * 6)\n",
    "lst24.sort( )\n",
    "print( lst24, '\\n', '- - ' * 6)\n",
    "lst24.sort( key=fun1 )\n",
    "print( lst24 )"
   ]
  },
  {
   "cell_type": "markdown",
   "metadata": {},
   "source": [
    "### Case Insensitive sort\n",
    "By default the sort() method is case sensitive, resulting in all capital letters being sorted before lower case letters"
   ]
  },
  {
   "cell_type": "code",
   "execution_count": 49,
   "metadata": {},
   "outputs": [
    {
     "name": "stdout",
     "output_type": "stream",
     "text": [
      "['orange', 'Mango', 'kiwi', 'Pineapple', 'banana', 'water melon', 'Apple'] \n",
      " - - - - - - - - - - - - \n",
      "['Apple', 'Mango', 'Pineapple', 'banana', 'kiwi', 'orange', 'water melon'] \n",
      " - - - - - - - - - - - - \n",
      "['Apple', 'banana', 'kiwi', 'Mango', 'orange', 'Pineapple', 'water melon']\n"
     ]
    }
   ],
   "source": [
    "lst25 = [\"orange\", \"Mango\", \"kiwi\", \"Pineapple\", \"banana\", 'water melon', 'Apple']\n",
    "print( lst25, '\\n', '- - ' * 6)\n",
    "lst25.sort( )\n",
    "print( lst25, '\\n', '- - ' * 6)\n",
    "lst25.sort( key=str.upper )\n",
    "print( lst25 )"
   ]
  },
  {
   "cell_type": "markdown",
   "metadata": {},
   "source": [
    "### Reverser Order\n",
    "- The reverse() method reverses the current sorting order of the elements."
   ]
  },
  {
   "cell_type": "code",
   "execution_count": 1,
   "metadata": {},
   "outputs": [
    {
     "name": "stdout",
     "output_type": "stream",
     "text": [
      "['orange', 'Mango', 'kiwi', 'Pineapple', 'banana', 'water melon', 'Apple'] \n",
      " - - - - - - - - - - - - \n",
      "['Apple', 'water melon', 'banana', 'Pineapple', 'kiwi', 'Mango', 'orange']\n"
     ]
    }
   ],
   "source": [
    "lst26 = [\"orange\", \"Mango\", \"kiwi\", \"Pineapple\", \"banana\", 'water melon', 'Apple']\n",
    "print( lst26, '\\n', '- - ' * 6)\n",
    "lst26.reverse()\n",
    "print( lst26 )"
   ]
  },
  {
   "cell_type": "markdown",
   "metadata": {},
   "source": [
    "## Copy Lists\n",
    "- You cannot copy a list simply by typing list2 = list1, because: list2 will only be a reference to list1, and changes made in list1 will automatically also be made in list2.\n",
    "- There are ways to make a copy, one way is to use the built-in List method copy()."
   ]
  },
  {
   "cell_type": "code",
   "execution_count": 4,
   "metadata": {},
   "outputs": [
    {
     "name": "stdout",
     "output_type": "stream",
     "text": [
      "['orange', 'Mango', 'kiwi', 'Pineapple', 'banana', 'water melon', 'Apple']\n",
      "['orange', 'Mango', 'kiwi', 'Pineapple', 'banana', 'water melon', 'Apple']\n",
      "['Jack', 'Mango', 'kiwi', 'Pineapple', 'banana', 'water melon', 'Apple']\n",
      "['Jack', 'Mango', 'kiwi', 'Pineapple', 'banana', 'water melon', 'Apple']\n"
     ]
    }
   ],
   "source": [
    "lst27 = [\"orange\", \"Mango\", \"kiwi\", \"Pineapple\", \"banana\", 'water melon', 'Apple']\n",
    "testLst = lst27 \n",
    "print(lst27)\n",
    "print(testLst)\n",
    "testLst[0] = 'Jack'\n",
    "print(lst27)\n",
    "print(testLst)"
   ]
  },
  {
   "cell_type": "code",
   "execution_count": 5,
   "metadata": {},
   "outputs": [
    {
     "name": "stdout",
     "output_type": "stream",
     "text": [
      "['orange', 'Mango', 'kiwi', 'Pineapple', 'banana', 'water melon', 'Apple'] \n",
      " - - - - - - - - - - - - \n",
      "['orange', 'Mango', 'kiwi', 'Pineapple', 'banana', 'water melon', 'Apple'] \n",
      " - - - - - - - - - - - - \n",
      "['orange', 'Mango', 'kiwi', 'Pineapple', 'banana', 'water melon', 'Apple'] \n",
      " - - - - - - - - - - - - \n",
      "['orange', 'Mango_1', 'kiwi', 'Pineapple', 'banana', 'water melon', 'Apple']\n"
     ]
    }
   ],
   "source": [
    "lst27 = [\"orange\", \"Mango\", \"kiwi\", \"Pineapple\", \"banana\", 'water melon', 'Apple']\n",
    "print( lst27, '\\n', '- - ' * 6)\n",
    "lst28 = lst27.copy()\n",
    "print( lst28,  '\\n', '- - ' * 6 )\n",
    "lst28[1] = 'Mango_1'\n",
    "print( lst27, '\\n', '- - ' * 6)\n",
    "print( lst28)"
   ]
  },
  {
   "cell_type": "markdown",
   "metadata": {},
   "source": [
    "## Join Lists\n",
    "- There are several ways to join, or concatenate, two or more lists in Python.\n",
    "- One of the easiest ways are by using the + operator."
   ]
  },
  {
   "cell_type": "code",
   "execution_count": 56,
   "metadata": {},
   "outputs": [
    {
     "name": "stdout",
     "output_type": "stream",
     "text": [
      "['x', 'y', 'z'] \n",
      " - - - - - - - - - - - - \n",
      "[21, 24, 15] \n",
      " - - - - - - - - - - - - \n",
      "['x', 'y', 'z', 21, 24, 15] \n",
      " - - - - - - - - - - - - \n",
      "['x', 'y', 'z'] \n",
      " - - - - - - - - - - - - \n",
      "[21, 24, 15] \n",
      " - - - - - - - - - - - - \n",
      "['x', 'S', 'z', 21, 24, 15] \n",
      " - - - - - - - - - - - - \n"
     ]
    }
   ],
   "source": [
    "lst29 = [ 'x', 'y', 'z' ]\n",
    "print( lst29 , '\\n', '- - ' * 6)\n",
    "\n",
    "lst30 = [ 21, 24, 15 ]\n",
    "print( lst30 , '\\n', '- - ' * 6)\n",
    "\n",
    "lst31 = lst29 + lst30\n",
    "print( lst31, '\\n', '- - ' * 6 )\n",
    "lst31[ 1 ] = 'S'\n",
    "print( lst29, '\\n', '- - ' * 6 )\n",
    "print( lst30, '\\n', '- - ' * 6 )\n",
    "print( lst31, '\\n', '- - ' * 6 )"
   ]
  },
  {
   "cell_type": "code",
   "execution_count": 6,
   "metadata": {},
   "outputs": [
    {
     "name": "stdout",
     "output_type": "stream",
     "text": [
      "['x', 'y', 'z'] \n",
      " - - - - - - - - - - - - \n",
      "[21, 24, 15] \n",
      " - - - - - - - - - - - - \n",
      "['x', 'y', 'z', [21, 24, 15]]\n"
     ]
    }
   ],
   "source": [
    "lst29 = [ 'x', 'y', 'z' ]\n",
    "print( lst29 , '\\n', '- - ' * 6)\n",
    "\n",
    "lst30 = [ 21, 24, 15 ]\n",
    "print( lst30 , '\\n', '- - ' * 6)\n",
    "\n",
    "lst29.append( lst30 )\n",
    "print( lst29 )"
   ]
  },
  {
   "cell_type": "code",
   "execution_count": 8,
   "metadata": {},
   "outputs": [
    {
     "name": "stdout",
     "output_type": "stream",
     "text": [
      "['x', 'y', 'z'] \n",
      " - - - - - - - - - - - - \n",
      "[21, 24, 15] \n",
      " - - - - - - - - - - - - \n",
      "['x', 'y', 'z', 21, 24, 15]\n"
     ]
    }
   ],
   "source": [
    "lst29 = [ 'x', 'y', 'z' ]\n",
    "print( lst29 , '\\n', '- - ' * 6)\n",
    "\n",
    "lst30 = [ 21, 24, 15 ]\n",
    "print( lst30 , '\\n', '- - ' * 6)\n",
    "\n",
    "for item in lst30:\n",
    "    lst29.append( item )\n",
    "    \n",
    "print( lst29 )"
   ]
  },
  {
   "cell_type": "code",
   "execution_count": 57,
   "metadata": {},
   "outputs": [
    {
     "name": "stdout",
     "output_type": "stream",
     "text": [
      "['x', 'y', 'z'] \n",
      " - - - - - - - - - - - - \n",
      "[21, 24, 15] \n",
      " - - - - - - - - - - - - \n",
      "['x', 'y', 'z', 21, 24, 15]\n"
     ]
    }
   ],
   "source": [
    "lst29 = [ 'x', 'y', 'z' ]\n",
    "print( lst29 , '\\n', '- - ' * 6)\n",
    "\n",
    "lst30 = [ 21, 24, 15 ]\n",
    "print( lst30 , '\\n', '- - ' * 6)\n",
    "\n",
    "lst29.extend( lst30 )\n",
    "print( lst29 )"
   ]
  },
  {
   "cell_type": "markdown",
   "metadata": {},
   "source": [
    "### count() function\n",
    "Returns the number of elements with the specified value"
   ]
  },
  {
   "cell_type": "code",
   "execution_count": 61,
   "metadata": {},
   "outputs": [
    {
     "name": "stdout",
     "output_type": "stream",
     "text": [
      "9\n",
      "3\n"
     ]
    }
   ],
   "source": [
    "lst32 = ['Apple', \"orange\", 'Apple', \"Mango\", \"kiwi\", \"Pineapple\", \"banana\", 'water melon', 'Apple']\n",
    "print( len( lst32 ))\n",
    "print( lst32.count( 'Apple' ))"
   ]
  },
  {
   "cell_type": "markdown",
   "metadata": {},
   "source": [
    "## zip()\n",
    "- The `zip()` function returns a zip object, which is an iterator of tuples where the first item in each passed iterator is paired together, and then the second item in each passed iterator are paired together etc.\n",
    "- If the passed iterators have different lengths, the iterator with the least items decides the length of the new iterator."
   ]
  },
  {
   "cell_type": "code",
   "execution_count": 8,
   "metadata": {},
   "outputs": [
    {
     "name": "stdout",
     "output_type": "stream",
     "text": [
      "1 a x\n",
      "2 b y\n",
      "3 c z\n"
     ]
    }
   ],
   "source": [
    "lst33 = [ 1, 2, 3]\n",
    "lst34 = [ 'a', 'b', 'c']\n",
    "lst35 = [ 'x', 'y', 'z']\n",
    "x = zip( lst33, lst34, lst35 )\n",
    "for y, z, r in x:\n",
    "    print( y, z, r )\n"
   ]
  }
 ],
 "metadata": {
  "kernelspec": {
   "display_name": "113_Python",
   "language": "python",
   "name": "python3"
  },
  "language_info": {
   "codemirror_mode": {
    "name": "ipython",
    "version": 3
   },
   "file_extension": ".py",
   "mimetype": "text/x-python",
   "name": "python",
   "nbconvert_exporter": "python",
   "pygments_lexer": "ipython3",
   "version": "3.11.9"
  },
  "orig_nbformat": 4
 },
 "nbformat": 4,
 "nbformat_minor": 2
}
