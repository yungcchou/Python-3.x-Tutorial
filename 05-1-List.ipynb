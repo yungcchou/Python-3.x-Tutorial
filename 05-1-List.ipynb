{
 "cells": [
  {
   "cell_type": "markdown",
   "metadata": {},
   "source": [
    "# List\n",
    "- Lists are used to store multiple items in a single variable.\n",
    "- Lists are built-in data types in Python used to store collections of data\n",
    "- Lists are created using square brackets [ ]\n",
    "- List items are ordered, changeable, and allow duplicate values.\n",
    "- List items are indexed, the first item has index [0], the second item has index [1] etc."
   ]
  },
  {
   "cell_type": "code",
   "execution_count": 2,
   "metadata": {},
   "outputs": [
    {
     "name": "stdout",
     "output_type": "stream",
     "text": [
      "[] <class 'list'>\n"
     ]
    }
   ],
   "source": [
    "# ( )  <-- 小括號 tuple\n",
    "# [ ]  <-- 中括號 list, set\n",
    "# { }  <-- 大括號 dictionary\n",
    "\n",
    "# list object create\n",
    "lst = []\n",
    "print( lst, type(lst) )"
   ]
  },
  {
   "cell_type": "code",
   "execution_count": 3,
   "metadata": {},
   "outputs": [
    {
     "name": "stdout",
     "output_type": "stream",
     "text": [
      "[] <class 'list'>\n"
     ]
    }
   ],
   "source": [
    "# list object create\n",
    "lst = list( )\n",
    "print( lst, type(lst) )"
   ]
  },
  {
   "cell_type": "code",
   "execution_count": 4,
   "metadata": {},
   "outputs": [
    {
     "name": "stdout",
     "output_type": "stream",
     "text": [
      "['apple', 'asus', 'acer', 'Gigabyte', 21, 41.31] <class 'list'>\n"
     ]
    }
   ],
   "source": [
    "# creat list with data\n",
    "lst1 = [ 'apple', 'asus', 'acer', 'Gigabyte', 21, 41.31 ]\n",
    "print( lst1, type(lst1) )"
   ]
  },
  {
   "cell_type": "code",
   "execution_count": 5,
   "metadata": {},
   "outputs": [
    {
     "name": "stdout",
     "output_type": "stream",
     "text": [
      "['a', 'p', 'p', 'l', 'e']\n"
     ]
    }
   ],
   "source": [
    "# creat list using list constructor\n",
    "# lst01 = list( 'apple', 'asus', 'acer', 'Gigabyte'  )\n",
    "lst01 = list( 'apple' )\n",
    "print( lst01 )"
   ]
  },
  {
   "cell_type": "code",
   "execution_count": 6,
   "metadata": {},
   "outputs": [
    {
     "data": {
      "text/plain": [
       "['apple']"
      ]
     },
     "execution_count": 6,
     "metadata": {},
     "output_type": "execute_result"
    }
   ],
   "source": [
    "data = list( ['apple'])\n",
    "data"
   ]
  },
  {
   "cell_type": "code",
   "execution_count": 7,
   "metadata": {},
   "outputs": [
    {
     "name": "stdout",
     "output_type": "stream",
     "text": [
      "['apple', 'asus', 38, 49.3]\n",
      "['apple', 'asus', 38, 49.3]\n"
     ]
    }
   ],
   "source": [
    "# creat list using list constructor\n",
    "lst02 = list([ 'apple', 'asus', 38, 49.3 ] )\n",
    "lst03 = [ 'apple', 'asus', 38, 49.3 ] \n",
    "print( lst02 )\n",
    "print( lst03 )"
   ]
  },
  {
   "cell_type": "code",
   "execution_count": 8,
   "metadata": {},
   "outputs": [
    {
     "name": "stdout",
     "output_type": "stream",
     "text": [
      "['apple', 'asus', 'acer', 'Gigabyte']\n"
     ]
    }
   ],
   "source": [
    "# creat list using list constructor\n",
    "lst01 = list( ('apple', 'asus', 'acer', 'Gigabyte' ) )\n",
    "print( lst01 )"
   ]
  },
  {
   "cell_type": "code",
   "execution_count": 9,
   "metadata": {},
   "outputs": [
    {
     "name": "stdout",
     "output_type": "stream",
     "text": [
      "['apple', 35, 'NTD', 10]\n"
     ]
    }
   ],
   "source": [
    "# creat list with different type of data\n",
    "lst2 = [ 'apple', 35, 'NTD', 10 ]\n",
    "print( lst2 )"
   ]
  },
  {
   "cell_type": "code",
   "execution_count": 10,
   "metadata": {},
   "outputs": [
    {
     "name": "stdout",
     "output_type": "stream",
     "text": [
      "['Jack', 'David', 'Jack', 'Jannie', 'Jack']\n"
     ]
    }
   ],
   "source": [
    "# duplicate items in a list\n",
    "lst3 = [ 'Jack', 'David', 'Jack', 'Jannie', 'Jack' ]\n",
    "print( lst3 )"
   ]
  },
  {
   "cell_type": "code",
   "execution_count": 11,
   "metadata": {},
   "outputs": [
    {
     "name": "stdout",
     "output_type": "stream",
     "text": [
      "5\n"
     ]
    }
   ],
   "source": [
    "# List length\n",
    "lst3 = [ 'Jack', 'David', 'Jack', 'Jannie', 'Jack' ]\n",
    "print( len (lst3) ) # length"
   ]
  },
  {
   "cell_type": "code",
   "execution_count": 13,
   "metadata": {},
   "outputs": [
    {
     "name": "stdout",
     "output_type": "stream",
     "text": [
      "The length of lst4 is 4\n",
      "Jack\tdavid\tjannie\tkevin\t\n"
     ]
    }
   ],
   "source": [
    "# input multiple data and save data into a list\n",
    "# show the length of the list\n",
    "lst4 = list( input().split() )   \n",
    "#lst4 = list( 'Jack david jannie kevin' )\n",
    "print( f'The length of lst4 is {len(lst4)}')\n",
    "for item in lst4:\n",
    "    print( item, end='\\t')\n",
    "print()"
   ]
  },
  {
   "cell_type": "markdown",
   "metadata": {},
   "source": [
    "## Access List items\n",
    "List items are indexed and you can access them by referring to the index number"
   ]
  },
  {
   "cell_type": "code",
   "execution_count": 14,
   "metadata": {},
   "outputs": [
    {
     "name": "stdout",
     "output_type": "stream",
     "text": [
      "Jack\t%%\tJannie\n",
      "Jack\t David\n"
     ]
    }
   ],
   "source": [
    "# Print the first item of the list\n",
    "# Negative indexing means start from the end\n",
    "lst5 = [ 'Jack', 'David', 'Jack', 'Jannie' ]\n",
    "print( lst5[0], lst5[ -1 ], sep='\\t%%\\t')\n",
    "print(f\"{lst5[-2]}\\t {lst5[-3]}\")"
   ]
  },
  {
   "cell_type": "code",
   "execution_count": 15,
   "metadata": {},
   "outputs": [
    {
     "name": "stdout",
     "output_type": "stream",
     "text": [
      "Jannie\n"
     ]
    }
   ],
   "source": [
    "print(lst5[len(lst5)-1])"
   ]
  },
  {
   "cell_type": "code",
   "execution_count": 16,
   "metadata": {},
   "outputs": [
    {
     "name": "stdout",
     "output_type": "stream",
     "text": [
      "Jannie\n"
     ]
    }
   ],
   "source": [
    "print( lst5[ -1 ])"
   ]
  },
  {
   "cell_type": "code",
   "execution_count": 17,
   "metadata": {},
   "outputs": [
    {
     "name": "stdout",
     "output_type": "stream",
     "text": [
      "['asus', 'acer']\n"
     ]
    }
   ],
   "source": [
    "# Range of indexes\n",
    "lst6 = list( ( 'apple', 'asus', 'acer', 'Gigabyte' ) )\n",
    "print( lst6[1:-1] )"
   ]
  },
  {
   "cell_type": "code",
   "execution_count": 18,
   "metadata": {},
   "outputs": [
    {
     "name": "stdout",
     "output_type": "stream",
     "text": [
      "['asus', 'acer', 'Gigabyte']\n"
     ]
    }
   ],
   "source": [
    "# Range of indexes\n",
    "lst6 = list( ( 'apple', 'asus', 'acer', 'Gigabyte' ) )\n",
    "print( lst6[1: ] )"
   ]
  },
  {
   "cell_type": "code",
   "execution_count": 19,
   "metadata": {},
   "outputs": [
    {
     "name": "stdout",
     "output_type": "stream",
     "text": [
      "['apple', 'asus']\n"
     ]
    }
   ],
   "source": [
    "# Range of indexes\n",
    "lst6 = list( ( 'apple', 'asus', 'acer', 'Gigabyte' ) )\n",
    "print( lst6[ :2] )"
   ]
  },
  {
   "cell_type": "code",
   "execution_count": 20,
   "metadata": {},
   "outputs": [
    {
     "name": "stdout",
     "output_type": "stream",
     "text": [
      "['apple', 'acer']\n"
     ]
    }
   ],
   "source": [
    "# Range of indexes\n",
    "lst6 = list( ( 'apple', 'asus', 'acer', 'Gigabyte' ) )\n",
    "print( lst6[0: : 2] )  # 0, 2, 4, ....\n",
    "# [ start : end : step ]\n",
    "\n",
    "# 請同學 以 range() 產生一個包含 1, 2, ... 50 的整數放到一個 List 裡\n",
    "# 再用 [  :  :  ] 方式去建構成一個 只有 奇數 的新 List"
   ]
  },
  {
   "cell_type": "code",
   "execution_count": 21,
   "metadata": {},
   "outputs": [
    {
     "data": {
      "text/plain": [
       "[1,\n",
       " 3,\n",
       " 5,\n",
       " 7,\n",
       " 9,\n",
       " 11,\n",
       " 13,\n",
       " 15,\n",
       " 17,\n",
       " 19,\n",
       " 21,\n",
       " 23,\n",
       " 25,\n",
       " 27,\n",
       " 29,\n",
       " 31,\n",
       " 33,\n",
       " 35,\n",
       " 37,\n",
       " 39,\n",
       " 41,\n",
       " 43,\n",
       " 45,\n",
       " 47,\n",
       " 49]"
      ]
     },
     "execution_count": 21,
     "metadata": {},
     "output_type": "execute_result"
    }
   ],
   "source": [
    "lst001 = list(range( 1, 51, 2))\n",
    "lst001"
   ]
  },
  {
   "cell_type": "code",
   "execution_count": 22,
   "metadata": {},
   "outputs": [
    {
     "data": {
      "text/plain": [
       "[1, 5, 9, 13, 17, 21, 25, 29, 33, 37, 41, 45, 49]"
      ]
     },
     "execution_count": 22,
     "metadata": {},
     "output_type": "execute_result"
    }
   ],
   "source": [
    "lst002 = lst001[0 : : 2]\n",
    "lst002"
   ]
  },
  {
   "cell_type": "code",
   "execution_count": 23,
   "metadata": {},
   "outputs": [
    {
     "name": "stdout",
     "output_type": "stream",
     "text": [
      "325\n"
     ]
    }
   ],
   "source": [
    "print( sum( lst002 ) )"
   ]
  },
  {
   "cell_type": "code",
   "execution_count": 25,
   "metadata": {},
   "outputs": [
    {
     "name": "stdout",
     "output_type": "stream",
     "text": [
      "25\n"
     ]
    }
   ],
   "source": [
    "n, m = map( int, input().split() )\n",
    "if n % 2 == 0:\n",
    "    n += 1\n",
    "lst003 = list( range( n, m+1, 2 ) )\n",
    "print( sum( lst003 ) )\n",
    "# 1 3 5 7 9"
   ]
  },
  {
   "cell_type": "code",
   "execution_count": 27,
   "metadata": {},
   "outputs": [
    {
     "name": "stdout",
     "output_type": "stream",
     "text": [
      "['Gigabyte', 'acer', 'asus']\n"
     ]
    }
   ],
   "source": [
    "# Range of indexes\n",
    "lst6 = list( ( 'apple', 'asus', 'acer', 'Gigabyte' ) )\n",
    "print( lst6[-1:0:-1] )"
   ]
  },
  {
   "cell_type": "code",
   "execution_count": 28,
   "metadata": {},
   "outputs": [
    {
     "name": "stdout",
     "output_type": "stream",
     "text": [
      "['Gigabyte', 'acer', 'asus', 'apple']\n"
     ]
    }
   ],
   "source": [
    "# Range of indexes\n",
    "lst6 = list( ( 'apple', 'asus', 'acer', 'Gigabyte' ) )\n",
    "print( lst6[-1: :-1] )"
   ]
  },
  {
   "cell_type": "markdown",
   "metadata": {},
   "source": [
    "### Check if item exists\n",
    "To determine if a specified item is present in a list use the in keyword:"
   ]
  },
  {
   "cell_type": "code",
   "execution_count": 29,
   "metadata": {},
   "outputs": [
    {
     "name": "stdout",
     "output_type": "stream",
     "text": [
      "\"CYUT\" is not exists in the list\n"
     ]
    }
   ],
   "source": [
    "lst7 = list( ( 'NTU', 'NCHU', 'FCU', 'NCKU', 'FCU', 'FCU') )\n",
    "txt = input()\n",
    "if txt in lst7:\n",
    "    print( f'\"{txt}\" index is { lst7.index(txt) }' )\n",
    "else:\n",
    "    print( f'\"{txt}\" is not exists in the list')"
   ]
  },
  {
   "cell_type": "markdown",
   "metadata": {},
   "source": [
    "## Change List Items\n",
    "To change the value of a specific item, refer to the index number"
   ]
  },
  {
   "cell_type": "code",
   "execution_count": 31,
   "metadata": {},
   "outputs": [
    {
     "name": "stdout",
     "output_type": "stream",
     "text": [
      "['NTU', 'NCHU', 'FCU', 'NCKU']\n",
      "------  separate line  ------\n",
      "['FCU', 'NCHU', 'NTU', 'NCKU']\n"
     ]
    }
   ],
   "source": [
    "# Change the first and third items:\n",
    "lst8 = list( ( 'NTU', 'NCHU', 'FCU', 'NCKU' ) )\n",
    "print( lst8 )\n",
    "print( '--' * 3, ' separate line ', '--' * 3)\n",
    "lst8[ 0 ] = 'FCU'\n",
    "lst8[ 2 ] = 'NTU'\n",
    "print( lst8 )"
   ]
  },
  {
   "cell_type": "code",
   "execution_count": 32,
   "metadata": {},
   "outputs": [
    {
     "name": "stdout",
     "output_type": "stream",
     "text": [
      "['NTU', 'NCHU', 'FCU', 'NCKU']\n",
      "------  separate line  ------ \n",
      "\n",
      "['FCU', 'NCHU', 'NTU', 'NCKU']\n"
     ]
    }
   ],
   "source": [
    "# change a range of item values\n",
    "lst9 = list( ( 'NTU', 'NCHU', 'FCU', 'NCKU' ) )\n",
    "print( lst9 )\n",
    "print( '--' * 3, ' separate line ', '--' * 3, '\\n')\n",
    "lst9[ 0 : 3 ] = ['FCU', 'NCHU', 'NTU' ]\n",
    "\n",
    "print( lst9 )"
   ]
  },
  {
   "cell_type": "code",
   "execution_count": 33,
   "metadata": {},
   "outputs": [
    {
     "name": "stdout",
     "output_type": "stream",
     "text": [
      "['NTU', 'NCHU', 'FCU', 'NCKU']\n",
      "------  separate line  ------ \n",
      "\n",
      "['FCU', 'NCHU', 'MIT', 'FCU', 'NCKU']\n"
     ]
    }
   ],
   "source": [
    "# Change the first and second values by replacing it with three new values\n",
    "lst9 = list( ( 'NTU', 'NCHU', 'FCU', 'NCKU' ) )\n",
    "print( lst9 )\n",
    "print( '--' * 3, ' separate line ', '--' * 3, '\\n')\n",
    "lst9[ 0 : 2 ] = ['FCU', 'NCHU', 'MIT' ]\n",
    "print( lst9 )"
   ]
  },
  {
   "cell_type": "code",
   "execution_count": 34,
   "metadata": {},
   "outputs": [
    {
     "name": "stdout",
     "output_type": "stream",
     "text": [
      "['NTU', 'NCHU', 'FCU', 'NCKU']\n",
      "------  separate line  ------ \n",
      "\n",
      "['FCU', 'NCHU', 'NCKU']\n"
     ]
    }
   ],
   "source": [
    "# Change the first to third values by replacing it with two new values\n",
    "lst9 = list( ( 'NTU', 'NCHU', 'FCU', 'NCKU' ) )\n",
    "print( lst9 )\n",
    "print( '--' * 3, ' separate line ', '--' * 3, '\\n')\n",
    "lst9[ 0 : 3 ] = ['FCU', 'NCHU' ]\n",
    "print( lst9 )"
   ]
  },
  {
   "cell_type": "markdown",
   "metadata": {},
   "source": [
    "### Insert items\n",
    "- To insert a new list item, without replacing any of the existing values, we can use the insert() method.\n",
    "- The insert() method inserts an item at the specified index"
   ]
  },
  {
   "cell_type": "code",
   "execution_count": 35,
   "metadata": {},
   "outputs": [
    {
     "name": "stdout",
     "output_type": "stream",
     "text": [
      "['NTU', 'NCHU', 'FCU', 'NCKU'] \n",
      " - - - - - - - - - - - - \n",
      "['NTU', 'MIT', 'NCHU', 'FCU', 'NCKU']\n"
     ]
    }
   ],
   "source": [
    "lst10 = [ 'NTU', 'NCHU', 'FCU', 'NCKU' ]\n",
    "print( lst10, '\\n', '- - ' * 6)\n",
    "lst10.insert( 1, 'MIT' )\n",
    "print( lst10 )"
   ]
  },
  {
   "cell_type": "markdown",
   "metadata": {},
   "source": [
    "請同學，用  while 迴圈 讓使用者持續輸入數字 (整數/浮點數)，直到  -999 結束，\n",
    "結束後印出 由小到大的元素排列資料\n",
    "\n",
    "3\n",
    "9\n",
    "-1\n",
    "-8\n",
    "89\n",
    "-999\n",
    "\n",
    "-8 -1 3 9 89\n",
    "\n",
    "\n",
    "3 10\n",
    "\n",
    "9"
   ]
  },
  {
   "cell_type": "code",
   "execution_count": 37,
   "metadata": {},
   "outputs": [
    {
     "name": "stdout",
     "output_type": "stream",
     "text": [
      "[3]\n",
      "[3, 9]\n",
      "[3, 9, 11]\n",
      "[3, 9, 11, 17]\n"
     ]
    }
   ],
   "source": [
    "data = []\n",
    "while True:\n",
    "    n = int(input())\n",
    "    if n == -999:\n",
    "        break\n",
    "    if len(data) == 0:\n",
    "        data.append( n )\n",
    "    else:\n",
    "        i = 0\n",
    "        flag = True\n",
    "        while data[i] < n:\n",
    "            i += 1\n",
    "            if i == len(data):\n",
    "                flag = False\n",
    "                break\n",
    "        if flag:\n",
    "            data.insert( i, n )\n",
    "        else:\n",
    "            data.append( n )\n",
    "    print( data )\n",
    "#  3 9 11 17 "
   ]
  },
  {
   "cell_type": "code",
   "execution_count": 6,
   "metadata": {},
   "outputs": [
    {
     "name": "stdout",
     "output_type": "stream",
     "text": [
      "[10.0]\n",
      "0 10.0\n",
      "[8.0, 10.0]\n",
      "0 8.0\n",
      "[5.0, 8.0, 10.0]\n",
      "[5.0, 8.0, 10.0, 11.0]\n",
      "[5.0, 8.0, 10.0, 11.0, 12.0]\n",
      "0 5.0\n",
      "[3.0, 5.0, 8.0, 10.0, 11.0, 12.0]\n",
      "done\n"
     ]
    }
   ],
   "source": [
    "v1 = float(input())\n",
    "data = [] \n",
    "while v1 != -999:\n",
    "    flag = True\n",
    "    for i in data:\n",
    "        if v1 < i:\n",
    "            idx = data.index( i )\n",
    "            data.insert( idx, v1 )\n",
    "            flag = False\n",
    "            break\n",
    "    if flag == True:\n",
    "        data.append( v1 )\n",
    "    print(data)\n",
    "    v1 = float(input())\n",
    "print(\"done\")"
   ]
  },
  {
   "cell_type": "code",
   "execution_count": 12,
   "metadata": {},
   "outputs": [
    {
     "data": {
      "text/plain": [
       "[-8, 3.1, 7.5, 8.0, 199]"
      ]
     },
     "execution_count": 12,
     "metadata": {},
     "output_type": "execute_result"
    }
   ],
   "source": [
    "data1 = [8.0, 7.5, 3.1, -8, 199]\n",
    "data1.sort()\n",
    "data1"
   ]
  },
  {
   "cell_type": "markdown",
   "metadata": {},
   "source": [
    "### Append list item\n",
    "To add an item to the end of the list, use the   append()   method"
   ]
  },
  {
   "cell_type": "code",
   "execution_count": 49,
   "metadata": {},
   "outputs": [
    {
     "name": "stdout",
     "output_type": "stream",
     "text": [
      "['NTU', 'NCHU', 'FCU', 'NCKU'] \n",
      " - - - - - - - - - - - - \n",
      "['NTU', 'NCHU', 'FCU', 'NCKU', 'MIT']\n"
     ]
    }
   ],
   "source": [
    "lst11 = [ 'NTU', 'NCHU', 'FCU', 'NCKU' ]\n",
    "print( lst11, '\\n', '- - ' * 6)\n",
    "lst11.append( 'MIT' )\n",
    "print( lst11 )"
   ]
  },
  {
   "cell_type": "markdown",
   "metadata": {},
   "source": [
    "### Extend list\n",
    "To append elements from another list to the current list, use the extend() method."
   ]
  },
  {
   "cell_type": "code",
   "execution_count": 13,
   "metadata": {},
   "outputs": [
    {
     "name": "stdout",
     "output_type": "stream",
     "text": [
      "['NTU', 'NCHU', 'FCU', 'NCKU'] \n",
      " - - - - - - - - - - - - \n",
      "['NTU', 'NCHU', 'FCU', 'NCKU', ['MIT', 'THU']]\n"
     ]
    }
   ],
   "source": [
    "lst12 = [ 'NTU', 'NCHU', 'FCU', 'NCKU' ]\n",
    "lst13 = [ 'MIT', 'THU' ]\n",
    "print( lst12, '\\n', '- - ' * 6)\n",
    "lst12.append( lst13 )\n",
    "print( lst12 )"
   ]
  },
  {
   "cell_type": "markdown",
   "metadata": {},
   "source": [
    "NTU\n",
    "NCHU\n",
    "FCU\n",
    "NCKU\n",
    "MIT\n",
    "THU "
   ]
  },
  {
   "cell_type": "code",
   "execution_count": 36,
   "metadata": {},
   "outputs": [
    {
     "name": "stdout",
     "output_type": "stream",
     "text": [
      "['NTU', 'NCHU', 'FCU', 'NCKU'] \n",
      " - - - - - - - - - - - - \n",
      "['NTU', 'NCHU', 'FCU', 'NCKU', 'MIT', 'THU']\n"
     ]
    }
   ],
   "source": [
    "lst12 = [ 'NTU', 'NCHU', 'FCU', 'NCKU' ]\n",
    "lst13 = [ 'MIT', 'THU' ]\n",
    "print( lst12, '\\n', '- - ' * 6)\n",
    "lst12.extend( lst13 )\n",
    "print( lst12 )"
   ]
  },
  {
   "cell_type": "markdown",
   "metadata": {},
   "source": [
    "### Add any iterable\n",
    "The extend() method does not have to append lists, you can add any iterable object (tuples, sets, dictionaries etc.)."
   ]
  },
  {
   "cell_type": "code",
   "execution_count": 38,
   "metadata": {},
   "outputs": [
    {
     "name": "stdout",
     "output_type": "stream",
     "text": [
      "['NTU', 'NCHU', 'FCU', 'NCKU'] \n",
      " - - - - - - - - - - - - \n",
      "['NTU', 'NCHU', 'FCU', 'NCKU', 'MIT', 23] \n",
      " - - - - - - - - - - - - \n",
      "['NTU', 'NCHU', 'FCU', 'NCKU', 'MIT', 23, 'name', 'age'] \n",
      " - - - - - - - - - - - - \n",
      "['NTU', 'NCHU', 'FCU', 'NCKU', 'MIT', 23, 'name', 'age', 'name', 'age'] \n",
      " - - - - - - - - - - - - \n",
      "['NTU', 'NCHU', 'FCU', 'NCKU', 'MIT', 23, 'name', 'age', 'name', 'age', 'Jack', 25] \n",
      "\n"
     ]
    }
   ],
   "source": [
    "lst14 = [ 'NTU', 'NCHU', 'FCU', 'NCKU' ]\n",
    "tup1 =  ( 'MIT', 23 )\n",
    "dict1 = { 'name': 'Jack', 'age': 25 }\n",
    "print( lst14, '\\n', '- - ' * 6)\n",
    "lst14.extend( tup1 )\n",
    "print( lst14, '\\n', '- - ' * 6)\n",
    "lst14.extend( dict1 )\n",
    "print( lst14, '\\n', '- - ' * 6)\n",
    "lst14.extend( dict1.keys() )\n",
    "print( lst14, '\\n', '- - ' * 6)\n",
    "lst14.extend( dict1.values() )\n",
    "print( lst14, '\\n')"
   ]
  },
  {
   "cell_type": "markdown",
   "metadata": {},
   "source": [
    "### Remove list items\n",
    "The remove() method removes the specified item."
   ]
  },
  {
   "cell_type": "code",
   "execution_count": 13,
   "metadata": {},
   "outputs": [
    {
     "name": "stdout",
     "output_type": "stream",
     "text": [
      "['NTU', 'NCHU', 'FCU', 'NCKU', 'NCHU', 'NCHU', 'NCHU'] \n",
      " - - - - - - - - - - - - \n",
      "['NTU', 'FCU', 'NCKU', 'NCHU', 'NCHU', 'NCHU'] \n",
      " - - - - - - - - - - - - \n"
     ]
    }
   ],
   "source": [
    "lst15 = [ 'NTU', 'NCHU', 'FCU', 'NCKU', 'NCHU', 'NCHU', 'NCHU' ]\n",
    "print( lst15, '\\n', '- - ' * 6)\n",
    "lst15.remove( 'NCHU' )\n",
    "print( lst15, '\\n', '- - ' * 6)"
   ]
  },
  {
   "cell_type": "markdown",
   "metadata": {},
   "source": [
    "### Remove Specified index\n",
    "The pop() method removes the specified index."
   ]
  },
  {
   "cell_type": "code",
   "execution_count": 39,
   "metadata": {},
   "outputs": [
    {
     "name": "stdout",
     "output_type": "stream",
     "text": [
      "['NTU', 'NCHU', 'MIT', 'FCU', 'NCKU'] \n",
      " - - - - - - - - - - - - \n",
      "['NTU', 'NCHU', 'MIT', 'FCU'] \n",
      " - - - - - - - - - - - - \n"
     ]
    }
   ],
   "source": [
    "lst16 = [ 'NTU', 'NCHU', 'MIT', 'FCU', 'NCKU' ]\n",
    "print( lst16, '\\n', '- - ' * 6)\n",
    "lst16.pop(  )\n",
    "print( lst16, '\\n', '- - ' * 6)"
   ]
  },
  {
   "cell_type": "code",
   "execution_count": 61,
   "metadata": {},
   "outputs": [
    {
     "name": "stdout",
     "output_type": "stream",
     "text": [
      "['NTU', 'NCHU', 'MIT', 'FCU', 'NCKU'] \n",
      " - - - - - - - - - - - - \n",
      "['NTU', 'NCHU', 'FCU', 'NCKU'] \n",
      " - - - - - - - - - - - - \n"
     ]
    }
   ],
   "source": [
    "lst16 = [ 'NTU', 'NCHU', 'MIT', 'FCU', 'NCKU' ]\n",
    "print( lst16, '\\n', '- - ' * 6)\n",
    "lst16.pop( 2 )\n",
    "print( lst16, '\\n', '- - ' * 6)"
   ]
  },
  {
   "cell_type": "code",
   "execution_count": 40,
   "metadata": {},
   "outputs": [
    {
     "name": "stdout",
     "output_type": "stream",
     "text": [
      "['NTU', 'NCHU', 'MIT', 'FCU', 'NCKU'] \n",
      " - - - - - - - - - - - - \n",
      "['NTU', 'NCHU', 'FCU', 'NCKU'] \n",
      " - - - - - - - - - - - - \n"
     ]
    }
   ],
   "source": [
    "# Using   del   to remove an item from the list\n",
    "lst16 = [ 'NTU', 'NCHU', 'MIT', 'FCU', 'NCKU' ]\n",
    "print( lst16, '\\n', '- - ' * 6)\n",
    "del lst16[ 2 ] # delete \n",
    "print( lst16, '\\n', '- - ' * 6)"
   ]
  },
  {
   "cell_type": "code",
   "execution_count": 41,
   "metadata": {},
   "outputs": [
    {
     "name": "stdout",
     "output_type": "stream",
     "text": [
      "['NTU', 'NCHU', 'MIT', 'FCU', 'NCKU'] \n",
      " - - - - - - - - - - - - \n"
     ]
    },
    {
     "ename": "NameError",
     "evalue": "name 'lst16' is not defined",
     "output_type": "error",
     "traceback": [
      "\u001b[0;31m---------------------------------------------------------------------------\u001b[0m",
      "\u001b[0;31mNameError\u001b[0m                                 Traceback (most recent call last)",
      "\u001b[1;32m/Users/yungchen/ownCloud/09_Teach/111-1學期/2_Python/demo-code/List_Demo0.ipynb Cell 42\u001b[0m in \u001b[0;36m<cell line: 5>\u001b[0;34m()\u001b[0m\n\u001b[1;32m      <a href='vscode-notebook-cell:/Users/yungchen/ownCloud/09_Teach/111-1%E5%AD%B8%E6%9C%9F/2_Python/demo-code/List_Demo0.ipynb#X56sZmlsZQ%3D%3D?line=2'>3</a>\u001b[0m \u001b[39mprint\u001b[39m( lst16, \u001b[39m'\u001b[39m\u001b[39m\\n\u001b[39;00m\u001b[39m'\u001b[39m, \u001b[39m'\u001b[39m\u001b[39m- - \u001b[39m\u001b[39m'\u001b[39m \u001b[39m*\u001b[39m \u001b[39m6\u001b[39m)\n\u001b[1;32m      <a href='vscode-notebook-cell:/Users/yungchen/ownCloud/09_Teach/111-1%E5%AD%B8%E6%9C%9F/2_Python/demo-code/List_Demo0.ipynb#X56sZmlsZQ%3D%3D?line=3'>4</a>\u001b[0m \u001b[39mdel\u001b[39;00m lst16\n\u001b[0;32m----> <a href='vscode-notebook-cell:/Users/yungchen/ownCloud/09_Teach/111-1%E5%AD%B8%E6%9C%9F/2_Python/demo-code/List_Demo0.ipynb#X56sZmlsZQ%3D%3D?line=4'>5</a>\u001b[0m \u001b[39mprint\u001b[39m( lst16, \u001b[39m'\u001b[39m\u001b[39m\\n\u001b[39;00m\u001b[39m'\u001b[39m, \u001b[39m'\u001b[39m\u001b[39m- - \u001b[39m\u001b[39m'\u001b[39m \u001b[39m*\u001b[39m \u001b[39m6\u001b[39m)\n",
      "\u001b[0;31mNameError\u001b[0m: name 'lst16' is not defined"
     ]
    }
   ],
   "source": [
    "# Using   del   to completely delete the list\n",
    "lst16 = [ 'NTU', 'NCHU', 'MIT', 'FCU', 'NCKU' ]\n",
    "print( lst16, '\\n', '- - ' * 6)\n",
    "del lst16\n",
    "print( lst16, '\\n', '- - ' * 6)"
   ]
  },
  {
   "cell_type": "markdown",
   "metadata": {},
   "source": [
    "### Clear the list\n",
    "- The clear() method empties the list.\n",
    "- The list still remains, but it has no content."
   ]
  },
  {
   "cell_type": "code",
   "execution_count": 65,
   "metadata": {},
   "outputs": [
    {
     "name": "stdout",
     "output_type": "stream",
     "text": [
      "['NTU', 'NCHU', 'MIT', 'FCU', 'NCKU'] \n",
      " - - - - - - - - - - - - \n",
      "[] \n",
      " - - - - - - - - - - - - \n"
     ]
    }
   ],
   "source": [
    "lst16 = [ 'NTU', 'NCHU', 'MIT', 'FCU', 'NCKU' ]\n",
    "print( lst16, '\\n', '- - ' * 6)\n",
    "lst16.clear()\n",
    "print( lst16, '\\n', '- - ' * 6)"
   ]
  },
  {
   "cell_type": "markdown",
   "metadata": {},
   "source": [
    "### Looping using list comprehension\n",
    "A short hand for loop that will print all items in a list:"
   ]
  },
  {
   "cell_type": "code",
   "execution_count": 7,
   "metadata": {},
   "outputs": [
    {
     "name": "stdout",
     "output_type": "stream",
     "text": [
      "NTU\n",
      "NCHU\n",
      "MIT\n",
      "FCU\n",
      "NCKU\n"
     ]
    },
    {
     "data": {
      "text/plain": [
       "[None, None, None, None, None]"
      ]
     },
     "execution_count": 7,
     "metadata": {},
     "output_type": "execute_result"
    }
   ],
   "source": [
    "lst17 = [ 'NTU', 'NCHU', 'MIT', 'FCU', 'NCKU' ]\n",
    "# for item in lst17:\n",
    "#     print( item )\n",
    "[ print( item ) for item in lst17 ] "
   ]
  },
  {
   "cell_type": "markdown",
   "metadata": {},
   "source": [
    "## List comprehension\n",
    "List comprehension offers a shorter syntax when you want to create a new list based on the values of an existing list."
   ]
  },
  {
   "cell_type": "code",
   "execution_count": 44,
   "metadata": {},
   "outputs": [
    {
     "name": "stdout",
     "output_type": "stream",
     "text": [
      "['NCHU', 'FCU', 'NCKU']\n"
     ]
    }
   ],
   "source": [
    "# original \n",
    "lst17 = [ 'NTU', 'NCHU', 'MIT', 'FCU', 'NCKU' ]\n",
    "lst18 = []\n",
    "\n",
    "for item in lst17:\n",
    "    if 'C' in item:\n",
    "        lst18.append( item )\n",
    "\n",
    "print( lst18 )"
   ]
  },
  {
   "cell_type": "code",
   "execution_count": 14,
   "metadata": {},
   "outputs": [
    {
     "name": "stdout",
     "output_type": "stream",
     "text": [
      "['NCHU', 'FCU', 'NCKU']\n"
     ]
    }
   ],
   "source": [
    "# using List comprehension\n",
    "lst17 = [ 'NTU', 'NCHU', 'MIT', 'FCU', 'NCKU' ]\n",
    "lst18 = [ item for item in lst17 if 'C' in item ]\n",
    "\n",
    "print( lst18 )"
   ]
  },
  {
   "cell_type": "code",
   "execution_count": 78,
   "metadata": {},
   "outputs": [
    {
     "name": "stdout",
     "output_type": "stream",
     "text": [
      "[1, 2, 3, 4, 5, 6, 7, 8]\n"
     ]
    }
   ],
   "source": [
    "# using List comprehension to generate a list contain value from 1 to 8 \n",
    "lst19 = [ x for x in range(1, 9) ]\n",
    "print( lst19 )"
   ]
  },
  {
   "cell_type": "markdown",
   "metadata": {},
   "source": [
    "### Expression\n",
    "The expression is the current item in the iteration, but it is also the outcome, which you can manipulate before it ends up like a list item in the new list:"
   ]
  },
  {
   "cell_type": "code",
   "execution_count": 79,
   "metadata": {},
   "outputs": [
    {
     "name": "stdout",
     "output_type": "stream",
     "text": [
      "['ntu', 'nchu', 'mit', 'fcu', 'ncku']\n"
     ]
    }
   ],
   "source": [
    "lst20 = [ 'NTU', 'NCHU', 'MIT', 'FCU', 'NCKU' ]\n",
    "lst21 = [ item.lower() for item in lst20 ]\n",
    "print( lst21 )"
   ]
  },
  {
   "cell_type": "code",
   "execution_count": 83,
   "metadata": {},
   "outputs": [
    {
     "name": "stdout",
     "output_type": "stream",
     "text": [
      "['mit', 'fcu']\n"
     ]
    }
   ],
   "source": [
    "# choose item NOT contains 'N' character and make the item as lower case\n",
    "lst20 = [ 'NTU', 'NCHU', 'MIT', 'FCU', 'NCKU' ]\n",
    "lst21 = [ item.lower() for item in lst20 if 'N' not in item]\n",
    "print( lst21 )"
   ]
  },
  {
   "cell_type": "code",
   "execution_count": 81,
   "metadata": {},
   "outputs": [
    {
     "name": "stdout",
     "output_type": "stream",
     "text": [
      "['NTU', 'NCHU', 'mit', 'fcu', 'NCKU']\n"
     ]
    }
   ],
   "source": [
    "# if the item didn't contain N character then make item as lower case\n",
    "lst20 = [ 'NTU', 'NCHU', 'MIT', 'FCU', 'NCKU' ]\n",
    "lst21 = [ item.lower()if 'N' not in item else item for item in lst20 ]\n",
    "print( lst21 )"
   ]
  },
  {
   "cell_type": "markdown",
   "metadata": {},
   "source": [
    "## Sort lists\n",
    "List objects have a sort() method that will sort the list alphanumerically, ascending, by default"
   ]
  },
  {
   "cell_type": "code",
   "execution_count": 46,
   "metadata": {},
   "outputs": [
    {
     "name": "stdout",
     "output_type": "stream",
     "text": [
      "[8, 9, 22, 13, 134, -9] \n",
      " - - - - - - - - - - - - \n",
      "[-9, 8, 9, 13, 22, 134] \n",
      " - - - - - - - - - - - - \n",
      "[134, 22, 13, 9, 8, -9]\n"
     ]
    }
   ],
   "source": [
    "lst22 = [ 8, 9, 22, 13, 134, -9 ]\n",
    "print( lst22, '\\n', '- - ' * 6)\n",
    "lst22.sort() # ascending\n",
    "print( lst22, '\\n', '- - ' * 6)\n",
    "lst22.sort( reverse=True)  # Descending\n",
    "print( lst22 )"
   ]
  },
  {
   "cell_type": "code",
   "execution_count": 47,
   "metadata": {},
   "outputs": [
    {
     "name": "stdout",
     "output_type": "stream",
     "text": [
      "['orange', 'mango', 'kiwi', 'pineapple', 'banana', 'water melon'] \n",
      " - - - - - - - - - - - - \n",
      "['banana', 'kiwi', 'mango', 'orange', 'pineapple', 'water melon'] \n",
      " - - - - - - - - - - - - \n",
      "['water melon', 'pineapple', 'orange', 'mango', 'kiwi', 'banana']\n"
     ]
    }
   ],
   "source": [
    "lst23 = [\"orange\", \"mango\", \"kiwi\", \"pineapple\", \"banana\", 'water melon']\n",
    "print( lst23, '\\n', '- - ' * 6)\n",
    "lst23.sort()\n",
    "print( lst23, '\\n', '- - ' * 6)\n",
    "lst23.sort( reverse=True )\n",
    "print( lst23 )"
   ]
  },
  {
   "cell_type": "markdown",
   "metadata": {},
   "source": [
    "## Customize Sort Function\n",
    "- You can also customize your own function by using the keyword argument key = function.\n",
    "- The function will return a number that will be used to sort the list (the lowest number first)"
   ]
  },
  {
   "cell_type": "code",
   "execution_count": 92,
   "metadata": {},
   "outputs": [
    {
     "name": "stdout",
     "output_type": "stream",
     "text": [
      "['orange', 'Mango', 'kiwi', 'Pineapple', 'banana', 'water melon', 'Apple'] \n",
      " - - - - - - - - - - - - \n",
      "['Apple', 'Mango', 'Pineapple', 'banana', 'kiwi', 'orange', 'water melon'] \n",
      " - - - - - - - - - - - - \n",
      "['Apple', 'banana', 'kiwi', 'Mango', 'orange', 'Pineapple', 'water melon']\n"
     ]
    }
   ],
   "source": [
    "def fun1( v1 ):\n",
    "    return v1.upper()\n",
    "\n",
    "lst24 = [\"orange\", \"Mango\", \"kiwi\", \"Pineapple\", \"banana\", 'water melon', 'Apple']\n",
    "print( lst24, '\\n', '- - ' * 6)\n",
    "lst24.sort( )\n",
    "print( lst24, '\\n', '- - ' * 6)\n",
    "lst24.sort( key=fun1 )\n",
    "print( lst24 )"
   ]
  },
  {
   "cell_type": "markdown",
   "metadata": {},
   "source": [
    "### Case Insensitive sort\n",
    "By default the sort() method is case sensitive, resulting in all capital letters being sorted before lower case letters"
   ]
  },
  {
   "cell_type": "code",
   "execution_count": 49,
   "metadata": {},
   "outputs": [
    {
     "name": "stdout",
     "output_type": "stream",
     "text": [
      "['orange', 'Mango', 'kiwi', 'Pineapple', 'banana', 'water melon', 'Apple'] \n",
      " - - - - - - - - - - - - \n",
      "['Apple', 'Mango', 'Pineapple', 'banana', 'kiwi', 'orange', 'water melon'] \n",
      " - - - - - - - - - - - - \n",
      "['Apple', 'banana', 'kiwi', 'Mango', 'orange', 'Pineapple', 'water melon']\n"
     ]
    }
   ],
   "source": [
    "lst25 = [\"orange\", \"Mango\", \"kiwi\", \"Pineapple\", \"banana\", 'water melon', 'Apple']\n",
    "print( lst25, '\\n', '- - ' * 6)\n",
    "lst25.sort( )\n",
    "print( lst25, '\\n', '- - ' * 6)\n",
    "lst25.sort( key=str.upper )\n",
    "print( lst25 )"
   ]
  },
  {
   "cell_type": "markdown",
   "metadata": {},
   "source": [
    "### Reverser Order\n",
    "- The reverse() method reverses the current sorting order of the elements."
   ]
  },
  {
   "cell_type": "code",
   "execution_count": 1,
   "metadata": {},
   "outputs": [
    {
     "name": "stdout",
     "output_type": "stream",
     "text": [
      "['orange', 'Mango', 'kiwi', 'Pineapple', 'banana', 'water melon', 'Apple'] \n",
      " - - - - - - - - - - - - \n",
      "['Apple', 'water melon', 'banana', 'Pineapple', 'kiwi', 'Mango', 'orange']\n"
     ]
    }
   ],
   "source": [
    "lst26 = [\"orange\", \"Mango\", \"kiwi\", \"Pineapple\", \"banana\", 'water melon', 'Apple']\n",
    "print( lst26, '\\n', '- - ' * 6)\n",
    "lst26.reverse()\n",
    "print( lst26 )"
   ]
  },
  {
   "cell_type": "markdown",
   "metadata": {},
   "source": [
    "## Copy Lists\n",
    "- You cannot copy a list simply by typing list2 = list1, because: list2 will only be a reference to list1, and changes made in list1 will automatically also be made in list2.\n",
    "- There are ways to make a copy, one way is to use the built-in List method copy()."
   ]
  },
  {
   "cell_type": "code",
   "execution_count": 4,
   "metadata": {},
   "outputs": [
    {
     "name": "stdout",
     "output_type": "stream",
     "text": [
      "['orange', 'Mango', 'kiwi', 'Pineapple', 'banana', 'water melon', 'Apple']\n",
      "['orange', 'Mango', 'kiwi', 'Pineapple', 'banana', 'water melon', 'Apple']\n",
      "['Jack', 'Mango', 'kiwi', 'Pineapple', 'banana', 'water melon', 'Apple']\n",
      "['Jack', 'Mango', 'kiwi', 'Pineapple', 'banana', 'water melon', 'Apple']\n"
     ]
    }
   ],
   "source": [
    "lst27 = [\"orange\", \"Mango\", \"kiwi\", \"Pineapple\", \"banana\", 'water melon', 'Apple']\n",
    "testLst = lst27 \n",
    "print(lst27)\n",
    "print(testLst)\n",
    "testLst[0] = 'Jack'\n",
    "print(lst27)\n",
    "print(testLst)"
   ]
  },
  {
   "cell_type": "code",
   "execution_count": 5,
   "metadata": {},
   "outputs": [
    {
     "name": "stdout",
     "output_type": "stream",
     "text": [
      "['orange', 'Mango', 'kiwi', 'Pineapple', 'banana', 'water melon', 'Apple'] \n",
      " - - - - - - - - - - - - \n",
      "['orange', 'Mango', 'kiwi', 'Pineapple', 'banana', 'water melon', 'Apple'] \n",
      " - - - - - - - - - - - - \n",
      "['orange', 'Mango', 'kiwi', 'Pineapple', 'banana', 'water melon', 'Apple'] \n",
      " - - - - - - - - - - - - \n",
      "['orange', 'Mango_1', 'kiwi', 'Pineapple', 'banana', 'water melon', 'Apple']\n"
     ]
    }
   ],
   "source": [
    "lst27 = [\"orange\", \"Mango\", \"kiwi\", \"Pineapple\", \"banana\", 'water melon', 'Apple']\n",
    "print( lst27, '\\n', '- - ' * 6)\n",
    "lst28 = lst27.copy()\n",
    "print( lst28,  '\\n', '- - ' * 6 )\n",
    "lst28[1] = 'Mango_1'\n",
    "print( lst27, '\\n', '- - ' * 6)\n",
    "print( lst28)"
   ]
  },
  {
   "cell_type": "markdown",
   "metadata": {},
   "source": [
    "## Join Lists\n",
    "- There are several ways to join, or concatenate, two or more lists in Python.\n",
    "- One of the easiest ways are by using the + operator."
   ]
  },
  {
   "cell_type": "code",
   "execution_count": 56,
   "metadata": {},
   "outputs": [
    {
     "name": "stdout",
     "output_type": "stream",
     "text": [
      "['x', 'y', 'z'] \n",
      " - - - - - - - - - - - - \n",
      "[21, 24, 15] \n",
      " - - - - - - - - - - - - \n",
      "['x', 'y', 'z', 21, 24, 15] \n",
      " - - - - - - - - - - - - \n",
      "['x', 'y', 'z'] \n",
      " - - - - - - - - - - - - \n",
      "[21, 24, 15] \n",
      " - - - - - - - - - - - - \n",
      "['x', 'S', 'z', 21, 24, 15] \n",
      " - - - - - - - - - - - - \n"
     ]
    }
   ],
   "source": [
    "lst29 = [ 'x', 'y', 'z' ]\n",
    "print( lst29 , '\\n', '- - ' * 6)\n",
    "\n",
    "lst30 = [ 21, 24, 15 ]\n",
    "print( lst30 , '\\n', '- - ' * 6)\n",
    "\n",
    "lst31 = lst29 + lst30\n",
    "print( lst31, '\\n', '- - ' * 6 )\n",
    "lst31[ 1 ] = 'S'\n",
    "print( lst29, '\\n', '- - ' * 6 )\n",
    "print( lst30, '\\n', '- - ' * 6 )\n",
    "print( lst31, '\\n', '- - ' * 6 )"
   ]
  },
  {
   "cell_type": "code",
   "execution_count": 6,
   "metadata": {},
   "outputs": [
    {
     "name": "stdout",
     "output_type": "stream",
     "text": [
      "['x', 'y', 'z'] \n",
      " - - - - - - - - - - - - \n",
      "[21, 24, 15] \n",
      " - - - - - - - - - - - - \n",
      "['x', 'y', 'z', [21, 24, 15]]\n"
     ]
    }
   ],
   "source": [
    "lst29 = [ 'x', 'y', 'z' ]\n",
    "print( lst29 , '\\n', '- - ' * 6)\n",
    "\n",
    "lst30 = [ 21, 24, 15 ]\n",
    "print( lst30 , '\\n', '- - ' * 6)\n",
    "\n",
    "lst29.append( lst30 )\n",
    "print( lst29 )"
   ]
  },
  {
   "cell_type": "code",
   "execution_count": 8,
   "metadata": {},
   "outputs": [
    {
     "name": "stdout",
     "output_type": "stream",
     "text": [
      "['x', 'y', 'z'] \n",
      " - - - - - - - - - - - - \n",
      "[21, 24, 15] \n",
      " - - - - - - - - - - - - \n",
      "['x', 'y', 'z', 21, 24, 15]\n"
     ]
    }
   ],
   "source": [
    "lst29 = [ 'x', 'y', 'z' ]\n",
    "print( lst29 , '\\n', '- - ' * 6)\n",
    "\n",
    "lst30 = [ 21, 24, 15 ]\n",
    "print( lst30 , '\\n', '- - ' * 6)\n",
    "\n",
    "for item in lst30:\n",
    "    lst29.append( item )\n",
    "    \n",
    "print( lst29 )"
   ]
  },
  {
   "cell_type": "code",
   "execution_count": 57,
   "metadata": {},
   "outputs": [
    {
     "name": "stdout",
     "output_type": "stream",
     "text": [
      "['x', 'y', 'z'] \n",
      " - - - - - - - - - - - - \n",
      "[21, 24, 15] \n",
      " - - - - - - - - - - - - \n",
      "['x', 'y', 'z', 21, 24, 15]\n"
     ]
    }
   ],
   "source": [
    "lst29 = [ 'x', 'y', 'z' ]\n",
    "print( lst29 , '\\n', '- - ' * 6)\n",
    "\n",
    "lst30 = [ 21, 24, 15 ]\n",
    "print( lst30 , '\\n', '- - ' * 6)\n",
    "\n",
    "lst29.extend( lst30 )\n",
    "print( lst29 )"
   ]
  },
  {
   "cell_type": "markdown",
   "metadata": {},
   "source": [
    "### count() function\n",
    "Returns the number of elements with the specified value"
   ]
  },
  {
   "cell_type": "code",
   "execution_count": 61,
   "metadata": {},
   "outputs": [
    {
     "name": "stdout",
     "output_type": "stream",
     "text": [
      "9\n",
      "3\n"
     ]
    }
   ],
   "source": [
    "lst32 = ['Apple', \"orange\", 'Apple', \"Mango\", \"kiwi\", \"Pineapple\", \"banana\", 'water melon', 'Apple']\n",
    "print( len( lst32 ))\n",
    "print( lst32.count( 'Apple' ))"
   ]
  },
  {
   "cell_type": "markdown",
   "metadata": {},
   "source": [
    "## zip()\n",
    "- The `zip()` function returns a zip object, which is an iterator of tuples where the first item in each passed iterator is paired together, and then the second item in each passed iterator are paired together etc.\n",
    "- If the passed iterators have different lengths, the iterator with the least items decides the length of the new iterator."
   ]
  },
  {
   "cell_type": "code",
   "execution_count": 8,
   "metadata": {},
   "outputs": [
    {
     "name": "stdout",
     "output_type": "stream",
     "text": [
      "1 a x\n",
      "2 b y\n",
      "3 c z\n"
     ]
    }
   ],
   "source": [
    "lst33 = [ 1, 2, 3]\n",
    "lst34 = [ 'a', 'b', 'c']\n",
    "lst35 = [ 'x', 'y', 'z']\n",
    "x = zip( lst33, lst34, lst35 )\n",
    "for y, z, r in x:\n",
    "    print( y, z, r )\n"
   ]
  }
 ],
 "metadata": {
  "kernelspec": {
   "display_name": "Python 3",
   "language": "python",
   "name": "python3"
  },
  "language_info": {
   "codemirror_mode": {
    "name": "ipython",
    "version": 3
   },
   "file_extension": ".py",
   "mimetype": "text/x-python",
   "name": "python",
   "nbconvert_exporter": "python",
   "pygments_lexer": "ipython3",
   "version": "3.11.9"
  },
  "orig_nbformat": 4
 },
 "nbformat": 4,
 "nbformat_minor": 2
}
