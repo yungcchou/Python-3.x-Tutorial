{
 "cells": [
  {
   "cell_type": "markdown",
   "metadata": {},
   "source": [
    "# 函式呼叫 (Function/method)\n",
    "\n",
    "- 函式用於結構化程式\n",
    "- 將相同功能的程式獨立出來，經由函式的呼叫，傳入資料與回傳處理後的結果\n",
    "- 程式設計師只要將函式寫好，就可以不斷利用此函式做相同動作，同時可使程式碼不重複，而若要修改此功能，只要更改此函式\n",
    "- 其他程式設計師要使用此函式，只要知道此函式的功能，什麼輸入會有怎樣的輸出，而不需知道函式實作的細節。\n",
    "- 函式可幫助多位程式設計師共同開發系統，事先規劃好函式名稱與功能，再各自開發函式與整合所有程式，最後達成系統所需求的功能\n",
    "-自訂函式需要包含兩個部分\n",
    "  - 「函式的定義」: 實作函式的功能，輸入參數與回傳處理後的結果\n",
    "  - 「函式的呼叫」: 是其他程式中呼叫自訂函式，讓自訂函式真正執行"
   ]
  },
  {
   "cell_type": "code",
   "execution_count": null,
   "metadata": {},
   "outputs": [],
   "source": [
    "def menu():\n",
    "    print(\"1. Add\")\n",
    "    print(\"2. Subtract\")\n",
    "    print(\"3. Multiply\")\n",
    "    print(\"4. Divide\")\n",
    "    print(\"0. Quit\")\n",
    "\n",
    "if __name__ == \"__main__\":\n",
    "    while True:\n",
    "        menu()\n",
    "        choice = input(\"Enter choice: \")\n",
    "        if choice == 5:\n",
    "            break\n",
    "        if choice < 1 or choice > 5:\n",
    "            print(\"Invalid choice\")\n",
    "            continue\n",
    "        num1 = float(input(\"Enter first number: \"))\n",
    "        num2 = float(input(\"Enter second number: \"))\n",
    "        if choice == 1:\n",
    "            print(num1 + num2)\n",
    "        elif choice == 2:\n",
    "            print(num1 - num2)\n",
    "        elif choice == 3:\n",
    "            print(num1 * num2)\n",
    "        elif choice == 4:\n",
    "            print(num1 / num2)\n",
    "        else:\n",
    "            print(\"Invalid choice\")"
   ]
  }
 ],
 "metadata": {
  "kernelspec": {
   "display_name": "113_Python",
   "language": "python",
   "name": "python3"
  },
  "language_info": {
   "name": "python",
   "version": "3.11.9"
  }
 },
 "nbformat": 4,
 "nbformat_minor": 2
}
