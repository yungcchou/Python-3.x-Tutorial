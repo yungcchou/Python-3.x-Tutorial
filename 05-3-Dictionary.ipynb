{
 "cells": [
  {
   "cell_type": "markdown",
   "metadata": {},
   "source": [
    "# Dictionaries\n",
    "1. 如果元素的標籤包含屬性，可以使用該`屬性`的`名稱`來`檢索其值`。標籤的`屬性`和`數值`組成一個`字典`。\n",
    "2. 列表和字典的區別在於，字典不僅限於使用整數作為索引值，還可以使用任何所需的值。在字典中，索引值沒有順序。\n",
    "3. 當使用字典時，索引值被稱為「鍵」，幾乎可以是任何值。\n",
    "4. 字典用於以「鍵:值」配對的方式儲存數據。\n",
    "5. 在字典中，鍵必須是唯一的，值則不必唯一。"
   ]
  },
  {
   "cell_type": "code",
   "execution_count": 4,
   "metadata": {},
   "outputs": [
    {
     "data": {
      "text/plain": [
       "{'name': 'Monkey D. Luffy',\n",
       " 'Affiliations': 'Straw Hat Pirates',\n",
       " 'Age': 19,\n",
       " 'Height': 172}"
      ]
     },
     "execution_count": 4,
     "metadata": {},
     "output_type": "execute_result"
    }
   ],
   "source": [
    "dict1 = { \"name\": \"Monkey D. Luffy\", \"Affiliations\": 'Straw Hat Pirates',  'Age': 19, \"Height\": 172}\n",
    "dict1"
   ]
  },
  {
   "cell_type": "markdown",
   "metadata": {},
   "source": [
    "## Dictionary Items\n",
    "- 字典項目是有順序的、可更改的，且不允許重複。\n",
    "- 字典項目以「鍵:值」配對呈現，可透過「鍵名」來引用。"
   ]
  },
  {
   "cell_type": "code",
   "execution_count": 3,
   "metadata": {},
   "outputs": [
    {
     "name": "stdout",
     "output_type": "stream",
     "text": [
      "Straw Hat Pirates\n",
      "Monkey D. Luffy\n"
     ]
    }
   ],
   "source": [
    "dict1 = { \"name\": \"Monkey D. Luffy\", \"Affiliations\": 'Straw Hat Pirates',  'Age': 19, \"Height\": 172}\n",
    "print(dict1[ \"Affiliations\" ])\n",
    "print(dict1[ \"name\" ])"
   ]
  },
  {
   "cell_type": "markdown",
   "metadata": {},
   "source": [
    "## Duplicates Not Allowed\n",
    "- 字典中不能有兩個具有相同鍵的項目。\n",
    "- 如果有兩個相同鍵的項目存在，程式不會出錯誤訊息，但是同一個鍵的值會以最後出現的值為最終結果。"
   ]
  },
  {
   "cell_type": "code",
   "execution_count": 1,
   "metadata": {},
   "outputs": [
    {
     "data": {
      "text/plain": [
       "{'name': 'Monkey D. Luffy',\n",
       " 'Affiliations': 'Straw Hat Pirates',\n",
       " 'Age': 23,\n",
       " 'Height': 172}"
      ]
     },
     "execution_count": 1,
     "metadata": {},
     "output_type": "execute_result"
    }
   ],
   "source": [
    "dict1 = { \"name\": \"Monkey D. Luffy\", \"Affiliations\": 'Straw Hat Pirates',  'Age': 19, \"Height\": 172, 'Age': 23 }\n",
    "dict1"
   ]
  },
  {
   "cell_type": "code",
   "execution_count": 20,
   "metadata": {},
   "outputs": [
    {
     "name": "stdout",
     "output_type": "stream",
     "text": [
      "total 4 items in the dict1\n"
     ]
    }
   ],
   "source": [
    "dict1 = { \"name\": \"Monkey D. Luffy\", \"Affiliations\": 'Straw Hat Pirates',  'Age': 19, \"Height\": 172}\n",
    "print( f'total { len( dict1 )} items in the dict1' )"
   ]
  },
  {
   "cell_type": "markdown",
   "metadata": {},
   "source": [
    "## Dictionary Items - Data Types\n",
    "- 字典項目中的值可以是任何數據類型："
   ]
  },
  {
   "cell_type": "code",
   "execution_count": 2,
   "metadata": {},
   "outputs": [
    {
     "data": {
      "text/plain": [
       "{'name': 'Monkey D. Luffy',\n",
       " 'Affiliations': 'Straw Hat Pirates',\n",
       " 'Age': 19,\n",
       " 'Height': 172,\n",
       " 'crew': ['Roronoa Zoro', 'Nami', 'Usopp', 'Sanji'],\n",
       " 9: 'One Piece'}"
      ]
     },
     "execution_count": 2,
     "metadata": {},
     "output_type": "execute_result"
    }
   ],
   "source": [
    "dict2 = { \"name\": \"Monkey D. Luffy\", \"Affiliations\": 'Straw Hat Pirates',  'Age': 19, \"Height\": 172, 'crew': ['Roronoa Zoro', 'Nami', 'Usopp', 'Sanji' ], 9: 'One Piece'}\n",
    "dict2"
   ]
  },
  {
   "cell_type": "markdown",
   "metadata": {},
   "source": [
    "## Accessing Items\n",
    "- 您可以透過`中括號`中的鍵名來訪問字典的項目："
   ]
  },
  {
   "cell_type": "code",
   "execution_count": 23,
   "metadata": {},
   "outputs": [
    {
     "name": "stdout",
     "output_type": "stream",
     "text": [
      "Monkey D. Luffy\n",
      "One Piece\n"
     ]
    }
   ],
   "source": [
    "dict2 = { \"name\": \"Monkey D. Luffy\", \"Affiliations\": 'Straw Hat Pirates',  'Age': 19, \"Height\": 172, 'crew': ['Roronoa Zoro', 'Nami', 'Usopp', 'Sanji' ], 9: 'One Piece'}\n",
    "print( dict2[ 'name' ] )\n",
    "print( dict2.get( 9 ))"
   ]
  },
  {
   "cell_type": "markdown",
   "metadata": {},
   "source": [
    "### Get Keys\n",
    "- `keys()` 方法將返回字典中所有鍵的列表。"
   ]
  },
  {
   "cell_type": "code",
   "execution_count": 24,
   "metadata": {},
   "outputs": [
    {
     "name": "stdout",
     "output_type": "stream",
     "text": [
      "dict_keys(['name', 'Affiliations', 'Age', 'Height', 'crew', 9])\n"
     ]
    }
   ],
   "source": [
    "dict2 = { \"name\": \"Monkey D. Luffy\", \"Affiliations\": 'Straw Hat Pirates',  'Age': 19, \"Height\": 172, 'crew': ['Roronoa Zoro', 'Nami', 'Usopp', 'Sanji' ], 9: 'One Piece'}\n",
    "print( dict2.keys() )"
   ]
  },
  {
   "cell_type": "markdown",
   "metadata": {},
   "source": [
    "鍵的列表是字典的視圖 (View)，這意味著對字典所做的任何更改都會反映在鍵列表 (Key list) 中。"
   ]
  },
  {
   "cell_type": "code",
   "execution_count": 26,
   "metadata": {},
   "outputs": [
    {
     "name": "stdout",
     "output_type": "stream",
     "text": [
      "keys: dict_keys(['name', 'Affiliations', 'Age', 'Height'])\n",
      "- - - - - - - - - - - - - - - - - - - - - - - - \n",
      "keys: dict_keys(['name', 'Affiliations', 'Age', 'Height', 'weight'])\n",
      "- - - - - - - - - - - - - - - - - - - - - - - - \n"
     ]
    }
   ],
   "source": [
    "dict3 = { \"name\": \"Monkey D. Luffy\", \"Affiliations\": 'Straw Hat Pirates',  'Age': 19, \"Height\": 172}\n",
    "keyList = dict3.keys()\n",
    "print( f'keys: { keyList }' )\n",
    "print( '- - ' * 12 )\n",
    "dict3[ 'weight' ] = 53\n",
    "print( f'keys: { keyList }' )\n",
    "print( '- - ' * 12 )"
   ]
  },
  {
   "cell_type": "code",
   "execution_count": 5,
   "metadata": {},
   "outputs": [
    {
     "name": "stdout",
     "output_type": "stream",
     "text": [
      "{'name': ' luffy', 'age': ' 19', 'height': ' 172'}\n"
     ]
    }
   ],
   "source": [
    "testDict = {}\n",
    "for i in range( 3 ):\n",
    "    key, value = input( 'Enter key and value separated by comma: ' ).split( ',' )\n",
    "    testDict[ key ] = value\n",
    "print( testDict )"
   ]
  },
  {
   "cell_type": "markdown",
   "metadata": {},
   "source": [
    "## Get Values\n",
    "- `values()` 方法將取得字典中所有值 (value) 的列表 (list)。\n",
    "- 值的列表是字典的視圖 (view)，這意味著對字典所做的任何更改都會反映在值列表 (value list) 中。"
   ]
  },
  {
   "cell_type": "code",
   "execution_count": 29,
   "metadata": {},
   "outputs": [
    {
     "name": "stdout",
     "output_type": "stream",
     "text": [
      "values: dict_values(['Monkey D. Luffy', 'Straw Hat Pirates', 19, 172])\n",
      "- - - - - - - - - - - - - - - - - - - - - - - - \n",
      "values: dict_values(['Monkey D. Luffy', 'Straw Hat Pirates', 23, 172])\n",
      "- - - - - - - - - - - - - - - - - - - - - - - - \n",
      "values: dict_values(['Monkey D. Luffy', 'Straw Hat Pirates', 23, 172, 53])\n",
      "- - - - - - - - - - - - - - - - - - - - - - - - \n"
     ]
    }
   ],
   "source": [
    "dict3 = { \"name\": \"Monkey D. Luffy\", \"Affiliations\": 'Straw Hat Pirates',  'Age': 19, \"Height\": 172}\n",
    "valueList = dict3.values()\n",
    "print( f'values: { valueList }' )\n",
    "print( '- - ' * 12 )\n",
    "dict3[ 'Age' ] = 23 # update value\n",
    "print( f'values: { valueList }' )\n",
    "print( '- - ' * 12 )\n",
    "dict3[ 'weight' ] = 53  # add new key-value pair\n",
    "print( f'values: { valueList }' )\n",
    "print( '- - ' * 12 )"
   ]
  },
  {
   "cell_type": "markdown",
   "metadata": {},
   "source": [
    "### Get Items\n",
    "- `items()` 方法將以列表中元組 (tuple) 的形式取得字典 (dictionary) 中的每個項目 (item)。"
   ]
  },
  {
   "cell_type": "code",
   "execution_count": 32,
   "metadata": {},
   "outputs": [
    {
     "name": "stdout",
     "output_type": "stream",
     "text": [
      "items: dict_items([('name', 'Monkey D. Luffy'), ('Affiliations', 'Straw Hat Pirates'), ('Age', 19), ('Height', 172)])\n",
      "- - - - - - - - - - - - - - - - - - - - - - - - \n",
      "items: dict_items([('name', 'Monkey D. Luffy'), ('Affiliations', 'Straw Hat Pirates'), ('Age', 23), ('Height', 172)])\n",
      "- - - - - - - - - - - - - - - - - - - - - - - - \n"
     ]
    }
   ],
   "source": [
    "dict3 = { \"name\": \"Monkey D. Luffy\", \"Affiliations\": 'Straw Hat Pirates',  'Age': 19, \"Height\": 172}\n",
    "itemList = dict3.items()\n",
    "print( f'items: { itemList }' )\n",
    "print( '- - ' * 12 )\n",
    "dict3[ 'Age' ] = 23\n",
    "print( f'items: { itemList }' )\n",
    "print( '- - ' * 12 )"
   ]
  },
  {
   "cell_type": "markdown",
   "metadata": {},
   "source": [
    "### Check if Key Exists\n",
    "- 要判斷指定的鍵是否存在於字典中，可以使用 `in` 關鍵字。"
   ]
  },
  {
   "cell_type": "code",
   "execution_count": 34,
   "metadata": {},
   "outputs": [
    {
     "name": "stdout",
     "output_type": "stream",
     "text": [
      "key \"Age\" is existed!!\n"
     ]
    }
   ],
   "source": [
    "dict3 = { \"name\": \"Monkey D. Luffy\", \"Affiliations\": 'Straw Hat Pirates',  'Age': 19, \"Height\": 172}\n",
    "key = input()\n",
    "if key in dict3:\n",
    "    print( f'key \"{key}\" is existed!!')\n",
    "else:\n",
    "    print( f'key \"{key}\" is NOT exist!!')"
   ]
  },
  {
   "cell_type": "markdown",
   "metadata": {},
   "source": [
    "## Change Dictionary Items\n",
    "- 您可以通過引用特定項目的鍵名來更改其值。"
   ]
  },
  {
   "cell_type": "code",
   "execution_count": 37,
   "metadata": {},
   "outputs": [
    {
     "name": "stdout",
     "output_type": "stream",
     "text": [
      "{'name': 'Monkey D. Luffy', 'Affiliations': 'Straw Hat Pirates', 'Age': 19, 'Height': 172}\n",
      "-*-*-*-*-*-*-*-*-*-*-*-*-*-*-*-*-*-*-*-*\n",
      "{'name': 'Monkey D. Luffy', 'Affiliations': 'Straw Hat Pirates', 'Age': 23, 'Height': 172}\n"
     ]
    }
   ],
   "source": [
    "dict3 = { \"name\": \"Monkey D. Luffy\", \"Affiliations\": 'Straw Hat Pirates',  'Age': 19, \"Height\": 172}\n",
    "print( dict3 )\n",
    "print( '-*-*' * 10)\n",
    "dict3[ 'Age' ] = 23\n",
    "print( dict3 )"
   ]
  },
  {
   "cell_type": "markdown",
   "metadata": {},
   "source": [
    "## Update Dictionary\n",
    "- `update()` 方法會使用給定參數中的項目來更新字典。\n",
    "- 該參數必須是字典或帶有鍵值對的可迭代物件。"
   ]
  },
  {
   "cell_type": "code",
   "execution_count": 39,
   "metadata": {},
   "outputs": [
    {
     "name": "stdout",
     "output_type": "stream",
     "text": [
      "{'name': 'Monkey D. Luffy', 'Affiliations': 'Straw Hat Pirates', 'Age': 19, 'Height': 172}\n",
      "-*-*-*-*-*-*-*-*-*-*-*-*-*-*-*-*-*-*-*-*\n",
      "{'name': 'Monkey D. Luffy', 'Affiliations': 'Straw Hat Pirates', 'Age': 23, 'Height': 172}\n"
     ]
    }
   ],
   "source": [
    "dict3 = { \"name\": \"Monkey D. Luffy\", \"Affiliations\": 'Straw Hat Pirates',  'Age': 19, \"Height\": 172}\n",
    "print( dict3 )\n",
    "print( '-*-*' * 10)\n",
    "dict3.update( { 'Age': 23 } )\n",
    "print( dict3 )"
   ]
  },
  {
   "cell_type": "markdown",
   "metadata": {},
   "source": [
    "## Adding Items\n",
    "- 向字典添加項目時使用新的`索引鍵`並為其指定一個`值`來完成的。"
   ]
  },
  {
   "cell_type": "code",
   "execution_count": 40,
   "metadata": {},
   "outputs": [
    {
     "name": "stdout",
     "output_type": "stream",
     "text": [
      "{'name': 'Monkey D. Luffy', 'Affiliations': 'Straw Hat Pirates', 'Age': 19, 'Height': 172}\n",
      "-*-*-*-*-*-*-*-*-*-*-*-*-*-*-*-*-*-*-*-*\n",
      "{'name': 'Monkey D. Luffy', 'Affiliations': 'Straw Hat Pirates', 'Age': 19, 'Height': 172, 'Job': 'Captain'}\n"
     ]
    }
   ],
   "source": [
    "dict3 = { \"name\": \"Monkey D. Luffy\", \"Affiliations\": 'Straw Hat Pirates',  'Age': 19, \"Height\": 172}\n",
    "print( dict3 )\n",
    "print( '-*-*' * 10)\n",
    "dict3[ 'Job' ] = 'Captain'\n",
    "print( dict3 )"
   ]
  },
  {
   "cell_type": "markdown",
   "metadata": {},
   "source": [
    "# Removing Items\n",
    "- 在字典中移除 item 的方式有很多種"
   ]
  },
  {
   "cell_type": "code",
   "execution_count": 41,
   "metadata": {},
   "outputs": [
    {
     "name": "stdout",
     "output_type": "stream",
     "text": [
      "{'name': 'Monkey D. Luffy', 'Affiliations': 'Straw Hat Pirates', 'Age': 19, 'Height': 172}\n",
      "-*-*-*-*-*-*-*-*-*-*-*-*-*-*-*-*-*-*-*-*\n",
      "{'name': 'Monkey D. Luffy', 'Affiliations': 'Straw Hat Pirates', 'Height': 172}\n"
     ]
    }
   ],
   "source": [
    "dict3 = { \"name\": \"Monkey D. Luffy\", \"Affiliations\": 'Straw Hat Pirates',  'Age': 19, \"Height\": 172}\n",
    "print( dict3 )\n",
    "print( '-*-*' * 10)\n",
    "dict3.pop( 'Age' ) # remove key-value pair\n",
    "print( dict3 )"
   ]
  },
  {
   "cell_type": "markdown",
   "metadata": {},
   "source": [
    "- `popitem()` 方法會移除最後插入的項目（在 3.7 版本之前，則是隨機移除一個項目）。"
   ]
  },
  {
   "cell_type": "code",
   "execution_count": 42,
   "metadata": {},
   "outputs": [
    {
     "name": "stdout",
     "output_type": "stream",
     "text": [
      "{'name': 'Monkey D. Luffy', 'Affiliations': 'Straw Hat Pirates', 'Age': 19, 'Height': 172}\n",
      "-*-*-*-*-*-*-*-*-*-*-*-*-*-*-*-*-*-*-*-*\n",
      "{'name': 'Monkey D. Luffy', 'Affiliations': 'Straw Hat Pirates', 'Age': 19}\n"
     ]
    }
   ],
   "source": [
    "dict3 = { \"name\": \"Monkey D. Luffy\", \"Affiliations\": 'Straw Hat Pirates',  'Age': 19, \"Height\": 172}\n",
    "print( dict3 )\n",
    "print( '-*-*' * 10)\n",
    "dict3.popitem(  ) # remove last key-value pair\n",
    "print( dict3 )"
   ]
  },
  {
   "cell_type": "markdown",
   "metadata": {},
   "source": [
    "- `del` 關鍵字會移除具有指定鍵名的項目 (item)。"
   ]
  },
  {
   "cell_type": "code",
   "execution_count": 43,
   "metadata": {},
   "outputs": [
    {
     "name": "stdout",
     "output_type": "stream",
     "text": [
      "{'name': 'Monkey D. Luffy', 'Affiliations': 'Straw Hat Pirates', 'Age': 19, 'Height': 172}\n",
      "-*-*-*-*-*-*-*-*-*-*-*-*-*-*-*-*-*-*-*-*\n",
      "{'name': 'Monkey D. Luffy', 'Age': 19, 'Height': 172}\n"
     ]
    }
   ],
   "source": [
    "dict3 = { \"name\": \"Monkey D. Luffy\", \"Affiliations\": 'Straw Hat Pirates',  'Age': 19, \"Height\": 172}\n",
    "print( dict3 )\n",
    "print( '-*-*' * 10)\n",
    "del dict3[ 'Affiliations' ] # remove key-value pair\n",
    "print( dict3 )"
   ]
  },
  {
   "cell_type": "code",
   "execution_count": 44,
   "metadata": {},
   "outputs": [
    {
     "name": "stdout",
     "output_type": "stream",
     "text": [
      "{'name': 'Monkey D. Luffy', 'Affiliations': 'Straw Hat Pirates', 'Age': 19, 'Height': 172}\n",
      "-*-*-*-*-*-*-*-*-*-*-*-*-*-*-*-*-*-*-*-*\n"
     ]
    },
    {
     "ename": "NameError",
     "evalue": "name 'dict3' is not defined",
     "output_type": "error",
     "traceback": [
      "\u001b[0;31m---------------------------------------------------------------------------\u001b[0m",
      "\u001b[0;31mNameError\u001b[0m                                 Traceback (most recent call last)",
      "\u001b[1;32m/Users/yungchen/ownCloud/09_Teach/111-1學期/3_Data_Structures_and_Algorithms/111-1-Python-Data-Structres-and-algorithm-demo-code/Dictionary_Demo.ipynb Cell 34\u001b[0m in \u001b[0;36m<cell line: 5>\u001b[0;34m()\u001b[0m\n\u001b[1;32m      <a href='vscode-notebook-cell:/Users/yungchen/ownCloud/09_Teach/111-1%E5%AD%B8%E6%9C%9F/3_Data_Structures_and_Algorithms/111-1-Python-Data-Structres-and-algorithm-demo-code/Dictionary_Demo.ipynb#X50sZmlsZQ%3D%3D?line=2'>3</a>\u001b[0m \u001b[39mprint\u001b[39m( \u001b[39m'\u001b[39m\u001b[39m-*-*\u001b[39m\u001b[39m'\u001b[39m \u001b[39m*\u001b[39m \u001b[39m10\u001b[39m)\n\u001b[1;32m      <a href='vscode-notebook-cell:/Users/yungchen/ownCloud/09_Teach/111-1%E5%AD%B8%E6%9C%9F/3_Data_Structures_and_Algorithms/111-1-Python-Data-Structres-and-algorithm-demo-code/Dictionary_Demo.ipynb#X50sZmlsZQ%3D%3D?line=3'>4</a>\u001b[0m \u001b[39mdel\u001b[39;00m dict3\n\u001b[0;32m----> <a href='vscode-notebook-cell:/Users/yungchen/ownCloud/09_Teach/111-1%E5%AD%B8%E6%9C%9F/3_Data_Structures_and_Algorithms/111-1-Python-Data-Structres-and-algorithm-demo-code/Dictionary_Demo.ipynb#X50sZmlsZQ%3D%3D?line=4'>5</a>\u001b[0m \u001b[39mprint\u001b[39m( dict3 )\n",
      "\u001b[0;31mNameError\u001b[0m: name 'dict3' is not defined"
     ]
    }
   ],
   "source": [
    "dict3 = { \"name\": \"Monkey D. Luffy\", \"Affiliations\": 'Straw Hat Pirates',  'Age': 19, \"Height\": 172}\n",
    "print( dict3 )\n",
    "print( '-*-*' * 10)\n",
    "del dict3 # remove the entire dictionary\n",
    "print( dict3 )"
   ]
  },
  {
   "cell_type": "markdown",
   "metadata": {},
   "source": [
    "- `clear()` 方法會清空字典。"
   ]
  },
  {
   "cell_type": "code",
   "execution_count": 45,
   "metadata": {},
   "outputs": [
    {
     "name": "stdout",
     "output_type": "stream",
     "text": [
      "{'name': 'Monkey D. Luffy', 'Affiliations': 'Straw Hat Pirates', 'Age': 19, 'Height': 172}\n",
      "-*-*-*-*-*-*-*-*-*-*-*-*-*-*-*-*-*-*-*-*\n",
      "{}\n"
     ]
    }
   ],
   "source": [
    "dict3 = { \"name\": \"Monkey D. Luffy\", \"Affiliations\": 'Straw Hat Pirates',  'Age': 19, \"Height\": 172}\n",
    "print( dict3 )\n",
    "print( '-*-*' * 10)\n",
    "dict3.clear( ) # To make the dictionary empty\n",
    "print( dict3 )"
   ]
  },
  {
   "cell_type": "markdown",
   "metadata": {},
   "source": [
    "## Loop Through a Dictionary\n",
    "- 您可以使用 `for` 迴圈拜訪字典中所有的項目 (item)。\n",
    "- 在拜訪字典時，返回值是字典的鍵，但也有方法可以返回值。"
   ]
  },
  {
   "cell_type": "code",
   "execution_count": 46,
   "metadata": {},
   "outputs": [
    {
     "name": "stdout",
     "output_type": "stream",
     "text": [
      "name\n",
      "Affiliations\n",
      "Age\n",
      "Height\n"
     ]
    }
   ],
   "source": [
    "# Print all key names in the dictionary, one by one:\n",
    "dict3 = { \"name\": \"Monkey D. Luffy\", \"Affiliations\": 'Straw Hat Pirates',  'Age': 19, \"Height\": 172}\n",
    "for item in dict3:\n",
    "    print( item )"
   ]
  },
  {
   "cell_type": "code",
   "execution_count": 49,
   "metadata": {},
   "outputs": [
    {
     "name": "stdout",
     "output_type": "stream",
     "text": [
      "name\n",
      "Affiliations\n",
      "Age\n",
      "Height\n"
     ]
    }
   ],
   "source": [
    "# You can use the keys() method to return the keys of a dictionary:\n",
    "dict3 = { \"name\": \"Monkey D. Luffy\", \"Affiliations\": 'Straw Hat Pirates',  'Age': 19, \"Height\": 172}\n",
    "for itemKey in dict3.keys():\n",
    "    print( itemKey )"
   ]
  },
  {
   "cell_type": "code",
   "execution_count": 47,
   "metadata": {},
   "outputs": [
    {
     "name": "stdout",
     "output_type": "stream",
     "text": [
      "Monkey D. Luffy\n",
      "Straw Hat Pirates\n",
      "19\n",
      "172\n"
     ]
    }
   ],
   "source": [
    "# Print all values in the dictionary, one by one:\n",
    "dict3 = { \"name\": \"Monkey D. Luffy\", \"Affiliations\": 'Straw Hat Pirates',  'Age': 19, \"Height\": 172}\n",
    "for itemKey in dict3:\n",
    "    print( dict3[ itemKey ] )"
   ]
  },
  {
   "cell_type": "code",
   "execution_count": 48,
   "metadata": {},
   "outputs": [
    {
     "name": "stdout",
     "output_type": "stream",
     "text": [
      "Monkey D. Luffy\n",
      "Straw Hat Pirates\n",
      "19\n",
      "172\n"
     ]
    }
   ],
   "source": [
    "# also use the values() method to return values of a dictionary:\n",
    "dict3 = { \"name\": \"Monkey D. Luffy\", \"Affiliations\": 'Straw Hat Pirates',  'Age': 19, \"Height\": 172}\n",
    "for itemValue in dict3.values(): \n",
    "    print( itemValue )"
   ]
  },
  {
   "cell_type": "code",
   "execution_count": 51,
   "metadata": {},
   "outputs": [
    {
     "name": "stdout",
     "output_type": "stream",
     "text": [
      "name  =>  Monkey D. Luffy\n",
      "Affiliations  =>  Straw Hat Pirates\n",
      "Age  =>  19\n",
      "Height  =>  172\n"
     ]
    }
   ],
   "source": [
    "# Loop through both keys and values, by using the items() method:\n",
    "dict3 = { \"name\": \"Monkey D. Luffy\", \"Affiliations\": 'Straw Hat Pirates',  'Age': 19, \"Height\": 172}\n",
    "for itemKey, itemValue in dict3.items():\n",
    "    print( itemKey,' => ', itemValue )"
   ]
  },
  {
   "cell_type": "code",
   "execution_count": 7,
   "metadata": {},
   "outputs": [
    {
     "data": {
      "text/plain": [
       "2"
      ]
     },
     "execution_count": 7,
     "metadata": {},
     "output_type": "execute_result"
    }
   ],
   "source": [
    "data = {'B': 2, 'C': 4, 'D': 2}\n",
    "# data.key(min(data.values()))\n",
    "min(data.values())"
   ]
  },
  {
   "cell_type": "markdown",
   "metadata": {},
   "source": [
    "## Copy a Dictionary\n",
    "- 您不能用 `dict2 = dict1` 來複製字典，因為 `dict2` 只會是 `dict1` 的記憶體位址，對 `dict1` 所做的更改會自動反映在 `dict2` 中。\n",
    "- 有幾種方法可以進行複製，其中一種是使用內建的字典方法 `copy()`。"
   ]
  },
  {
   "cell_type": "code",
   "execution_count": 8,
   "metadata": {},
   "outputs": [
    {
     "name": "stdout",
     "output_type": "stream",
     "text": [
      "=> {'name': 'Monkey D. Luffy', 'Affiliations': 'Straw Hat Pirates', 'Age': 19, 'Height': 172}\n",
      "=> {'name': 'Monkey D. Luffy', 'Affiliations': 'Straw Hat Pirates', 'Age': 23, 'Height': 172}\n",
      "=-=> {'name': 'Monkey D. Luffy', 'Affiliations': 'Straw Hat Pirates', 'Age': 19, 'Height': 172}\n"
     ]
    }
   ],
   "source": [
    "# Make a copy of a dictionary with the copy() method:\n",
    "dict3 = { \"name\": \"Monkey D. Luffy\", \"Affiliations\": 'Straw Hat Pirates',  'Age': 19, \"Height\": 172}\n",
    "print( '=>', dict3)\n",
    "dict4 = dict3.copy() # Make a copy of a dictionary\n",
    "dict3[ 'Age' ] = 23 # update value\n",
    "print( '=>', dict3)\n",
    "print( '=-=>', dict4)"
   ]
  },
  {
   "cell_type": "markdown",
   "metadata": {},
   "source": [
    "- 另一種進行複製的方法是使用內建函數 `dict()`。"
   ]
  },
  {
   "cell_type": "code",
   "execution_count": 9,
   "metadata": {},
   "outputs": [
    {
     "name": "stdout",
     "output_type": "stream",
     "text": [
      "=> {'name': 'Monkey D. Luffy', 'Affiliations': 'Straw Hat Pirates', 'Age': 19, 'Height': 172}\n",
      "=> {'name': 'Monkey D. Luffy', 'Affiliations': 'Straw Hat Pirates', 'Age': 23, 'Height': 172}\n",
      "=-=> {'name': 'Monkey D. Luffy', 'Affiliations': 'Straw Hat Pirates', 'Age': 19, 'Height': 172}\n"
     ]
    }
   ],
   "source": [
    "# Make a copy of a dictionary with the copy() method:\n",
    "dict3 = { \"name\": \"Monkey D. Luffy\", \"Affiliations\": 'Straw Hat Pirates',  'Age': 19, \"Height\": 172}\n",
    "print( '=>', dict3)\n",
    "dict4 = dict( dict3 ) # use dict() constructor to make a copy\n",
    "dict3[ 'Age' ] = 23 # update value\n",
    "print( '=>', dict3)\n",
    "print( '=-=>', dict4)"
   ]
  },
  {
   "cell_type": "markdown",
   "metadata": {},
   "source": [
    "## Nested Dictionaries\n",
    "- 字典可以包含字典，這稱為巢狀字典。"
   ]
  },
  {
   "cell_type": "code",
   "execution_count": 56,
   "metadata": {},
   "outputs": [
    {
     "name": "stdout",
     "output_type": "stream",
     "text": [
      "{'crew1': {'name': 'Monkey D. Luffy', 'Affiliations': 'Straw Hat Pirates', 'Age': 19, 'Height': 172}, 'crew2': {'name': 'Roronoa Zoro', 'Affiliations': 'Straw Hat Pirates', 'Age': 21, 'Height': 181}, 'crew3': {'name': 'Nami', 'Affiliations': 'Straw Hat Pirates', 'Age': 20, 'Height': 170}}\n"
     ]
    }
   ],
   "source": [
    "dict5 = { \"crew1\": {\"name\": \"Monkey D. Luffy\", \"Affiliations\": 'Straw Hat Pirates',  'Age': 19, \"Height\": 172},\n",
    "            \"crew2\": {\"name\": \"Roronoa Zoro\", \"Affiliations\": 'Straw Hat Pirates',  'Age': 21, \"Height\": 181},\n",
    "            \"crew3\": {\"name\": \"Nami\", \"Affiliations\": 'Straw Hat Pirates',  'Age': 20, \"Height\": 170}}\n",
    "print( dict5 )"
   ]
  },
  {
   "cell_type": "code",
   "execution_count": 57,
   "metadata": {},
   "outputs": [
    {
     "name": "stdout",
     "output_type": "stream",
     "text": [
      "{'crew1': {'name': 'Monkey D. Luffy', 'Affiliations': 'Straw Hat Pirates', 'Age': 19, 'Height': 172}, 'crew2': {'name': 'Roronoa Zoro', 'Affiliations': 'Straw Hat Pirates', 'Age': 21, 'Height': 181}, 'crew3': {'name': 'Nami', 'Affiliations': 'Straw Hat Pirates', 'Age': 20, 'Height': 170}}\n"
     ]
    }
   ],
   "source": [
    "crew1 = {\"name\": \"Monkey D. Luffy\", \"Affiliations\": 'Straw Hat Pirates',  'Age': 19, \"Height\": 172}\n",
    "crew2 = {\"name\": \"Roronoa Zoro\", \"Affiliations\": 'Straw Hat Pirates',  'Age': 21, \"Height\": 181}\n",
    "crew3 = {\"name\": \"Nami\", \"Affiliations\": 'Straw Hat Pirates',  'Age': 20, \"Height\": 170}\n",
    "dict6 = { 'crew1': crew1, 'crew2': crew2, 'crew3': crew3 } \n",
    "print( dict6 )"
   ]
  },
  {
   "cell_type": "code",
   "execution_count": 2,
   "metadata": {},
   "outputs": [
    {
     "name": "stdout",
     "output_type": "stream",
     "text": [
      "{'key1': 0, 'key2': 0, 'key3': 0}\n"
     ]
    }
   ],
   "source": [
    "# Create a dictionary with 3 keys, all with the value 0:\n",
    "tup1 = ( 'key1', 'key2', 'key3' )\n",
    "y = 0\n",
    "dict7 = dict.fromkeys( tup1, y ) # Create a dictionary with 3 keys, all with the value 0\n",
    "print( dict7 )"
   ]
  },
  {
   "cell_type": "markdown",
   "metadata": {},
   "source": [
    "- `fromkeys( keys, [value] )` 方法會取得一個具有`指定鍵`和`指定值`的字典。\n",
    "  - `keys`：必填。指定新字典的鍵的可迭代物件。\n",
    "  - `value`：選填。所有鍵的值，預設為 None。"
   ]
  },
  {
   "cell_type": "code",
   "execution_count": 60,
   "metadata": {},
   "outputs": [
    {
     "name": "stdout",
     "output_type": "stream",
     "text": [
      "{'key1': None, 'key2': None, 'key3': None}\n"
     ]
    }
   ],
   "source": [
    "tup1 = ( 'key1', 'key2', 'key3' )\n",
    "dict8 = dict.fromkeys( tup1 ) # Create a dictionary with 3 keys, all with the value None\n",
    "print( dict8 )"
   ]
  },
  {
   "cell_type": "code",
   "execution_count": 3,
   "metadata": {},
   "outputs": [
    {
     "name": "stdout",
     "output_type": "stream",
     "text": [
      "{9, 2}\n",
      "{3}\n",
      "{1, 2, 3, 4, 9}\n",
      "{1, 2, 3, 4, 9}\n",
      "{1, 4}\n",
      "{1, 4}\n"
     ]
    }
   ],
   "source": [
    "set1 = set( [1, 2, 4, 4, 9] )\n",
    "set2 = set( [1, 3, 4] )\n",
    "print( set1 - set2 )\n",
    "print( set2.difference( set1 ) ) # set2 - set1\n",
    "print( set1 | set2 ) # union\n",
    "print( set1.union( set2 ) ) # union\n",
    "print( set1 & set2 ) # intersection\n",
    "print( set1.intersection( set2 ) ) # intersection"
   ]
  }
 ],
 "metadata": {
  "kernelspec": {
   "display_name": "Python 3",
   "language": "python",
   "name": "python3"
  },
  "language_info": {
   "codemirror_mode": {
    "name": "ipython",
    "version": 3
   },
   "file_extension": ".py",
   "mimetype": "text/x-python",
   "name": "python",
   "nbconvert_exporter": "python",
   "pygments_lexer": "ipython3",
   "version": "3.11.9"
  },
  "orig_nbformat": 4
 },
 "nbformat": 4,
 "nbformat_minor": 2
}
