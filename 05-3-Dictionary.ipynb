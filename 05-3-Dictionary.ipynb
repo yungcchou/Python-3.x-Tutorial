{
 "cells": [
  {
   "cell_type": "markdown",
   "metadata": {},
   "source": [
    "# Dictionaries\n",
    "1. If the element’s tag contains an attribute or attributes, you can use the name of the attribute to retrieve its value. The attribute and value pairs of a tag make up a dictionary.\n",
    "2. The difference between list and dictionary is that the dictionary instead of using only integers as the index values, you can use any value you like. \n",
    "Within a dictionary there is no ordering of the index values. \n",
    "3. An index value, called a key when working with dictionaries, can be nearly any value.\n",
    "4. Dictionaries are used to store data values in key:value pairs.\n",
    "5. Keys must be unique, values do not have to be unique in the dictionary. "
   ]
  },
  {
   "cell_type": "code",
   "execution_count": 4,
   "metadata": {},
   "outputs": [
    {
     "data": {
      "text/plain": [
       "{'name': 'Monkey D. Luffy',\n",
       " 'Affiliations': 'Straw Hat Pirates',\n",
       " 'Age': 19,\n",
       " 'Height': 172}"
      ]
     },
     "execution_count": 4,
     "metadata": {},
     "output_type": "execute_result"
    }
   ],
   "source": [
    "dict1 = { \"name\": \"Monkey D. Luffy\", \"Affiliations\": 'Straw Hat Pirates',  'Age': 19, \"Height\": 172}\n",
    "dict1"
   ]
  },
  {
   "cell_type": "markdown",
   "metadata": {},
   "source": [
    "## Dictionary Items\n",
    "- Dictionary items are ordered, changeable, and does not allow duplicates.\n",
    "\n",
    "- Dictionary items are presented in key:value pairs, and can be referred to by using the `key name`."
   ]
  },
  {
   "cell_type": "code",
   "execution_count": 3,
   "metadata": {},
   "outputs": [
    {
     "name": "stdout",
     "output_type": "stream",
     "text": [
      "Straw Hat Pirates\n",
      "Monkey D. Luffy\n"
     ]
    }
   ],
   "source": [
    "dict1 = { \"name\": \"Monkey D. Luffy\", \"Affiliations\": 'Straw Hat Pirates',  'Age': 19, \"Height\": 172}\n",
    "print(dict1[ \"Affiliations\" ])\n",
    "print(dict1[ \"name\" ])"
   ]
  },
  {
   "cell_type": "markdown",
   "metadata": {},
   "source": [
    "## Duplicates Not Allowed\n",
    "- Dictionaries cannot have two items with the same key"
   ]
  },
  {
   "cell_type": "code",
   "execution_count": 4,
   "metadata": {},
   "outputs": [
    {
     "data": {
      "text/plain": [
       "{'name': 'Monkey D. Luffy',\n",
       " 'Affiliations': 'Straw Hat Pirates',\n",
       " 'Age': 23,\n",
       " 'Height': 172}"
      ]
     },
     "execution_count": 4,
     "metadata": {},
     "output_type": "execute_result"
    }
   ],
   "source": [
    "dict1 = { \"name\": \"Monkey D. Luffy\", \"Affiliations\": 'Straw Hat Pirates',  'Age': 19, \"Height\": 172, 'Age': 23 }\n",
    "dict1"
   ]
  },
  {
   "cell_type": "code",
   "execution_count": 20,
   "metadata": {},
   "outputs": [
    {
     "name": "stdout",
     "output_type": "stream",
     "text": [
      "total 4 items in the dict1\n"
     ]
    }
   ],
   "source": [
    "dict1 = { \"name\": \"Monkey D. Luffy\", \"Affiliations\": 'Straw Hat Pirates',  'Age': 19, \"Height\": 172}\n",
    "print( f'total { len( dict1 )} items in the dict1' )"
   ]
  },
  {
   "cell_type": "markdown",
   "metadata": {},
   "source": [
    "## Dictionary Items - Data Types\n",
    "- The values in dictionary items can be of any data type:"
   ]
  },
  {
   "cell_type": "code",
   "execution_count": 22,
   "metadata": {},
   "outputs": [
    {
     "data": {
      "text/plain": [
       "{'name': 'Monkey D. Luffy',\n",
       " 'Affiliations': 'Straw Hat Pirates',\n",
       " 'Age': 19,\n",
       " 'Height': 172,\n",
       " 'crew': ['Roronoa Zoro', 'Nami', 'Usopp', 'Sanji'],\n",
       " 9: 'One Piece'}"
      ]
     },
     "execution_count": 22,
     "metadata": {},
     "output_type": "execute_result"
    }
   ],
   "source": [
    "dict2 = { \"name\": \"Monkey D. Luffy\", \"Affiliations\": 'Straw Hat Pirates',  'Age': 19, \"Height\": 172, 'crew': ['Roronoa Zoro', 'Nami', 'Usopp', 'Sanji' ], 9: 'One Piece'}\n",
    "dict2"
   ]
  },
  {
   "cell_type": "markdown",
   "metadata": {},
   "source": [
    "## Accessing Items\n",
    "- You can access the items of a dictionary by referring to its key name, inside square brackets:"
   ]
  },
  {
   "cell_type": "code",
   "execution_count": 23,
   "metadata": {},
   "outputs": [
    {
     "name": "stdout",
     "output_type": "stream",
     "text": [
      "Monkey D. Luffy\n",
      "One Piece\n"
     ]
    }
   ],
   "source": [
    "dict2 = { \"name\": \"Monkey D. Luffy\", \"Affiliations\": 'Straw Hat Pirates',  'Age': 19, \"Height\": 172, 'crew': ['Roronoa Zoro', 'Nami', 'Usopp', 'Sanji' ], 9: 'One Piece'}\n",
    "print( dict2[ 'name' ] )\n",
    "print( dict2.get( 9 ))"
   ]
  },
  {
   "cell_type": "markdown",
   "metadata": {},
   "source": [
    "### Get Keys\n",
    "- The `keys()` method will return a list of all the keys in the dictionary."
   ]
  },
  {
   "cell_type": "code",
   "execution_count": 24,
   "metadata": {},
   "outputs": [
    {
     "name": "stdout",
     "output_type": "stream",
     "text": [
      "dict_keys(['name', 'Affiliations', 'Age', 'Height', 'crew', 9])\n"
     ]
    }
   ],
   "source": [
    "dict2 = { \"name\": \"Monkey D. Luffy\", \"Affiliations\": 'Straw Hat Pirates',  'Age': 19, \"Height\": 172, 'crew': ['Roronoa Zoro', 'Nami', 'Usopp', 'Sanji' ], 9: 'One Piece'}\n",
    "print( dict2.keys() )"
   ]
  },
  {
   "cell_type": "markdown",
   "metadata": {},
   "source": [
    "The list of the keys is a view of the dictionary, meaning that any changes done to the dictionary will be reflected in the keys list."
   ]
  },
  {
   "cell_type": "code",
   "execution_count": 26,
   "metadata": {},
   "outputs": [
    {
     "name": "stdout",
     "output_type": "stream",
     "text": [
      "keys: dict_keys(['name', 'Affiliations', 'Age', 'Height'])\n",
      "- - - - - - - - - - - - - - - - - - - - - - - - \n",
      "keys: dict_keys(['name', 'Affiliations', 'Age', 'Height', 'weight'])\n",
      "- - - - - - - - - - - - - - - - - - - - - - - - \n"
     ]
    }
   ],
   "source": [
    "dict3 = { \"name\": \"Monkey D. Luffy\", \"Affiliations\": 'Straw Hat Pirates',  'Age': 19, \"Height\": 172}\n",
    "keyList = dict3.keys()\n",
    "print( f'keys: { keyList }' )\n",
    "print( '- - ' * 12 )\n",
    "dict3[ 'weight' ] = 53\n",
    "print( f'keys: { keyList }' )\n",
    "print( '- - ' * 12 )"
   ]
  },
  {
   "cell_type": "code",
   "execution_count": 5,
   "metadata": {},
   "outputs": [
    {
     "name": "stdout",
     "output_type": "stream",
     "text": [
      "{'name': ' luffy', 'age': ' 19', 'height': ' 172'}\n"
     ]
    }
   ],
   "source": [
    "testDict = {}\n",
    "for i in range( 3 ):\n",
    "    key, value = input( 'Enter key and value separated by comma: ' ).split( ',' )\n",
    "    testDict[ key ] = value\n",
    "print( testDict )"
   ]
  },
  {
   "cell_type": "markdown",
   "metadata": {},
   "source": [
    "## Get Values\n",
    "- The `values()` method will return a list of all the values in the dictionary.\n",
    "\n",
    "- The list of the values is a view of the dictionary, meaning that any changes done to the dictionary will be reflected in the values list."
   ]
  },
  {
   "cell_type": "code",
   "execution_count": 29,
   "metadata": {},
   "outputs": [
    {
     "name": "stdout",
     "output_type": "stream",
     "text": [
      "values: dict_values(['Monkey D. Luffy', 'Straw Hat Pirates', 19, 172])\n",
      "- - - - - - - - - - - - - - - - - - - - - - - - \n",
      "values: dict_values(['Monkey D. Luffy', 'Straw Hat Pirates', 23, 172])\n",
      "- - - - - - - - - - - - - - - - - - - - - - - - \n",
      "values: dict_values(['Monkey D. Luffy', 'Straw Hat Pirates', 23, 172, 53])\n",
      "- - - - - - - - - - - - - - - - - - - - - - - - \n"
     ]
    }
   ],
   "source": [
    "dict3 = { \"name\": \"Monkey D. Luffy\", \"Affiliations\": 'Straw Hat Pirates',  'Age': 19, \"Height\": 172}\n",
    "valueList = dict3.values()\n",
    "print( f'values: { valueList }' )\n",
    "print( '- - ' * 12 )\n",
    "dict3[ 'Age' ] = 23 # update value\n",
    "print( f'values: { valueList }' )\n",
    "print( '- - ' * 12 )\n",
    "dict3[ 'weight' ] = 53  # add new key-value pair\n",
    "print( f'values: { valueList }' )\n",
    "print( '- - ' * 12 )"
   ]
  },
  {
   "cell_type": "markdown",
   "metadata": {},
   "source": [
    "### Get Items\n",
    "- The `items()` method will return each item in a dictionary, as tuples in a list."
   ]
  },
  {
   "cell_type": "code",
   "execution_count": 32,
   "metadata": {},
   "outputs": [
    {
     "name": "stdout",
     "output_type": "stream",
     "text": [
      "items: dict_items([('name', 'Monkey D. Luffy'), ('Affiliations', 'Straw Hat Pirates'), ('Age', 19), ('Height', 172)])\n",
      "- - - - - - - - - - - - - - - - - - - - - - - - \n",
      "items: dict_items([('name', 'Monkey D. Luffy'), ('Affiliations', 'Straw Hat Pirates'), ('Age', 23), ('Height', 172)])\n",
      "- - - - - - - - - - - - - - - - - - - - - - - - \n"
     ]
    }
   ],
   "source": [
    "dict3 = { \"name\": \"Monkey D. Luffy\", \"Affiliations\": 'Straw Hat Pirates',  'Age': 19, \"Height\": 172}\n",
    "itemList = dict3.items()\n",
    "print( f'items: { itemList }' )\n",
    "print( '- - ' * 12 )\n",
    "dict3[ 'Age' ] = 23\n",
    "print( f'items: { itemList }' )\n",
    "print( '- - ' * 12 )"
   ]
  },
  {
   "cell_type": "markdown",
   "metadata": {},
   "source": [
    "### Check if Key Exists\n",
    "- To determine if a specified key is present in a dictionary use the `in` keyword"
   ]
  },
  {
   "cell_type": "code",
   "execution_count": 34,
   "metadata": {},
   "outputs": [
    {
     "name": "stdout",
     "output_type": "stream",
     "text": [
      "key \"Age\" is existed!!\n"
     ]
    }
   ],
   "source": [
    "dict3 = { \"name\": \"Monkey D. Luffy\", \"Affiliations\": 'Straw Hat Pirates',  'Age': 19, \"Height\": 172}\n",
    "key = input()\n",
    "if key in dict3:\n",
    "    print( f'key \"{key}\" is existed!!')\n",
    "else:\n",
    "    print( f'key \"{key}\" is NOT exist!!')"
   ]
  },
  {
   "cell_type": "markdown",
   "metadata": {},
   "source": [
    "## Change Dictionary Items\n",
    "- You can change the value of a specific item by referring to its key name"
   ]
  },
  {
   "cell_type": "code",
   "execution_count": 37,
   "metadata": {},
   "outputs": [
    {
     "name": "stdout",
     "output_type": "stream",
     "text": [
      "{'name': 'Monkey D. Luffy', 'Affiliations': 'Straw Hat Pirates', 'Age': 19, 'Height': 172}\n",
      "-*-*-*-*-*-*-*-*-*-*-*-*-*-*-*-*-*-*-*-*\n",
      "{'name': 'Monkey D. Luffy', 'Affiliations': 'Straw Hat Pirates', 'Age': 23, 'Height': 172}\n"
     ]
    }
   ],
   "source": [
    "dict3 = { \"name\": \"Monkey D. Luffy\", \"Affiliations\": 'Straw Hat Pirates',  'Age': 19, \"Height\": 172}\n",
    "print( dict3 )\n",
    "print( '-*-*' * 10)\n",
    "dict3[ 'Age' ] = 23\n",
    "print( dict3 )"
   ]
  },
  {
   "cell_type": "markdown",
   "metadata": {},
   "source": [
    "## Update Dictionary\n",
    "- The `update()` method will update the dictionary with the items from the given argument.\n",
    "\n",
    "- The argument must be a dictionary, or an iterable object with key:value pairs."
   ]
  },
  {
   "cell_type": "code",
   "execution_count": 39,
   "metadata": {},
   "outputs": [
    {
     "name": "stdout",
     "output_type": "stream",
     "text": [
      "{'name': 'Monkey D. Luffy', 'Affiliations': 'Straw Hat Pirates', 'Age': 19, 'Height': 172}\n",
      "-*-*-*-*-*-*-*-*-*-*-*-*-*-*-*-*-*-*-*-*\n",
      "{'name': 'Monkey D. Luffy', 'Affiliations': 'Straw Hat Pirates', 'Age': 23, 'Height': 172}\n"
     ]
    }
   ],
   "source": [
    "dict3 = { \"name\": \"Monkey D. Luffy\", \"Affiliations\": 'Straw Hat Pirates',  'Age': 19, \"Height\": 172}\n",
    "print( dict3 )\n",
    "print( '-*-*' * 10)\n",
    "dict3.update( { 'Age': 23 } )\n",
    "print( dict3 )"
   ]
  },
  {
   "cell_type": "markdown",
   "metadata": {},
   "source": [
    "## Adding Items\n",
    "- Adding an item to the dictionary is done by using a new index key and assigning a value to it"
   ]
  },
  {
   "cell_type": "code",
   "execution_count": 40,
   "metadata": {},
   "outputs": [
    {
     "name": "stdout",
     "output_type": "stream",
     "text": [
      "{'name': 'Monkey D. Luffy', 'Affiliations': 'Straw Hat Pirates', 'Age': 19, 'Height': 172}\n",
      "-*-*-*-*-*-*-*-*-*-*-*-*-*-*-*-*-*-*-*-*\n",
      "{'name': 'Monkey D. Luffy', 'Affiliations': 'Straw Hat Pirates', 'Age': 19, 'Height': 172, 'Job': 'Captain'}\n"
     ]
    }
   ],
   "source": [
    "dict3 = { \"name\": \"Monkey D. Luffy\", \"Affiliations\": 'Straw Hat Pirates',  'Age': 19, \"Height\": 172}\n",
    "print( dict3 )\n",
    "print( '-*-*' * 10)\n",
    "dict3[ 'Job' ] = 'Captain'\n",
    "print( dict3 )"
   ]
  },
  {
   "cell_type": "markdown",
   "metadata": {},
   "source": [
    "# Removing Items\n",
    "- There are several methods to remove items from a dictionary"
   ]
  },
  {
   "cell_type": "code",
   "execution_count": 41,
   "metadata": {},
   "outputs": [
    {
     "name": "stdout",
     "output_type": "stream",
     "text": [
      "{'name': 'Monkey D. Luffy', 'Affiliations': 'Straw Hat Pirates', 'Age': 19, 'Height': 172}\n",
      "-*-*-*-*-*-*-*-*-*-*-*-*-*-*-*-*-*-*-*-*\n",
      "{'name': 'Monkey D. Luffy', 'Affiliations': 'Straw Hat Pirates', 'Height': 172}\n"
     ]
    }
   ],
   "source": [
    "dict3 = { \"name\": \"Monkey D. Luffy\", \"Affiliations\": 'Straw Hat Pirates',  'Age': 19, \"Height\": 172}\n",
    "print( dict3 )\n",
    "print( '-*-*' * 10)\n",
    "dict3.pop( 'Age' )\n",
    "print( dict3 )"
   ]
  },
  {
   "cell_type": "markdown",
   "metadata": {},
   "source": [
    "- The `popitem()` method removes the last inserted item (in versions before 3.7, a random item is removed instead)"
   ]
  },
  {
   "cell_type": "code",
   "execution_count": 42,
   "metadata": {},
   "outputs": [
    {
     "name": "stdout",
     "output_type": "stream",
     "text": [
      "{'name': 'Monkey D. Luffy', 'Affiliations': 'Straw Hat Pirates', 'Age': 19, 'Height': 172}\n",
      "-*-*-*-*-*-*-*-*-*-*-*-*-*-*-*-*-*-*-*-*\n",
      "{'name': 'Monkey D. Luffy', 'Affiliations': 'Straw Hat Pirates', 'Age': 19}\n"
     ]
    }
   ],
   "source": [
    "dict3 = { \"name\": \"Monkey D. Luffy\", \"Affiliations\": 'Straw Hat Pirates',  'Age': 19, \"Height\": 172}\n",
    "print( dict3 )\n",
    "print( '-*-*' * 10)\n",
    "dict3.popitem(  )\n",
    "print( dict3 )"
   ]
  },
  {
   "cell_type": "markdown",
   "metadata": {},
   "source": [
    "- The `del` keyword removes the item with the specified key name"
   ]
  },
  {
   "cell_type": "code",
   "execution_count": 43,
   "metadata": {},
   "outputs": [
    {
     "name": "stdout",
     "output_type": "stream",
     "text": [
      "{'name': 'Monkey D. Luffy', 'Affiliations': 'Straw Hat Pirates', 'Age': 19, 'Height': 172}\n",
      "-*-*-*-*-*-*-*-*-*-*-*-*-*-*-*-*-*-*-*-*\n",
      "{'name': 'Monkey D. Luffy', 'Age': 19, 'Height': 172}\n"
     ]
    }
   ],
   "source": [
    "dict3 = { \"name\": \"Monkey D. Luffy\", \"Affiliations\": 'Straw Hat Pirates',  'Age': 19, \"Height\": 172}\n",
    "print( dict3 )\n",
    "print( '-*-*' * 10)\n",
    "del dict3[ 'Affiliations' ]\n",
    "print( dict3 )"
   ]
  },
  {
   "cell_type": "code",
   "execution_count": 44,
   "metadata": {},
   "outputs": [
    {
     "name": "stdout",
     "output_type": "stream",
     "text": [
      "{'name': 'Monkey D. Luffy', 'Affiliations': 'Straw Hat Pirates', 'Age': 19, 'Height': 172}\n",
      "-*-*-*-*-*-*-*-*-*-*-*-*-*-*-*-*-*-*-*-*\n"
     ]
    },
    {
     "ename": "NameError",
     "evalue": "name 'dict3' is not defined",
     "output_type": "error",
     "traceback": [
      "\u001b[0;31m---------------------------------------------------------------------------\u001b[0m",
      "\u001b[0;31mNameError\u001b[0m                                 Traceback (most recent call last)",
      "\u001b[1;32m/Users/yungchen/ownCloud/09_Teach/111-1學期/3_Data_Structures_and_Algorithms/111-1-Python-Data-Structres-and-algorithm-demo-code/Dictionary_Demo.ipynb Cell 34\u001b[0m in \u001b[0;36m<cell line: 5>\u001b[0;34m()\u001b[0m\n\u001b[1;32m      <a href='vscode-notebook-cell:/Users/yungchen/ownCloud/09_Teach/111-1%E5%AD%B8%E6%9C%9F/3_Data_Structures_and_Algorithms/111-1-Python-Data-Structres-and-algorithm-demo-code/Dictionary_Demo.ipynb#X50sZmlsZQ%3D%3D?line=2'>3</a>\u001b[0m \u001b[39mprint\u001b[39m( \u001b[39m'\u001b[39m\u001b[39m-*-*\u001b[39m\u001b[39m'\u001b[39m \u001b[39m*\u001b[39m \u001b[39m10\u001b[39m)\n\u001b[1;32m      <a href='vscode-notebook-cell:/Users/yungchen/ownCloud/09_Teach/111-1%E5%AD%B8%E6%9C%9F/3_Data_Structures_and_Algorithms/111-1-Python-Data-Structres-and-algorithm-demo-code/Dictionary_Demo.ipynb#X50sZmlsZQ%3D%3D?line=3'>4</a>\u001b[0m \u001b[39mdel\u001b[39;00m dict3\n\u001b[0;32m----> <a href='vscode-notebook-cell:/Users/yungchen/ownCloud/09_Teach/111-1%E5%AD%B8%E6%9C%9F/3_Data_Structures_and_Algorithms/111-1-Python-Data-Structres-and-algorithm-demo-code/Dictionary_Demo.ipynb#X50sZmlsZQ%3D%3D?line=4'>5</a>\u001b[0m \u001b[39mprint\u001b[39m( dict3 )\n",
      "\u001b[0;31mNameError\u001b[0m: name 'dict3' is not defined"
     ]
    }
   ],
   "source": [
    "dict3 = { \"name\": \"Monkey D. Luffy\", \"Affiliations\": 'Straw Hat Pirates',  'Age': 19, \"Height\": 172}\n",
    "print( dict3 )\n",
    "print( '-*-*' * 10)\n",
    "del dict3\n",
    "print( dict3 )"
   ]
  },
  {
   "cell_type": "markdown",
   "metadata": {},
   "source": [
    "- The `clear()` method empties the dictionary"
   ]
  },
  {
   "cell_type": "code",
   "execution_count": 45,
   "metadata": {},
   "outputs": [
    {
     "name": "stdout",
     "output_type": "stream",
     "text": [
      "{'name': 'Monkey D. Luffy', 'Affiliations': 'Straw Hat Pirates', 'Age': 19, 'Height': 172}\n",
      "-*-*-*-*-*-*-*-*-*-*-*-*-*-*-*-*-*-*-*-*\n",
      "{}\n"
     ]
    }
   ],
   "source": [
    "dict3 = { \"name\": \"Monkey D. Luffy\", \"Affiliations\": 'Straw Hat Pirates',  'Age': 19, \"Height\": 172}\n",
    "print( dict3 )\n",
    "print( '-*-*' * 10)\n",
    "dict3.clear( )\n",
    "print( dict3 )"
   ]
  },
  {
   "cell_type": "markdown",
   "metadata": {},
   "source": [
    "## Loop Through a Dictionary\n",
    "- You can loop through a dictionary by using a `for` loop.\n",
    "\n",
    "- When looping through a dictionary, the return value are the keys of the dictionary, but there are methods to return the values as well."
   ]
  },
  {
   "cell_type": "code",
   "execution_count": 46,
   "metadata": {},
   "outputs": [
    {
     "name": "stdout",
     "output_type": "stream",
     "text": [
      "name\n",
      "Affiliations\n",
      "Age\n",
      "Height\n"
     ]
    }
   ],
   "source": [
    "# Print all key names in the dictionary, one by one:\n",
    "dict3 = { \"name\": \"Monkey D. Luffy\", \"Affiliations\": 'Straw Hat Pirates',  'Age': 19, \"Height\": 172}\n",
    "for item in dict3:\n",
    "    print( item )"
   ]
  },
  {
   "cell_type": "code",
   "execution_count": 49,
   "metadata": {},
   "outputs": [
    {
     "name": "stdout",
     "output_type": "stream",
     "text": [
      "name\n",
      "Affiliations\n",
      "Age\n",
      "Height\n"
     ]
    }
   ],
   "source": [
    "# You can use the keys() method to return the keys of a dictionary:\n",
    "dict3 = { \"name\": \"Monkey D. Luffy\", \"Affiliations\": 'Straw Hat Pirates',  'Age': 19, \"Height\": 172}\n",
    "for itemKey in dict3.keys():\n",
    "    print( itemKey )"
   ]
  },
  {
   "cell_type": "code",
   "execution_count": 47,
   "metadata": {},
   "outputs": [
    {
     "name": "stdout",
     "output_type": "stream",
     "text": [
      "Monkey D. Luffy\n",
      "Straw Hat Pirates\n",
      "19\n",
      "172\n"
     ]
    }
   ],
   "source": [
    "# Print all values in the dictionary, one by one:\n",
    "dict3 = { \"name\": \"Monkey D. Luffy\", \"Affiliations\": 'Straw Hat Pirates',  'Age': 19, \"Height\": 172}\n",
    "for itemKey in dict3:\n",
    "    print( dict3[ itemKey ] )"
   ]
  },
  {
   "cell_type": "code",
   "execution_count": 48,
   "metadata": {},
   "outputs": [
    {
     "name": "stdout",
     "output_type": "stream",
     "text": [
      "Monkey D. Luffy\n",
      "Straw Hat Pirates\n",
      "19\n",
      "172\n"
     ]
    }
   ],
   "source": [
    "# also use the values() method to return values of a dictionary:\n",
    "dict3 = { \"name\": \"Monkey D. Luffy\", \"Affiliations\": 'Straw Hat Pirates',  'Age': 19, \"Height\": 172}\n",
    "for itemValue in dict3.values():\n",
    "    print( itemValue )"
   ]
  },
  {
   "cell_type": "code",
   "execution_count": 51,
   "metadata": {},
   "outputs": [
    {
     "name": "stdout",
     "output_type": "stream",
     "text": [
      "name  =>  Monkey D. Luffy\n",
      "Affiliations  =>  Straw Hat Pirates\n",
      "Age  =>  19\n",
      "Height  =>  172\n"
     ]
    }
   ],
   "source": [
    "# Loop through both keys and values, by using the items() method:\n",
    "dict3 = { \"name\": \"Monkey D. Luffy\", \"Affiliations\": 'Straw Hat Pirates',  'Age': 19, \"Height\": 172}\n",
    "for itemKey, itemValue in dict3.items():\n",
    "    print( itemKey,' => ', itemValue )"
   ]
  },
  {
   "cell_type": "code",
   "execution_count": 7,
   "metadata": {},
   "outputs": [
    {
     "data": {
      "text/plain": [
       "2"
      ]
     },
     "execution_count": 7,
     "metadata": {},
     "output_type": "execute_result"
    }
   ],
   "source": [
    "data = {'B': 2, 'C': 4, 'D': 2}\n",
    "# data.key(min(data.values()))\n",
    "min(data.values())"
   ]
  },
  {
   "cell_type": "markdown",
   "metadata": {},
   "source": [
    "## Copy a Dictionary\n",
    "- You cannot copy a dictionary simply by typing `dict2 = dict1`, because: `dict2` will only be a reference to `dict1`, and changes made in `dict1` will automatically also be made in `dict2`.\n",
    "\n",
    "- There are ways to make a copy, one way is to use the built-in Dictionary method `copy()`."
   ]
  },
  {
   "cell_type": "code",
   "execution_count": 8,
   "metadata": {},
   "outputs": [
    {
     "name": "stdout",
     "output_type": "stream",
     "text": [
      "=> {'name': 'Monkey D. Luffy', 'Affiliations': 'Straw Hat Pirates', 'Age': 19, 'Height': 172}\n",
      "=> {'name': 'Monkey D. Luffy', 'Affiliations': 'Straw Hat Pirates', 'Age': 23, 'Height': 172}\n",
      "=-=> {'name': 'Monkey D. Luffy', 'Affiliations': 'Straw Hat Pirates', 'Age': 19, 'Height': 172}\n"
     ]
    }
   ],
   "source": [
    "# Make a copy of a dictionary with the copy() method:\n",
    "dict3 = { \"name\": \"Monkey D. Luffy\", \"Affiliations\": 'Straw Hat Pirates',  'Age': 19, \"Height\": 172}\n",
    "print( '=>', dict3)\n",
    "dict4 = dict3.copy()\n",
    "dict3[ 'Age' ] = 23\n",
    "print( '=>', dict3)\n",
    "print( '=-=>', dict4)"
   ]
  },
  {
   "cell_type": "markdown",
   "metadata": {},
   "source": [
    "- Another way to make a copy is to use the built-in function dict()."
   ]
  },
  {
   "cell_type": "code",
   "execution_count": 9,
   "metadata": {},
   "outputs": [
    {
     "name": "stdout",
     "output_type": "stream",
     "text": [
      "=> {'name': 'Monkey D. Luffy', 'Affiliations': 'Straw Hat Pirates', 'Age': 19, 'Height': 172}\n",
      "=> {'name': 'Monkey D. Luffy', 'Affiliations': 'Straw Hat Pirates', 'Age': 23, 'Height': 172}\n",
      "=-=> {'name': 'Monkey D. Luffy', 'Affiliations': 'Straw Hat Pirates', 'Age': 19, 'Height': 172}\n"
     ]
    }
   ],
   "source": [
    "# Make a copy of a dictionary with the copy() method:\n",
    "dict3 = { \"name\": \"Monkey D. Luffy\", \"Affiliations\": 'Straw Hat Pirates',  'Age': 19, \"Height\": 172}\n",
    "print( '=>', dict3)\n",
    "dict4 = dict( dict3 )\n",
    "dict3[ 'Age' ] = 23\n",
    "print( '=>', dict3)\n",
    "print( '=-=>', dict4)"
   ]
  },
  {
   "cell_type": "markdown",
   "metadata": {},
   "source": [
    "## Nested Dictionaries\n",
    "- A dictionary can contain dictionaries, this is called nested dictionaries."
   ]
  },
  {
   "cell_type": "code",
   "execution_count": 56,
   "metadata": {},
   "outputs": [
    {
     "name": "stdout",
     "output_type": "stream",
     "text": [
      "{'crew1': {'name': 'Monkey D. Luffy', 'Affiliations': 'Straw Hat Pirates', 'Age': 19, 'Height': 172}, 'crew2': {'name': 'Roronoa Zoro', 'Affiliations': 'Straw Hat Pirates', 'Age': 21, 'Height': 181}, 'crew3': {'name': 'Nami', 'Affiliations': 'Straw Hat Pirates', 'Age': 20, 'Height': 170}}\n"
     ]
    }
   ],
   "source": [
    "dict5 = { \"crew1\": {\"name\": \"Monkey D. Luffy\", \"Affiliations\": 'Straw Hat Pirates',  'Age': 19, \"Height\": 172},\n",
    "            \"crew2\": {\"name\": \"Roronoa Zoro\", \"Affiliations\": 'Straw Hat Pirates',  'Age': 21, \"Height\": 181},\n",
    "            \"crew3\": {\"name\": \"Nami\", \"Affiliations\": 'Straw Hat Pirates',  'Age': 20, \"Height\": 170}}\n",
    "print( dict5 )"
   ]
  },
  {
   "cell_type": "code",
   "execution_count": 57,
   "metadata": {},
   "outputs": [
    {
     "name": "stdout",
     "output_type": "stream",
     "text": [
      "{'crew1': {'name': 'Monkey D. Luffy', 'Affiliations': 'Straw Hat Pirates', 'Age': 19, 'Height': 172}, 'crew2': {'name': 'Roronoa Zoro', 'Affiliations': 'Straw Hat Pirates', 'Age': 21, 'Height': 181}, 'crew3': {'name': 'Nami', 'Affiliations': 'Straw Hat Pirates', 'Age': 20, 'Height': 170}}\n"
     ]
    }
   ],
   "source": [
    "crew1 = {\"name\": \"Monkey D. Luffy\", \"Affiliations\": 'Straw Hat Pirates',  'Age': 19, \"Height\": 172}\n",
    "crew2 = {\"name\": \"Roronoa Zoro\", \"Affiliations\": 'Straw Hat Pirates',  'Age': 21, \"Height\": 181}\n",
    "crew3 = {\"name\": \"Nami\", \"Affiliations\": 'Straw Hat Pirates',  'Age': 20, \"Height\": 170}\n",
    "dict6 = { 'crew1': crew1, 'crew2': crew2, 'crew3': crew3 } \n",
    "print( dict6 )"
   ]
  },
  {
   "cell_type": "code",
   "execution_count": 11,
   "metadata": {},
   "outputs": [
    {
     "name": "stdout",
     "output_type": "stream",
     "text": [
      "{'key1': 'Null', 'key2': 'Null', 'key3': 'Null'}\n"
     ]
    }
   ],
   "source": [
    "# Create a dictionary with 3 keys, all with the value 0:\n",
    "tup1 = ( 'key1', 'key2', 'key3' )\n",
    "y = 0\n",
    "dict7 = dict.fromkeys( tup1, y )\n",
    "print( dict7 )"
   ]
  },
  {
   "cell_type": "markdown",
   "metadata": {},
   "source": [
    "- `fromkeys()` method returns a dictionary with the specified keys and the specified value.\n",
    "\n",
    "- `keys`:\tRequired. An iterable specifying the keys of the new dictionary\n",
    "\n",
    "- `value`: Optional. The value for all keys. Default value is None"
   ]
  },
  {
   "cell_type": "code",
   "execution_count": 60,
   "metadata": {},
   "outputs": [
    {
     "name": "stdout",
     "output_type": "stream",
     "text": [
      "{'key1': None, 'key2': None, 'key3': None}\n"
     ]
    }
   ],
   "source": [
    "tup1 = ( 'key1', 'key2', 'key3' )\n",
    "dict8 = dict.fromkeys( tup1 )\n",
    "print( dict8 )"
   ]
  },
  {
   "cell_type": "code",
   "execution_count": 25,
   "metadata": {},
   "outputs": [
    {
     "name": "stdout",
     "output_type": "stream",
     "text": [
      "{9, 2}\n",
      "{3}\n",
      "{1, 2, 3, 4, 9}\n",
      "{1, 2, 3, 4, 9}\n",
      "{1, 4}\n",
      "{1, 4}\n"
     ]
    }
   ],
   "source": [
    "set1 = set( [1, 2, 4, 4, 9] )\n",
    "set2 = set( [1, 3, 4] )\n",
    "print( set1 - set2 )\n",
    "print( set2.difference( set1 ) )\n",
    "print( set1 | set2 )\n",
    "print( set1.union( set2 ) )\n",
    "print( set1 & set2 )\n",
    "print( set1.intersection( set2 ) )"
   ]
  }
 ],
 "metadata": {
  "kernelspec": {
   "display_name": "Python 3.10.5 64-bit",
   "language": "python",
   "name": "python3"
  },
  "language_info": {
   "codemirror_mode": {
    "name": "ipython",
    "version": 3
   },
   "file_extension": ".py",
   "mimetype": "text/x-python",
   "name": "python",
   "nbconvert_exporter": "python",
   "pygments_lexer": "ipython3",
   "version": "3.11.4"
  },
  "orig_nbformat": 4,
  "vscode": {
   "interpreter": {
    "hash": "aee8b7b246df8f9039afb4144a1f6fd8d2ca17a180786b69acc140d282b71a49"
   }
  }
 },
 "nbformat": 4,
 "nbformat_minor": 2
}
